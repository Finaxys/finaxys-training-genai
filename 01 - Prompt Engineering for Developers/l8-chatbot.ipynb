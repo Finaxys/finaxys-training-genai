{
 "cells": [
  {
   "cell_type": "markdown",
   "id": "a9183228-0ba6-4af9-8430-649e28868253",
   "metadata": {
    "id": "JMXGlIvAwn30"
   },
   "source": [
    "# Le format Chat\n",
    "\n",
    "Dans ce notebook, vous explorerez comment vous pouvez utiliser le format de chat pour avoir des conversations prolongées avec des chatbots personnalisés ou spécialisés pour des tâches ou des comportements spécifiques.\n",
    "\n",
    "## Configuration"
   ]
  },
  {
   "cell_type": "code",
   "execution_count": null,
   "id": "7fa0d9b5",
   "metadata": {
    "tags": []
   },
   "outputs": [],
   "source": [
    "from openai import OpenAI\n",
    "import os\n",
    "\n",
    "from dotenv import load_dotenv, find_dotenv\n",
    "_ = load_dotenv(find_dotenv())\n",
    "\n",
    "client = OpenAI(\n",
    "    # This is the default and can be omitted\n",
    "    api_key=os.getenv('OPENAI_API_KEY')\n",
    ")\n"
   ]
  },
  {
   "cell_type": "code",
   "execution_count": null,
   "id": "f5308d65",
   "metadata": {
    "tags": []
   },
   "outputs": [],
   "source": [
    "def get_completion(prompt, model=\"gpt-4o-mini\"):\n",
    "    messages = [{\"role\": \"user\", \"content\": prompt}]\n",
    "    response = client.chat.completions.create(\n",
    "        messages=messages,\n",
    "        model=model,\n",
    "        temperature=temperature,\n",
    "    )\n",
    "    return response.choices[0].message.content\n",
    "\n",
    "def get_completion_from_messages(messages, model=\"gpt-4o-mini\", temperature=0):\n",
    "    response = client.chat.completions.create(\n",
    "        model=model,\n",
    "        messages=messages,\n",
    "        temperature=temperature, # this is the degree of randomness of the model's output\n",
    "    )\n",
    "    return response.choices[0].message.content"
   ]
  },
  {
   "cell_type": "markdown",
   "id": "8fbc5c32",
   "metadata": {},
   "source": [
    "![Chatbot 01](slides/chatbot_01.jpg)\n",
    "\n",
    "![Chatbot 02](slides/chatbot_02.jpg)\n",
    "\n",
    "![Chatbot 03](slides/chatbot_03.jpg)\n",
    "\n",
    "![Chatbot 04](slides/chatbot_04.jpg)"
   ]
  },
  {
   "cell_type": "code",
   "execution_count": null,
   "id": "cee681b7",
   "metadata": {
    "tags": []
   },
   "outputs": [],
   "source": [
    "messages =  [  \n",
    "{'role':'system', 'content':'Vous êtes un assistant qui parle comme Shakespeare.'},    \n",
    "{'role':'user', 'content':'Raconte moi une blague'},   \n",
    "{'role':'assistant', 'content':'Pourquoi les poulets traversent-ils la rue ?'},   \n",
    "{'role':'user', 'content':'Je ne sais pas'}  ]"
   ]
  },
  {
   "cell_type": "code",
   "execution_count": null,
   "id": "da45ea0f",
   "metadata": {
    "tags": []
   },
   "outputs": [],
   "source": [
    "response = get_completion_from_messages(messages, temperature=1)\n",
    "print(response)"
   ]
  },
  {
   "cell_type": "code",
   "execution_count": null,
   "id": "ca733f8f",
   "metadata": {
    "tags": []
   },
   "outputs": [],
   "source": [
    "messages =  [  \n",
    "{'role':'system', 'content':'Vous êtes un assistant amical.'},    \n",
    "{'role':'user', 'content':'Hey, je m\\'appelle Isa'}  ]\n",
    "response = get_completion_from_messages(messages, temperature=1)\n",
    "print(response)"
   ]
  },
  {
   "cell_type": "code",
   "execution_count": null,
   "id": "0ae595bc",
   "metadata": {
    "tags": []
   },
   "outputs": [],
   "source": [
    "messages =  [  \n",
    "{'role':'system', 'content':'Vous êtes un assistant amical.'},    \n",
    "{'role':'user', 'content':'Oui,  pouvez-vous vous souvenir de moi, quel est mon nom ?'}  ]\n",
    "response = get_completion_from_messages(messages, temperature=1)\n",
    "print(response)"
   ]
  },
  {
   "cell_type": "code",
   "execution_count": null,
   "id": "56cbb817",
   "metadata": {
    "tags": []
   },
   "outputs": [],
   "source": [
    "messages =  [  \n",
    "{'role':'system', 'content':'Vous êtes un assistant amical.'},\n",
    "{'role':'user', 'content':'Hey, je m\\'appelle Isa'},\n",
    "{'role':'assistant', 'content': \"Hey Isa! C'est un plaisir de faire connaissance. \\\n",
    "Est-ce qu'il y a quelque chose que je puisse faire pour vous ?\"},\n",
    "{'role':'user', 'content':'Oui,  pouvez-vous vous souvenir de moi, quel est mon nom ?'}  ]\n",
    "response = get_completion_from_messages(messages, temperature=1)\n",
    "print(response)"
   ]
  },
  {
   "cell_type": "markdown",
   "id": "dedba66a-58b0-40d4-b9ae-47e79ae22328",
   "metadata": {
    "id": "bBg_MpXeYnTq"
   },
   "source": [
    "# OrderBot\n",
    "Nous pouvons automatiser la collecte des messages des utilisateurs et des réponses de l'assistant pour créer un OrderBot. L'OrderBot prendra les commandes dans une pizzeria."
   ]
  },
  {
   "cell_type": "code",
   "execution_count": null,
   "id": "e76749ac",
   "metadata": {
    "tags": []
   },
   "outputs": [],
   "source": [
    "def collect_messages(_):\n",
    "    prompt = inp.value_input\n",
    "    inp.value = ''\n",
    "    context.append({'role':'user', 'content':f\"{prompt}\"})\n",
    "    response = get_completion_from_messages(context) \n",
    "    context.append({'role':'assistant', 'content':f\"{response}\"})\n",
    "    panels.append(\n",
    "        pn.Row('User:', pn.pane.Markdown(prompt, width=600)))\n",
    "    panels.append(\n",
    "        pn.Row('Assistant:', pn.pane.Markdown(response, width=600, styles={'background-color': '#F6F6F6'})))\n",
    " \n",
    "    return pn.Column(*panels)\n"
   ]
  },
  {
   "cell_type": "code",
   "execution_count": null,
   "id": "474b557c",
   "metadata": {
    "tags": []
   },
   "outputs": [],
   "source": [
    "import panel as pn  # GUI\n",
    "\n",
    "pn.extension()\n",
    "\n",
    "panels = [] # collect display \n",
    "\n",
    "context = [ {'role':'system', 'content':\"\"\"\n",
    "Vous êtes OrderBot, un service automatisé pour prendre \n",
    "les commandes dans une pizzeria.\n",
    "Vous commencez par saluer le client, puis vous prenez la commande,\n",
    "et ensuite vous demandez si c'est un retrait ou une livraison.\n",
    "Vous attendez de recevoir la commande complète, puis vous la \n",
    "récapitulez et vous vérifiez une dernière fois si le client \n",
    "souhaite ajouter quelque chose d'autre.\n",
    "Si c'est une livraison, vous demandez une adresse.\n",
    "Enfin, vous collectez le paiement.\n",
    "Assurez-vous de clarifier toutes les options, suppléments et \n",
    "tailles pour identifier de manière unique l'article du menu.\n",
    "Vous répondez de manière brève, très conviviale et amicale.\n",
    "Le menu inclut :\n",
    "pizza pepperoni 12.95, 10.00, 7.00 \\\n",
    "pizza au fromage   10.95, 9.25, 6.50 \\\n",
    "pizza aux aubergines   11.95, 9.75, 6.75 \\\n",
    "frites 4.50, 3.50 \\\n",
    "salade grecque 7.25 \\\n",
    "Garnitures : \\\n",
    "fromage supplémentaire 2.00, \\\n",
    "champignons 1.50 \\\n",
    "sauce 3.00 \\\n",
    "bacon 3.50 \\\n",
    "sauce IA 1.50 \\\n",
    "poivrons 1.00 \\\n",
    "Boissons : \\\n",
    "coca 3.00, 2.00, 1.00 \\\n",
    "sprite 3.00, 2.00, 1.00 \\\n",
    "Eau en bouteille 5.00 \\\n",
    "\"\"\"} ]  # accumulate messages\n",
    "\n",
    "\n",
    "inp = pn.widgets.TextInput(value=\"Hi\", placeholder='Saisir votre texte ici ... ')\n",
    "button_conversation = pn.widgets.Button(name=\"Chat!\")\n",
    "\n",
    "interactive_conversation = pn.bind(collect_messages, button_conversation)\n",
    "\n",
    "dashboard = pn.Column(\n",
    "    inp,\n",
    "    pn.Row(button_conversation),\n",
    "    pn.panel(interactive_conversation, loading_indicator=True, height=300),\n",
    ")\n",
    "\n",
    "dashboard"
   ]
  },
  {
   "cell_type": "code",
   "execution_count": null,
   "id": "a0ee11b9",
   "metadata": {},
   "outputs": [],
   "source": [
    "messages =  context.copy()\n",
    "messages.append(\n",
    "{'role':'system', 'content':'Créer un résumé en JSON de la commande précédente. Détaillez le prix de chaque article \\\n",
    " Les champs doivent être 1) pizza avec la taille 2) la liste des garnitures 3) la liste des boissons avec la taille  4) liste des accompagnements avec la taille  5) le prix total '},    \n",
    ")   \n",
    "\n",
    "response = get_completion_from_messages(messages, temperature=0)\n",
    "print(response)"
   ]
  },
  {
   "cell_type": "markdown",
   "id": "3153c581-1c72-497a-9293-8db3bcb804fc",
   "metadata": {},
   "source": [
    "## A vous de jouer !\n",
    "\n",
    "Vous pouvez modifier les instructions ou le menu pour créer votre propre OrderBot"
   ]
  },
  {
   "cell_type": "code",
   "execution_count": null,
   "id": "2cc84122",
   "metadata": {},
   "outputs": [],
   "source": []
  }
 ],
 "metadata": {
  "kernelspec": {
   "display_name": ".venv",
   "language": "python",
   "name": "python3"
  },
  "language_info": {
   "codemirror_mode": {
    "name": "ipython",
    "version": 3
   },
   "file_extension": ".py",
   "mimetype": "text/x-python",
   "name": "python",
   "nbconvert_exporter": "python",
   "pygments_lexer": "ipython3",
   "version": "3.12.0"
  }
 },
 "nbformat": 4,
 "nbformat_minor": 5
}
