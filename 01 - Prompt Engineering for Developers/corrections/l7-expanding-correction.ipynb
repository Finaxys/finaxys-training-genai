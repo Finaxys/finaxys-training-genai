{
 "cells": [
  {
   "cell_type": "code",
   "execution_count": 1,
   "metadata": {},
   "outputs": [],
   "source": [
    "from openai import OpenAI\n",
    "import os\n",
    "\n",
    "from dotenv import load_dotenv, find_dotenv\n",
    "_ = load_dotenv(find_dotenv())\n",
    "\n",
    "client = OpenAI(\n",
    "    # This is the default and can be omitted\n",
    "    api_key=os.getenv('OPENAI_API_KEY')\n",
    ")"
   ]
  },
  {
   "cell_type": "code",
   "execution_count": 2,
   "metadata": {},
   "outputs": [],
   "source": [
    "def get_completion(prompt, model=\"gpt-4o-mini\", temperature=0):\n",
    "    messages = [{\"role\": \"user\", \"content\": prompt}]\n",
    "    response = client.chat.completions.create(\n",
    "        messages=messages,\n",
    "        model=model,\n",
    "        temperature=temperature,\n",
    "    )\n",
    "    return response.choices[0].message.content"
   ]
  },
  {
   "cell_type": "code",
   "execution_count": 3,
   "metadata": {},
   "outputs": [],
   "source": [
    "# A partir du sentiment de l'utilisateur et du message client original, personnalisez l'e-mail envoyé\n",
    "sentiment = \"negative\"\n",
    "\n",
    "# Commentaires sur un blender\n",
    "review = f\"\"\"\n",
    "Donc, ils avaient toujours le système de 17 pièces en promotion \n",
    "saisonnière pour environ 49 $ au mois de novembre, soit environ \n",
    "la moitié du prix, mais pour une raison quelconque (appelons cela \n",
    "de l'augmentation abusive des prix), autour de la deuxième semaine \n",
    "de décembre, les prix sont tous montés entre 70 et 89 € pour le \n",
    "même système. Et le système de 11 pièces a également augmenté \n",
    "d'environ 10 € par rapport au prix de vente précédent de 29 €.\n",
    "\n",
    "Cela a l'air correct, mais si vous regardez la base, la partie où \n",
    "la lame se fixe en place ne semble pas aussi bonne que dans les \n",
    "éditions précédentes d'il y a quelques années. Mais je prévois d'être \n",
    "très doux avec elle (par exemple, je broie des éléments très durs comme \n",
    "des haricots, de la glace, du riz, etc. dans le mixeur d'abord, puis \n",
    "je les pulvérise dans la taille de portion que je veux dans le mixeur, \n",
    "puis je passe à la lame à fouetter pour obtenir une farine plus fine, \n",
    "et j'utilise d'abord la lame à découper en croix lorsque je fais des \n",
    "smoothies, puis j'utilise la lame plate si j'en ai besoin plus fine/moins \n",
    "pulpeuse).\n",
    "\n",
    "Conseil spécial lors de la préparation de smoothies : coupez finement et \n",
    "congelez les fruits et légumes (si vous utilisez des épinards, faites-les \n",
    "légèrement mijoter pour les ramollir, puis congelez jusqu'à utilisation), \n",
    "cela vous permettra d'éviter d'ajouter trop de glace, si tant est que ce \n",
    "soit le cas, lors de la préparation de votre smoothie.\n",
    "\n",
    "Après environ un an, le moteur faisait un bruit étrange. J'ai appelé le \n",
    "service client, mais la garantie avait déjà expiré, donc j'ai dû en acheter \n",
    "un autre. Pour info : la qualité générale de ces types de produits a diminué, \n",
    "donc ils comptent un peu sur la reconnaissance de la marque et la fidélité des \n",
    "consommateurs pour maintenir les ventes. Je l'ai reçu en environ deux jours.\n",
    "\"\"\""
   ]
  },
  {
   "cell_type": "markdown",
   "metadata": {},
   "source": [
    "## Rappeler au modèle d'utiliser des détails de l'e-mail du client."
   ]
  },
  {
   "cell_type": "code",
   "execution_count": 4,
   "metadata": {},
   "outputs": [
    {
     "name": "stdout",
     "output_type": "stream",
     "text": [
      "Objet : Merci pour votre retour\n",
      "\n",
      "Cher(e) client(e),\n",
      "\n",
      "Merci d'avoir pris le temps de partager votre avis détaillé concernant votre expérience avec notre produit. Nous sommes désolés d'apprendre que vous avez rencontré des problèmes avec le moteur après un an d'utilisation et que vous avez constaté une augmentation des prix qui vous a déçu.\n",
      "\n",
      "Nous comprenons à quel point cela peut être frustrant, et nous vous prions de nous excuser pour les désagréments occasionnés. Votre retour est précieux et nous aide à améliorer nos produits et services. Nous vous encourageons à contacter notre service client pour toute assistance supplémentaire ou pour discuter de vos préoccupations.\n",
      "\n",
      "Nous vous remercions encore pour votre fidélité et vos conseils sur l'utilisation de nos produits.\n",
      "\n",
      "Cordialement,\n",
      "\n",
      "Agent client AI\n"
     ]
    }
   ],
   "source": [
    "prompt = f\"\"\"\n",
    "Vous êtes un assistant AI de service client.\n",
    "Votre tâche consiste à envoyer une réponse par e-mail à un client important.\n",
    "Étant donné l'e-mail du client délimité par des triples accents graves,\n",
    "générez une réponse pour remercier le client pour son avis.\n",
    "Si le sentiment est positif ou neutre, remerciez-les pour leur avis.\n",
    "Si le sentiment est négatif, excusez-vous et suggérez-leur de contacter le service client.\n",
    "Assurez-vous d'utiliser des détails spécifiques de l'avis.\n",
    "Écrivez de manière concise et professionnelle.\n",
    "Signez l'e-mail en tant qu''agent client AI'.\n",
    "Avis du client :  ```{review}```\n",
    "Critique du sentiment : {sentiment}\n",
    "\"\"\"\n",
    "response = get_completion(prompt)\n",
    "print(response)"
   ]
  }
 ],
 "metadata": {
  "kernelspec": {
   "display_name": ".venv",
   "language": "python",
   "name": "python3"
  },
  "language_info": {
   "codemirror_mode": {
    "name": "ipython",
    "version": 3
   },
   "file_extension": ".py",
   "mimetype": "text/x-python",
   "name": "python",
   "nbconvert_exporter": "python",
   "pygments_lexer": "ipython3",
   "version": "3.12.0"
  }
 },
 "nbformat": 4,
 "nbformat_minor": 2
}
