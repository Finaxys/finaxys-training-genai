{
 "cells": [
  {
   "cell_type": "markdown",
   "metadata": {},
   "source": [
    "# Directives pour la rédaction de prompts"
   ]
  },
  {
   "cell_type": "code",
   "execution_count": 1,
   "metadata": {},
   "outputs": [],
   "source": [
    "from openai import OpenAI\n",
    "import os\n",
    "\n",
    "from dotenv import load_dotenv, find_dotenv\n",
    "_ = load_dotenv(find_dotenv())\n",
    "\n",
    "client = OpenAI(\n",
    "    # This is the default and can be omitted\n",
    "    api_key=os.getenv('OPENAI_API_KEY')\n",
    ")"
   ]
  },
  {
   "cell_type": "code",
   "execution_count": 2,
   "metadata": {},
   "outputs": [],
   "source": [
    "def get_completion(prompt, model=\"gpt-4o-mini\"):\n",
    "    messages = [{\"role\": \"user\", \"content\": prompt}]\n",
    "    response = client.chat.completions.create(\n",
    "        messages=messages,\n",
    "        model=model,\n",
    "        temperature=0,\n",
    "    )\n",
    "    return response.choices[0].message.content"
   ]
  },
  {
   "cell_type": "markdown",
   "metadata": {},
   "source": [
    "Demandons au modèle d'élaborer sa propre solution avant de se précipiter vers une conclusion."
   ]
  },
  {
   "cell_type": "code",
   "execution_count": 3,
   "metadata": {},
   "outputs": [
    {
     "name": "stdout",
     "output_type": "stream",
     "text": [
      "```\n",
      "Soit x la taille du terrain en mètres carrés.\n",
      "\n",
      "1. Coût du terrain : 100 € par mètre carré, donc pour x mètres carrés, le coût est 100x.\n",
      "2. Coût des panneaux solaires : 250 € par mètre carré, donc pour x mètres carrés, le coût est 250x.\n",
      "3. Coût de maintenance : 100 000 € par an (montant forfaitaire) + 10 € par mètre carré, donc pour x mètres carrés, le coût est 100 000 + 10x.\n",
      "\n",
      "Pour obtenir le coût total pour la première année d'exploitation, nous additionnons tous ces coûts :\n",
      "\n",
      "Coût total = Coût du terrain + Coût des panneaux solaires + Coût de maintenance\n",
      "Coût total = 100x + 250x + (100 000 + 10x)\n",
      "Coût total = 100x + 250x + 100 000 + 10x\n",
      "Coût total = (100x + 250x + 10x) + 100 000\n",
      "Coût total = 360x + 100 000\n",
      "```\n",
      "\n",
      "Est-ce que la solution de l'élève est la même que la solution réelle ?\n",
      "```\n",
      "non\n",
      "```\n",
      "Note de l'élève :\n",
      "```\n",
      "incorrect\n",
      "```\n"
     ]
    }
   ],
   "source": [
    "prompt = f\"\"\"\n",
    "Déterminez si la solution de l'élève est correcte ou non.\n",
    "\n",
    "Pour résoudre le problème, suivez ces étapes :\n",
    "- Premièrement, travaillez sur votre propre solution au problème.\n",
    "- Puis comparez votre solution à celle de l'élève et évaluez \n",
    "si la solution de l'élève est correcte ou non.\n",
    "Ne décidez pas si la solution de l'élève est correcte avant \n",
    "d'avoir résolu le problème vous-même.\n",
    "\n",
    "Utilisez le format suivant pour votre réponse :\n",
    "Question:\n",
    "```\n",
    "question ici\n",
    "```\n",
    "La réponse de l'élève :\n",
    "```\n",
    "la réponse de l'élève ici\n",
    "```\n",
    "Solution réelle :\n",
    "```\n",
    "les étapes pour résoudre le problème et votre solution ici\n",
    "```\n",
    "Est-ce que la solution de l'élève est la même que la solution réelle \n",
    "```\n",
    "oui ou non\n",
    "```\n",
    "Note de l'élève :\n",
    "```\n",
    "correct ou incorrect\n",
    "```\n",
    "\n",
    "Question:\n",
    "```\n",
    "Je construis une installation solaire et j'ai besoin \n",
    "d'aide pour établir les aspects financiers.\"\n",
    "- Le terrain coûte 100€ / mètre carré\n",
    "- Je peux acheter des panneaux solaires 250€ / mètre carré\n",
    "- J'ai négocié un contrat de maintenance qui me coûtera un \n",
    "montant forfaitaire de 100k € par an, plus 10 € par mètre carré.\n",
    "\n",
    "Quel est le coût total pour la première année d'exploitation \n",
    "en fonction du nombre de pieds carrés ?\n",
    "``` \n",
    "La solution de l'étudiant :\n",
    "```\n",
    "Soit x la taille du terrain en mètre carré.\n",
    "Coûts :\n",
    "1. Coût du terrain : 100x\n",
    "2. Coût des panneaux solaires : 250x\n",
    "3. Coût de maintenance : 100 000 + 100x\n",
    "Coût total : 100x + 250x + 100,000 + 100x = 450x + 100 000\n",
    "```\n",
    "Solution réelle :\n",
    "\"\"\"\n",
    "response = get_completion(prompt)\n",
    "print(response)"
   ]
  }
 ],
 "metadata": {
  "kernelspec": {
   "display_name": ".venv",
   "language": "python",
   "name": "python3"
  },
  "language_info": {
   "codemirror_mode": {
    "name": "ipython",
    "version": 3
   },
   "file_extension": ".py",
   "mimetype": "text/x-python",
   "name": "python",
   "nbconvert_exporter": "python",
   "pygments_lexer": "ipython3",
   "version": "3.12.0"
  }
 },
 "nbformat": 4,
 "nbformat_minor": 2
}
