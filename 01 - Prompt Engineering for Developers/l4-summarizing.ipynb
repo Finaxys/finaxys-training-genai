{
 "cells": [
  {
   "cell_type": "markdown",
   "id": "87857393-6369-4b66-87c9-5f3253edf28e",
   "metadata": {},
   "source": [
    "# Générer des résumés\n",
    "Dans cette leçon, vous résumerez des textes en vous concentrant sur des sujets spécifiques.\n",
    "\n",
    "## Configuration"
   ]
  },
  {
   "cell_type": "code",
   "execution_count": 1,
   "id": "8ac673e1",
   "metadata": {},
   "outputs": [],
   "source": [
    "from openai import OpenAI\n",
    "import os\n",
    "\n",
    "from dotenv import load_dotenv, find_dotenv\n",
    "_ = load_dotenv(find_dotenv())\n",
    "\n",
    "client = OpenAI(\n",
    "    # This is the default and can be omitted\n",
    "    api_key=os.getenv('OPENAI_API_KEY')\n",
    ")\n"
   ]
  },
  {
   "cell_type": "code",
   "execution_count": 2,
   "id": "66de8ca6",
   "metadata": {},
   "outputs": [],
   "source": [
    "def get_completion(prompt, model=\"gpt-4o-mini\"):\n",
    "    messages = [{\"role\": \"user\", \"content\": prompt}]\n",
    "    response = client.chat.completions.create(\n",
    "        messages=messages,\n",
    "        model=model,\n",
    "        temperature=0,\n",
    "    )\n",
    "    return response.choices[0].message.content"
   ]
  },
  {
   "cell_type": "markdown",
   "id": "387b0686-bea6-41a2-b879-88721dc0ec10",
   "metadata": {},
   "source": [
    "## Texte à résumer"
   ]
  },
  {
   "cell_type": "code",
   "execution_count": 3,
   "id": "0ce2cf3c",
   "metadata": {},
   "outputs": [],
   "source": [
    "prod_review = \"\"\"\n",
    "J'ai acheté ce panda en peluche pour l'anniversaire de ma fille, \n",
    "qui l'adore et l'emporte partout. Il est doux et super mignon, \n",
    "et son visage a une expression amicale. Il est cependant un peu \n",
    "petit par rapport à ce que j'ai payé. Je pense qu'il pourrait y \n",
    "avoir d'autres options plus grandes pour le même prix. Il est \n",
    "arrivé un jour plus tôt que prévu, donc j'ai pu jouer avec avant \n",
    "de le lui donner.\n",
    "\"\"\""
   ]
  },
  {
   "cell_type": "markdown",
   "id": "5d95eba0-7744-491a-a30a-8ee687303b7a",
   "metadata": {},
   "source": [
    "## Résumer avec une limitation de mots, de phrase ou de nombre de caractères"
   ]
  },
  {
   "cell_type": "code",
   "execution_count": 4,
   "id": "0c3023c6",
   "metadata": {},
   "outputs": [
    {
     "name": "stdout",
     "output_type": "stream",
     "text": [
      "Panda en peluche doux et mignon, adoré par ma fille, mais un peu petit pour le prix. Livraison rapide appréciée.\n"
     ]
    }
   ],
   "source": [
    "prompt = f\"\"\"\n",
    "Votre tâche est de générer un court résumé d'un avis sur un produit \n",
    "provenant d'un site de commerce électronique.\n",
    "\n",
    "Résumez l'avis ci-dessous, délimité par des triples accents graves, \n",
    "en au maximum 30 mots.\n",
    "\n",
    "Avis : ```{prod_review}```\n",
    "\"\"\"\n",
    "\n",
    "response = get_completion(prompt)\n",
    "print(response)\n"
   ]
  },
  {
   "cell_type": "markdown",
   "id": "90832908-3b3a-459b-b595-bbe15c2a72fa",
   "metadata": {},
   "source": [
    "## Résumer en se concentrant sur l'expédition et la livraison."
   ]
  },
  {
   "cell_type": "code",
   "execution_count": 5,
   "id": "d850bdd2",
   "metadata": {},
   "outputs": [
    {
     "name": "stdout",
     "output_type": "stream",
     "text": [
      "L'expédition a été rapide, le produit est arrivé un jour plus tôt que prévu, permettant une surprise avant l'anniversaire.\n"
     ]
    }
   ],
   "source": [
    "prompt = f\"\"\"\n",
    "Votre tâche est de générer un court résumé d'un avis sur \n",
    "un produit provenant d'un site de commerce électronique \n",
    "pour donner un retour au service expédition.\n",
    "\n",
    "Résumez l'avis ci-dessous, délimité par des triples accents \n",
    "graves, en au maximum 30 mots, en vous concentrant sur tous \n",
    "les aspects mentionnant l'expédition et la livraison du produit.\n",
    "\n",
    "Avis : ```{prod_review}```\n",
    "\"\"\"\n",
    "\n",
    "response = get_completion(prompt)\n",
    "print(response)\n"
   ]
  },
  {
   "cell_type": "markdown",
   "id": "01204385-1d27-420c-80ee-bd4b524550f6",
   "metadata": {},
   "source": [
    "## Résumer en se concentrant sur le prix et la valeur"
   ]
  },
  {
   "cell_type": "code",
   "execution_count": 6,
   "id": "6d865432",
   "metadata": {},
   "outputs": [
    {
     "name": "stdout",
     "output_type": "stream",
     "text": [
      "Le panda en peluche est adorable et apprécié, mais sa taille par rapport au prix est décevante. D'autres options plus grandes pourraient offrir un meilleur rapport qualité-prix.\n"
     ]
    }
   ],
   "source": [
    "prompt = f\"\"\"\n",
    "Votre tâche est de générer un court résumé d'un avis sur un produit \n",
    "provenant d'un site de commerce électronique pour donner un retour \n",
    "au service des prix, responsable de la détermination du prix du produit.\n",
    "\n",
    "Résumez l'avis ci-dessous, délimité par des triples accents graves, en \n",
    "au maximum 30 mots, en vous concentrant sur tous les aspects pertinents \n",
    "lié au prix et à la valeur perçue.\n",
    "\n",
    "Avis : ```{prod_review}```\n",
    "\"\"\"\n",
    "\n",
    "response = get_completion(prompt)\n",
    "print(response)\n"
   ]
  },
  {
   "cell_type": "markdown",
   "id": "21a561c4-d9a0-48a8-86c4-725746fb08df",
   "metadata": {},
   "source": [
    "#### Commentaires\n",
    "- Les résumés incluent des sujets qui ne sont pas liés au sujet de concentration."
   ]
  },
  {
   "cell_type": "markdown",
   "id": "9aff99cd-dc09-467c-bd09-897ffe06a232",
   "metadata": {},
   "source": [
    "## Essayez \"extraire\" au lieu de \"résumer\"."
   ]
  },
  {
   "cell_type": "code",
   "execution_count": 7,
   "id": "190943b0",
   "metadata": {},
   "outputs": [
    {
     "name": "stdout",
     "output_type": "stream",
     "text": [
      "L'article est arrivé un jour plus tôt que prévu, permettant de jouer avec avant de le donner.\n"
     ]
    }
   ],
   "source": [
    "prompt = f\"\"\"\n",
    "Votre tâche est d'extraire des informations pertinentes d'un avis \n",
    "sur un produit provenant d'un site de commerce électronique pour \n",
    "donner un retour au service expédition.\n",
    "\n",
    "À partir de l'avis ci-dessous, délimité par des triples accents \n",
    "graves, extrayez les informations pertinentes concernant l'expédition \n",
    "et la livraison. Limitez-vous à 30 mots.\n",
    "\n",
    "Avis : ```{prod_review}```\n",
    "\"\"\"\n",
    "\n",
    "response = get_completion(prompt)\n",
    "print(response)"
   ]
  },
  {
   "cell_type": "markdown",
   "id": "f513da2e-f89c-4c91-8456-b79c630e70c9",
   "metadata": {},
   "source": [
    "## Résumer plusieurs avis"
   ]
  },
  {
   "cell_type": "code",
   "execution_count": null,
   "id": "027822c2",
   "metadata": {},
   "outputs": [],
   "source": [
    "\n",
    "review_1 = prod_review \n",
    "\n",
    "# Avis sur une lampe\n",
    "review_2 = \"\"\"\n",
    "J'avais besoin d'une belle lampe pour ma chambre, et celle-ci offrait \n",
    "un espace de rangement supplémentaire à un prix raisonnable. Elle est \n",
    "arrivée rapidement en 2 jours. Le cordon de la lampe s'est cassé pendant \n",
    "le transport, et l'entreprise a rapidement envoyé un nouveau cordon, qui \n",
    "est également arrivé en quelques jours.\n",
    "\"\"\"\n",
    "\n",
    "# Avis sur une brosse à dents électrique\n",
    "review_3 = \"\"\"\n",
    "Mon dentiste m'a recommandé une brosse à dents électrique, \n",
    "c'est pourquoi je l'ai achetée. L'autonomie de la batterie \n",
    "semble impressionnante jusqu'à présent. Après une charge \n",
    "initiale et une semaine de recharge, j'utilise la brosse deux \n",
    "fois par jour depuis trois semaines sur la même charge. Cependant, \n",
    "la tête de la brosse est trop petite. Je souhaite qu'elle soit plus \n",
    "grande avec des poils de différentes longueurs pour mieux nettoyer \n",
    "entre les dents. Si vous pouvez l'obtenir autour de 50 €, c'est une \n",
    "bonne affaire. Les têtes de rechange du fabricant sont chères, mais \n",
    "des options génériques à prix raisonnable sont disponibles. Cette brosse \n",
    "à dents me donne l'impression d'être allé chez le dentiste chaque jour.\n",
    "Mes dents sont étincelantes de propreté !\n",
    "\"\"\"\n",
    "\n",
    "# Avis sur un mixeur\n",
    "review_4 = \"\"\"\n",
    "Ils avaient encore le système de 17 pièces en promotion saisonnière à \n",
    "environ 49 € en novembre, soit environ la moitié du prix, mais pour une \n",
    "raison quelconque (on peut l'appeler exploitation des prix), vers la \n",
    "deuxième semaine de décembre, les prix ont tous augmenté entre 70 et 89 € \n",
    "pour le même système. Le système de 11 pièces a également augmenté d'environ \n",
    "10 € par rapport à l'ancien prix de vente de 29 €. Il a l'air correct, mais \n",
    "la base, où la lame se fixe, ne semble pas aussi bonne que dans les éditions \n",
    "précédentes. J'ai l'intention d'être très doux avec, en écrasant d'abord des \n",
    "éléments durs comme des haricots, de la glace et du riz, puis en les \n",
    "pulvérisant dans la taille de portion souhaitée dans le mélangeur.\n",
    "Après environ un an, le moteur faisait un bruit étrange. J'ai appelé le service\n",
    "client, mais la garantie avait déjà expiré, donc j'ai dû en acheter un autre.\n",
    "En gros, la qualité générale a diminué, donc ils comptent un peu sur la \n",
    "reconnaissance de la marque et la fidélité des consommateurs pour maintenir \n",
    "les ventes. Je l'ai reçu en environ deux jours.\n",
    "\"\"\"\n",
    "\n",
    "reviews = [review_1, review_2, review_3, review_4]\n",
    "\n"
   ]
  },
  {
   "cell_type": "code",
   "execution_count": null,
   "id": "b7c39cc8",
   "metadata": {},
   "outputs": [],
   "source": [
    "for i in range(len(reviews)):\n",
    "    prompt = f\"\"\"\n",
    "    Votre tâche est de générer un court résumé d'un avis sur un produit provenant \n",
    "    d'un site de commerce électronique.\n",
    "\n",
    "    Résumez l'avis ci-dessous, délimité par des triples accents graves, en au maximum 20 mots.\n",
    "\n",
    "    Avis : ```{reviews[i]}```\n",
    "    \"\"\"\n",
    "\n",
    "    response = get_completion(prompt)\n",
    "    print(i, response, \"\\n\")\n"
   ]
  },
  {
   "cell_type": "markdown",
   "id": "e0c9f921-8672-4124-bad6-8bee65078ccb",
   "metadata": {},
   "source": [
    "## A vous de jouer !"
   ]
  },
  {
   "cell_type": "code",
   "execution_count": null,
   "id": "d05d8a20-86f2-4613-835e-41c49a504b5b",
   "metadata": {},
   "outputs": [],
   "source": []
  }
 ],
 "metadata": {
  "kernelspec": {
   "display_name": ".venv",
   "language": "python",
   "name": "python3"
  },
  "language_info": {
   "codemirror_mode": {
    "name": "ipython",
    "version": 3
   },
   "file_extension": ".py",
   "mimetype": "text/x-python",
   "name": "python",
   "nbconvert_exporter": "python",
   "pygments_lexer": "ipython3",
   "version": "3.12.0"
  }
 },
 "nbformat": 4,
 "nbformat_minor": 5
}
