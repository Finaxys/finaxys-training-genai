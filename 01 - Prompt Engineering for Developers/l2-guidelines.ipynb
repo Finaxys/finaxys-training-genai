{
 "cells": [
  {
   "cell_type": "markdown",
   "id": "7ebe2e9d-685d-4ea3-ab7c-9589caaabff5",
   "metadata": {},
   "source": [
    "# Directives pour la création de prompts\n",
    "Dans cette leçon, vous allez pratiquer deux principes de création de prompts ainsi que les tactiques associées afin de rédiger des prompts efficaces pour les grands modèles de langage.\n",
    "\n",
    "## Configuration\n",
    "### Chargez la clé API et les bibliothèques Python pertinentes."
   ]
  },
  {
   "cell_type": "markdown",
   "id": "00bab499-9a50-4bd0-a622-1c914c6ccc29",
   "metadata": {},
   "source": [
    "Dans ce cours, nous avons fourni du code qui charge pour vous la clé API OpenAI."
   ]
  },
  {
   "cell_type": "code",
   "execution_count": 2,
   "id": "6c382975",
   "metadata": {},
   "outputs": [],
   "source": [
    "from openai import OpenAI\n",
    "import os\n",
    "\n",
    "from dotenv import load_dotenv, find_dotenv\n",
    "_ = load_dotenv(find_dotenv())\n",
    "\n",
    "client = OpenAI(\n",
    "    # This is the default and can be omitted\n",
    "    api_key=os.getenv('OPENAI_API_KEY')\n",
    ")\n"
   ]
  },
  {
   "cell_type": "markdown",
   "id": "a3acefa8-f8f1-4ef8-932e-9bcefa142666",
   "metadata": {},
   "source": [
    "#### Fonction générique pour utiliser le modèle gpt-4o-mini\n",
    "Tout au long de ce cours, nous utiliserons le modèle `gpt-4o-mini` ainsi que [le endpoint de chat](https://platform.openai.com/docs/guides/chat). \n",
    "\n",
    "Cette fonction facilitera l'utilisation des prompts et l'examen des sorties générées :"
   ]
  },
  {
   "cell_type": "code",
   "execution_count": 3,
   "id": "a7dff174",
   "metadata": {},
   "outputs": [],
   "source": [
    "def get_completion(prompt, model=\"gpt-4o-mini\"):\n",
    "    messages = [{\"role\": \"user\", \"content\": prompt}]\n",
    "    response = client.chat.completions.create(\n",
    "        messages=messages,\n",
    "        model=model,\n",
    "        temperature=0,\n",
    "    )\n",
    "    return response.choices[0].message.content"
   ]
  },
  {
   "cell_type": "markdown",
   "id": "3b62298e-2181-4e73-bb40-77e20c655231",
   "metadata": {},
   "source": [
    "## Principes de création de prompts\n",
    "- **Principe 1 : Rédigez des instructions claires et spécifiques**\n",
    "- **Principe 2 : Donnez au modèle le temps de \"réfléchir\"**"
   ]
  },
  {
   "cell_type": "markdown",
   "id": "9bfea8d1",
   "metadata": {},
   "source": [
    "![Principes de prompt 01](slides/principes_de_prompts_01.jpg)"
   ]
  },
  {
   "cell_type": "markdown",
   "id": "96b307ab",
   "metadata": {},
   "source": [
    "### Tactiques\n",
    "\n",
    "#### Tactique 1 : Utilisez des délimiteurs pour indiquer clairement les parties distinctes de l'entrée\n",
    "- Les délimiteurs peuvent être des éléments tels que : ` ``` `, `\"\"\"`, `< >`, `<tag> </tag>`, `:`\n",
    "\n",
    "![Principes de prompt 02](slides/principes_de_prompts_02.jpg)"
   ]
  },
  {
   "cell_type": "markdown",
   "id": "d86bb74e",
   "metadata": {},
   "source": [
    "![Principes de prompt 03](slides/principes_de_prompts_03.jpg)"
   ]
  },
  {
   "cell_type": "code",
   "execution_count": 5,
   "id": "87121316",
   "metadata": {},
   "outputs": [
    {
     "name": "stdout",
     "output_type": "stream",
     "text": [
      "Pour obtenir des résultats pertinents d'un modèle, il est essentiel de fournir des instructions claires et spécifiques, même si cela implique des prompts plus longs.\n"
     ]
    }
   ],
   "source": [
    "text = f\"\"\"\n",
    "Vous devez exprimer ce que vous voulez que le modèle \n",
    "fasse en fournissant des instructions aussi claires \n",
    "et spécifiques que possible.\n",
    "Cela guidera le modèle vers la sortie souhaitée et \n",
    "réduira les risques de recevoir des réponses non \n",
    "pertinentes ou incorrectes.\n",
    "Ne confondez pas la rédaction d'un prompt clair avec \n",
    "la rédaction d'un prompt court.\n",
    "Dans de nombreux cas, des prompts plus longs apportent \n",
    "plus de clarté et de contexte au modèle, ce qui peut \n",
    "conduire à des résultats plus détaillés et pertinents.\n",
    "\"\"\"\n",
    "prompt = f\"\"\"\n",
    "Résume le texte délimité par des triples accents graves en une seule phrase.\n",
    "```{text}```\n",
    "\"\"\"\n",
    "response = get_completion(prompt)\n",
    "print(response)"
   ]
  },
  {
   "cell_type": "markdown",
   "id": "f2798f3d-7618-4ac5-a6b2-3c69c537903d",
   "metadata": {},
   "source": [
    "#### Tactique 2 : Demandez une sortie structurée\n",
    "- JSON, HTML"
   ]
  },
  {
   "cell_type": "code",
   "execution_count": 6,
   "id": "6b50bbbd",
   "metadata": {},
   "outputs": [
    {
     "name": "stdout",
     "output_type": "stream",
     "text": [
      "Voici une liste de trois titres de livres fictifs au format JSON :\n",
      "\n",
      "```json\n",
      "[\n",
      "    {\n",
      "        \"book_id\": 1,\n",
      "        \"title\": \"Les Échos du Temps\",\n",
      "        \"author\": \"Clara Dupont\",\n",
      "        \"genre\": \"Science-fiction\"\n",
      "    },\n",
      "    {\n",
      "        \"book_id\": 2,\n",
      "        \"title\": \"Le Mystère de la Forêt Enchantée\",\n",
      "        \"author\": \"Julien Martin\",\n",
      "        \"genre\": \"Fantasy\"\n",
      "    },\n",
      "    {\n",
      "        \"book_id\": 3,\n",
      "        \"title\": \"Sous le Ciel de Paris\",\n",
      "        \"author\": \"Sophie Laurent\",\n",
      "        \"genre\": \"Roman contemporain\"\n",
      "    }\n",
      "]\n",
      "```\n"
     ]
    }
   ],
   "source": [
    "prompt = f\"\"\"\n",
    "Générez une liste de trois titres de livres fictifs accompagnés \n",
    "de leurs auteurs et genres.\n",
    "Présentez-les au format JSON avec les clés suivantes : \n",
    "book_id, title, author, genre.\n",
    "\"\"\"\n",
    "response = get_completion(prompt)\n",
    "print(response)"
   ]
  },
  {
   "cell_type": "markdown",
   "id": "22a71c4f-b1f1-4d67-ad5a-e49fc1e3147d",
   "metadata": {},
   "source": [
    "#### Tactique 3 : Demandez au modèle de vérifier si les conditions sont satisfaites."
   ]
  },
  {
   "cell_type": "code",
   "execution_count": 7,
   "id": "f0ae612e",
   "metadata": {},
   "outputs": [
    {
     "name": "stdout",
     "output_type": "stream",
     "text": [
      "Résultat pour le texte 1:\n",
      "Etape 1 - Faire bouillir de l'eau.  \n",
      "Etape 2 - Prendre une tasse et mettre un sachet de thé à l'intérieur.  \n",
      "Etape 3 - Verser l'eau chaude sur le sachet de thé.  \n",
      "Etape 4 - Laisser infuser pendant quelques minutes.  \n",
      "Etape 5 - Retirer le sachet de thé.  \n",
      "Etape 6 - Ajouter du sucre ou du lait selon votre goût, si désiré.  \n",
      "Etape 7 - Déguster votre tasse de thé.  \n"
     ]
    }
   ],
   "source": [
    "text_1 = f\"\"\"\n",
    "Faire une tasse de thé est facile ! Tout d'abord, \n",
    "vous devez faire bouillir de l'eau. Pendant que cela \n",
    "se passe, prenez une tasse et mettez un sachet de thé \n",
    "à l'intérieur. Une fois que l'eau est suffisamment \n",
    "chaude, il suffit de la verser sur le sachet de thé.\n",
    "Laissez infuser un moment pour que le thé puisse se \n",
    "développer. Après quelques minutes, retirez le sachet \n",
    "de thé. Si vous le souhaitez, vous pouvez ajouter un \n",
    "peu de sucre ou de lait selon votre goût. Et voilà !\n",
    "Vous avez une délicieuse tasse de thé à déguster.\n",
    "\"\"\"\n",
    "prompt = f\"\"\"\n",
    "Vous recevrez un texte délimité par des triples guillemets.\n",
    "S'il contient une séquence d'instructions, \n",
    "reformulez ces instructions au format suivant :\n",
    "\n",
    "Etape 1 - ...\n",
    "Etape 2 - …\n",
    "…\n",
    "Etape N - …\n",
    "\n",
    "Si le texte ne contient pas de séquence d'instructions, écrivez simplement \n",
    "\\\" Aucune étape fournie. \\\"\n",
    "\n",
    "\\\"\\\"\\\"{text_1}\\\"\\\"\\\"\n",
    "\"\"\"\n",
    "response = get_completion(prompt)\n",
    "print(\"Résultat pour le texte 1:\")\n",
    "print(response)"
   ]
  },
  {
   "cell_type": "code",
   "execution_count": 8,
   "id": "76b6cc59",
   "metadata": {},
   "outputs": [
    {
     "name": "stdout",
     "output_type": "stream",
     "text": [
      "Résultats pour le texte 2 :\n",
      "Aucune étape fournie.\n"
     ]
    }
   ],
   "source": [
    "text_2 = f\"\"\"\n",
    "Le soleil brille de mille feux aujourd'hui et les oiseaux chantent.\n",
    "C'est une belle journée pour se promener dans le parc.\n",
    "Les fleurs sont en fleurs et les arbres se balancent \n",
    "doucement dans la brise. Les gens sont dehors, profitant du \n",
    "temps agréable. Certains font des pique-niques, tandis que \n",
    "d'autres jouent à des jeux ou se détendent simplement sur l'herbe. \n",
    "C'est une journée parfaite pour passer du temps à l'extérieur \n",
    "et apprécier la beauté de la nature.\n",
    "\"\"\"\n",
    "prompt = f\"\"\"\n",
    "Vous recevrez un texte délimité par des triples guillemets.\n",
    "S'il contient une séquence d'instructions, \n",
    "reformulez ces instructions au format suivant :\n",
    "\n",
    "Etape 1 - ...\n",
    "Etape 2 - …\n",
    "…\n",
    "Etape N - …\n",
    "\n",
    "Si le texte ne contient pas de séquence d'instructions, écrivez simplement \n",
    "\\\" Aucune étape fournie. \\\"\n",
    "\n",
    "\\\"\\\"\\\"{text_2}\\\"\\\"\\\"\n",
    "\"\"\"\n",
    "response = get_completion(prompt)\n",
    "print(\"Résultats pour le texte 2 :\")\n",
    "print(response)"
   ]
  },
  {
   "cell_type": "markdown",
   "id": "3c5866b8-d8c7-4e19-93db-401315f64954",
   "metadata": {},
   "source": [
    "#### Tactique 4: \"Few-shot\" prompting"
   ]
  },
  {
   "cell_type": "code",
   "execution_count": 9,
   "id": "82ce1540",
   "metadata": {},
   "outputs": [
    {
     "name": "stdout",
     "output_type": "stream",
     "text": [
      "<grandparent>: Regarde l'arbre qui plie sous le vent mais ne rompt jamais. Ses racines s'enfoncent plus profondément dans la terre après chaque tempête. Chaque cicatrice sur son tronc raconte une histoire de lutte et de force, et pourtant, il continue de grandir, de fleurir, et de donner de l'ombre. La résilience, c'est comme un voyage : chaque pas, même difficile, nous rapproche de notre destination.\n"
     ]
    }
   ],
   "source": [
    "prompt = f\"\"\"\n",
    "Votre tâche est de répondre dans un style cohérent.\n",
    "\n",
    "<enfant>: Apprends-moi la patience.\n",
    "\n",
    "<grandparent>: La rivière qui creuse la vallée la plus \n",
    "profonde coule d'une source modeste ; la symphonie la \n",
    "plus grandiose prend naissance d'une seule note ; la \n",
    "tapisserie la plus complexe commence par un fil solitaire.\n",
    "\n",
    "<enfant>: Apprends-moi la résilience.\n",
    "\"\"\"\n",
    "response = get_completion(prompt)\n",
    "print(response)"
   ]
  },
  {
   "cell_type": "markdown",
   "id": "e30fa011",
   "metadata": {},
   "source": [
    "![Principes de prompt 04](slides/principes_de_prompts_04.jpg)"
   ]
  },
  {
   "cell_type": "markdown",
   "id": "ece7a8ee-1a2d-415d-8c10-500ecff24b10",
   "metadata": {},
   "source": [
    "### Principe 2 : Donnez au modèle le temps de \"réfléchir\"\n",
    "\n",
    "#### Tactique 1: Spécifiez les étapes nécessaires pour accomplir une tâche.\n",
    "\n",
    "![Principes de prompt 05](slides/principes_de_prompts_05.jpg)"
   ]
  },
  {
   "cell_type": "code",
   "execution_count": 11,
   "id": "5e7d6860",
   "metadata": {},
   "outputs": [
    {
     "name": "stdout",
     "output_type": "stream",
     "text": [
      "Résultats pour le prompt 1:\n",
      "Dans un charmant village, les frères et sœurs Jack et Jill partent à la recherche d'eau, mais Jack trébuche et dévale la colline, bien qu'ils rentrent chez eux réconfortés et avec leur esprit aventurier intact.\n",
      "\n",
      "In a charming village, siblings Jack and Jill go in search of water, but Jack stumbles and tumbles down the hill, although they return home comforted and with their adventurous spirit intact.\n",
      "\n",
      "Jack, Jill\n",
      "\n",
      "```json\n",
      "{\n",
      "  \"french_summary\": \"Dans un charmant village, les frères et sœurs Jack et Jill partent à la recherche d'eau, mais Jack trébuche et dévale la colline, bien qu'ils rentrent chez eux réconfortés et avec leur esprit aventurier intact.\",\n",
      "  \"num_names\": 2\n",
      "}\n",
      "```\n"
     ]
    }
   ],
   "source": [
    "text = f\"\"\"\n",
    "Dans un charmant village, les frères et sœurs \n",
    "Jack et Jill se sont lancés dans une quête pour \n",
    "chercher de l'eau à un puits situé au sommet \n",
    "d'une colline. Alors qu'ils grimpaient en chantant \n",
    "joyeusement, le malheur frappa : Jack trébucha sur \n",
    "une pierre et dévala la colline, suivi de près par \n",
    "Jill. Bien que légèrement meurtris, le duo rentra \n",
    "chez lui dans des bras réconfortants. Malgré cet \n",
    "incident, leur esprit aventurier demeura intact, \n",
    "et ils continuèrent à explorer avec joie.\n",
    "\"\"\"\n",
    "# example 1\n",
    "prompt_1 = f\"\"\"\n",
    "Effectuez les actions suivantes :\n",
    "1 - Résumez le texte suivant délimité par des triples accents graves en une seule phrase.\n",
    "2 - Traduisez le résumé en anglais.\n",
    "3 - Énumérez chaque nom dans le résumé anglais.\n",
    "4 - Produisez un objet JSON qui contient les clés suivantes : french_summary, num_names.\n",
    "\n",
    "Séparez vos réponses par des sauts de ligne.\n",
    "\n",
    "texte :\n",
    "```{text}```\n",
    "\"\"\"\n",
    "response = get_completion(prompt_1)\n",
    "print(\"Résultats pour le prompt 1:\")\n",
    "print(response)"
   ]
  },
  {
   "cell_type": "markdown",
   "id": "d0bb1dcf-95f5-4ee1-8c25-8b2abd5f0f0d",
   "metadata": {},
   "source": [
    "#### Demandez une sortie dans un format spécifié."
   ]
  },
  {
   "cell_type": "code",
   "execution_count": 12,
   "id": "3e4222cc",
   "metadata": {},
   "outputs": [
    {
     "name": "stdout",
     "output_type": "stream",
     "text": [
      "\n",
      "Résulat pour le prompt 2:\n",
      "Résumé : Dans un village, Jack et Jill partent chercher de l'eau, mais Jack tombe et dévale la colline, bien qu'ils rentrent chez eux réconfortés et continuent à explorer.  \n",
      "Translation: In a village, Jack and Jill go to fetch water, but Jack falls and tumbles down the hill, although they return home comforted and continue to explore.  \n",
      "Names: [Jack, Jill]  \n",
      "Output JSON: {\"french_summary\":\"Dans un village, Jack et Jill partent chercher de l'eau, mais Jack tombe et dévale la colline, bien qu'ils rentrent chez eux réconfortés et continuent à explorer.\",\"num_names\":2}\n"
     ]
    }
   ],
   "source": [
    "prompt_2 = f\"\"\"\n",
    "Votre tâche est d'effectuer les actions suivantes :\n",
    "1 - Résumez le texte suivant délimité par \n",
    "  <> avec une seule phrase.\n",
    "2 - Traduisez le résumé en anglais.\n",
    "3 - Énumérez chaque nom dans le résumé anglais.\n",
    "4 - Produisez un objet JSON qui contient les clés suivantes : french_summary, num_names.\n",
    "\n",
    "Utilise le format suivant :\n",
    "Texte : <text to summarize>\n",
    "Résumé : <summary>\n",
    "Translation: <summary translation>\n",
    "Names: <list of names in Italian summary>\n",
    "Output JSON: <json with summary and num_names>\n",
    "\n",
    "Texte : <{text}>\n",
    "\"\"\"\n",
    "response = get_completion(prompt_2)\n",
    "print(\"\\nRésulat pour le prompt 2:\")\n",
    "print(response)"
   ]
  },
  {
   "cell_type": "markdown",
   "id": "fec80fdb-92db-48f6-8f1d-b03c26385bad",
   "metadata": {},
   "source": [
    "#### Tactique 2 : Demandez au modèle d'élaborer sa propre solution avant de se précipiter vers une conclusion."
   ]
  },
  {
   "cell_type": "code",
   "execution_count": 4,
   "id": "ff5cc985",
   "metadata": {},
   "outputs": [
    {
     "name": "stdout",
     "output_type": "stream",
     "text": [
      "correct\n"
     ]
    }
   ],
   "source": [
    "prompt = f\"\"\"\n",
    "Déterminez si la solution de l'élève est correcte ou non. Répondez par \"correct\" ou \"incorrect\" uniquement.\n",
    "\n",
    "Question :\n",
    "Je construis une installation solaire et j'ai besoin \n",
    "d'aide pour établir les aspects financiers.\"\n",
    "- Le terrain coûte 100€ / mètre carré\n",
    "- Je peux acheter des panneaux solaires 250€ / mètre carré\n",
    "- J'ai négocié un contrat de maintenance qui me coûtera un \n",
    "montant forfaitaire de 100k € par an, plus 10 € par mètre carré.\n",
    "\n",
    "Quel est le coût total pour la première année d'exploitation \n",
    "en fonction du nombre de pieds carrés ?\n",
    "\n",
    "La solution de l'étudiant :\n",
    "Soit x la taille du terrain en mètre carré.\n",
    "Coûts :\n",
    "1. Coût du terrain : 100x\n",
    "2. Coût des panneaux solaires : 250x\n",
    "3. Coût de maintenance : 100 000 + 100x\n",
    "Coût total : 100x + 250x + 100,000 + 100x = 450x + 100 000\n",
    "\"\"\"\n",
    "response = get_completion(prompt)\n",
    "print(response)"
   ]
  },
  {
   "cell_type": "markdown",
   "id": "f322ebd9-0f8a-43aa-97fe-5eac70cdcc6a",
   "metadata": {},
   "source": [
    "#### La solution de l'élève n'est en réalité pas correcte.\n",
    "#### Exercice : Corriger le prompt ci-dessous en instruisant le modèle à élaborer sa propre solution d'abord."
   ]
  },
  {
   "cell_type": "code",
   "execution_count": 5,
   "id": "703f7003",
   "metadata": {},
   "outputs": [
    {
     "name": "stdout",
     "output_type": "stream",
     "text": [
      "correct\n"
     ]
    }
   ],
   "source": [
    "prompt = f\"\"\"\n",
    "Déterminez si la solution de l'élève est correcte ou non. Répondez par \"correct\" ou \"incorrect\" uniquement.\n",
    "\n",
    "Question :\n",
    "Je construis une installation solaire et j'ai besoin \n",
    "d'aide pour établir les aspects financiers.\"\n",
    "- Le terrain coûte 100€ / mètre carré\n",
    "- Je peux acheter des panneaux solaires 250€ / mètre carré\n",
    "- J'ai négocié un contrat de maintenance qui me coûtera un \n",
    "montant forfaitaire de 100k € par an, plus 10 € par mètre carré.\n",
    "\n",
    "Quel est le coût total pour la première année d'exploitation \n",
    "en fonction du nombre de pieds carrés ?\n",
    "\n",
    "La solution de l'étudiant :\n",
    "Soit x la taille du terrain en mètre carré.\n",
    "Coûts :\n",
    "1. Coût du terrain : 100x\n",
    "2. Coût des panneaux solaires : 250x\n",
    "3. Coût de maintenance : 100 000 + 100x\n",
    "Coût total : 100x + 250x + 100,000 + 100x = 450x + 100 000\n",
    "\"\"\"\n",
    "response = get_completion(prompt)\n",
    "print(response)"
   ]
  },
  {
   "cell_type": "markdown",
   "id": "8a207eab-a1b1-47a5-b913-fe38086123d0",
   "metadata": {},
   "source": [
    "## Les limites du modèle : Hallucinations\n",
    "\n",
    "![Principes de prompt 06](slides/principes_de_prompts_06.jpg)\n",
    "\n",
    "- Boie est une vraie entreprise, le produit n'est pas réel."
   ]
  },
  {
   "cell_type": "code",
   "execution_count": 15,
   "id": "81c80919",
   "metadata": {},
   "outputs": [
    {
     "name": "stdout",
     "output_type": "stream",
     "text": [
      "La brosse à dents intelligente AeroGlide UltraSlim de Boie est un produit innovant qui combine technologie avancée et design ergonomique pour améliorer l'hygiène bucco-dentaire. Voici quelques caractéristiques et fonctionnalités qui pourraient être associées à ce type de brosse à dents :\n",
      "\n",
      "1. **Technologie de nettoyage avancée** : La brosse à dents pourrait utiliser des vibrations soniques ou des mouvements oscillants pour offrir un nettoyage en profondeur, aidant à éliminer la plaque dentaire et à améliorer la santé des gencives.\n",
      "\n",
      "2. **Connectivité intelligente** : Elle pourrait être équipée de fonctionnalités connectées, permettant de suivre les habitudes de brossage via une application mobile. Cela peut inclure des conseils personnalisés, des rappels pour changer de technique de brossage ou des notifications pour remplacer la tête de brosse.\n",
      "\n",
      "3. **Design ultra-slim** : Comme son nom l'indique, l'AeroGlide UltraSlim pourrait avoir un design mince et léger, facilitant la prise en main et le rangement, tout en étant esthétiquement plaisant.\n",
      "\n",
      "4. **Durabilité et matériaux écologiques** : Boie est connue pour son engagement envers l'environnement, donc la brosse à dents pourrait être fabriquée à partir de matériaux durables et recyclables.\n",
      "\n",
      "5. **Autonomie de la batterie** : Une bonne autonomie est essentielle pour une brosse à dents électrique, et l'AeroGlide UltraSlim pourrait offrir une longue durée de vie de la batterie, permettant plusieurs semaines d'utilisation avant de devoir être rechargée.\n",
      "\n",
      "6. **Modes de brossage personnalisés** : Elle pourrait proposer différents modes de brossage adaptés aux besoins spécifiques des utilisateurs, comme un mode sensible pour les gencives délicates ou un mode blanchissant.\n",
      "\n",
      "Ces caractéristiques font de la brosse à dents AeroGlide UltraSlim un choix intéressant pour ceux qui cherchent à améliorer leur routine de soins dentaires tout en intégrant des technologies modernes. Pour des informations plus précises, il serait utile de consulter le site officiel de Boie ou des revues spécialisées.\n"
     ]
    }
   ],
   "source": [
    "prompt = f\"\"\"\n",
    "Parlez-moi de la brosse à dents intelligente AeroGlide UltraSlim de Boie.\n",
    "\"\"\"\n",
    "response = get_completion(prompt)\n",
    "print(response)"
   ]
  },
  {
   "cell_type": "markdown",
   "id": "eea88a6e-0141-4296-a73b-6b2282fe0de6",
   "metadata": {},
   "source": [
    "## A vous de jouer"
   ]
  },
  {
   "cell_type": "code",
   "execution_count": null,
   "id": "77457878",
   "metadata": {},
   "outputs": [],
   "source": []
  },
  {
   "cell_type": "markdown",
   "id": "02294fd1-bc42-416a-b0cb-34d6d22b20cd",
   "metadata": {},
   "source": [
    "#### Notes sur l'utilisation de l'API OpenAI en dehors de cette salle de classe.\n",
    "\n",
    "![Principes de prompt 07](slides/principes_de_prompts_07.jpg)\n",
    "\n",
    "\n",
    "Pour installer la bibliothèque Python OpenAI :\n",
    "```\n",
    "!pip install openai\n",
    "```\n",
    "\n",
    "La bibliothèque doit être configurée avec la clé secrète de votre compte, qui est disponible sur le [site web](https://platform.openai.com/account/api-keys). \n",
    "\n",
    "Vous pouvez soit la définir comme variable d'environnement `OPENAI_API_KEY` avant d'utiliser la bibliothèque :\n",
    " ```\n",
    " !export OPENAI_API_KEY='sk-...'\n",
    " ```\n",
    "\n",
    "Ou, définir `openai.api_key` :\n",
    "\n",
    "```\n",
    "import openai\n",
    "openai.api_key = \"sk-...\"\n",
    "```"
   ]
  },
  {
   "cell_type": "markdown",
   "id": "a2ef0aa7-77e5-465e-a0ac-21c7156c9339",
   "metadata": {},
   "source": [
    "#### Remarque complémentaire\n",
    "- Dans ce cours nous utiliserons les antislashs `\\` pour que le texte rentre dans l'écran sans utiliser une nouvelle ligne '\\n'.\n",
    "- GPT-4 n'est pas vraiment affecté par l'insertion de caractères de nouvelle ligne ou non. Mais en travaillant avec des LLM en général, vous pouvez considérer si les caractères de nouvelle ligne dans votre prompt peuvent affecter les performances du modèle."
   ]
  },
  {
   "cell_type": "code",
   "execution_count": null,
   "id": "f92c1dcc-1cef-42f7-9291-fa1dfa9fcc1b",
   "metadata": {},
   "outputs": [],
   "source": []
  }
 ],
 "metadata": {
  "kernelspec": {
   "display_name": ".venv",
   "language": "python",
   "name": "python3"
  },
  "language_info": {
   "codemirror_mode": {
    "name": "ipython",
    "version": 3
   },
   "file_extension": ".py",
   "mimetype": "text/x-python",
   "name": "python",
   "nbconvert_exporter": "python",
   "pygments_lexer": "ipython3",
   "version": "3.12.0"
  }
 },
 "nbformat": 4,
 "nbformat_minor": 5
}
