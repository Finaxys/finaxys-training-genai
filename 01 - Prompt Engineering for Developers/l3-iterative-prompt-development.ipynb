{
 "cells": [
  {
   "cell_type": "markdown",
   "id": "b97ddf3b-d921-4169-9d82-b0ee95e9eccd",
   "metadata": {},
   "source": [
    "# Développement itératif des prompts\n",
    "\n",
    "Dans cette leçon, vous analyserez et affinerez vos prompts de manière itérative pour générer du contenu marketing à partir d'une fiche produit.\n"
   ]
  },
  {
   "cell_type": "markdown",
   "id": "f9ce3df6",
   "metadata": {},
   "source": [
    "![Iterative prompt 01](slides/iterative_prompt_01.jpg)"
   ]
  },
  {
   "cell_type": "markdown",
   "id": "630e2777",
   "metadata": {},
   "source": [
    "![Iterative prompt 02](slides/iterative_prompt_02.jpg)"
   ]
  },
  {
   "cell_type": "markdown",
   "id": "b67df1c7",
   "metadata": {},
   "source": [
    "\n",
    "## Configuration"
   ]
  },
  {
   "cell_type": "code",
   "execution_count": 1,
   "id": "2800e646",
   "metadata": {},
   "outputs": [],
   "source": [
    "from openai import OpenAI\n",
    "import os\n",
    "\n",
    "from dotenv import load_dotenv, find_dotenv\n",
    "_ = load_dotenv(find_dotenv())\n",
    "\n",
    "client = OpenAI(\n",
    "    # This is the default and can be omitted\n",
    "    api_key=os.getenv('OPENAI_API_KEY')\n",
    ")\n"
   ]
  },
  {
   "cell_type": "code",
   "execution_count": 2,
   "id": "9fb6f2de",
   "metadata": {},
   "outputs": [],
   "source": [
    "def get_completion(prompt, model=\"gpt-4o-mini\"):\n",
    "    messages = [{\"role\": \"user\", \"content\": prompt}]\n",
    "    response = client.chat.completions.create(\n",
    "        messages=messages,\n",
    "        model=model,\n",
    "        temperature=0,\n",
    "    )\n",
    "    return response.choices[0].message.content"
   ]
  },
  {
   "cell_type": "markdown",
   "id": "71d1a1df-03c3-4f38-af6d-3962362f3dcd",
   "metadata": {},
   "source": [
    "## Générez une description marketing du produit à partir d'une fiche produit."
   ]
  },
  {
   "cell_type": "code",
   "execution_count": 3,
   "id": "5be90e47",
   "metadata": {},
   "outputs": [],
   "source": [
    "fact_sheet_chair = \"\"\"\n",
    "APERÇU\n",
    "- Faisant partie d'une belle collection de mobilier de bureau inspiré du \n",
    "milieu du siècle, y compris des classeurs, des bureaux, des bibliothèques, \n",
    "des tables de réunion, et plus encore.\n",
    "- Plusieurs options de couleur de coque et de finitions de base.\n",
    "- Disponible avec un rembourrage en plastique à l'arrière et à l'avant \n",
    "(SWC-100) ou un rembourrage complet (SWC-110) dans 10 options de tissu et \n",
    "6 options de cuir.\n",
    "- Les options de finition de la base sont : acier inoxydable, noir mat,\n",
    "blanc brillant ou chrome.\n",
    "- La chaise est disponible avec ou sans accoudoirs.\n",
    "- Convient aux environnements domestiques ou professionnels.\n",
    "- Qualifiée pour un usage contractuel.\n",
    "\n",
    "CONSTRUCTION\n",
    "- Base en aluminium recouverte de plastique à 5 roues.\n",
    "- Réglage pneumatique de la chaise pour une action de montée/descente facile.\n",
    "\n",
    "DIMENSIONS\n",
    "- LARGEUR 53 CM | 20.87”\n",
    "- PROFONDEUR 51 CM | 20.08”\n",
    "- HAUTEUR 80 CM | 31.50”\n",
    "- HAUTEUR D'ASSISE 44 CM | 17.32”\n",
    "- PROFONDEUR D'ASSISE 41 CM | 16.14”\n",
    "\n",
    "OPTIONS\n",
    "- Options de roulettes pour sols durs ou souples.\n",
    "- Deux choix de densité de mousse pour le siège : moyenne \n",
    "(28,8 kg/m3) ou haute (44,8 kg/m3)\n",
    "- Sans accoudoirs ou avec accoudoirs à 8 positions.\n",
    "\n",
    "MATÉRIAUX\n",
    "BASE DE COQUE GLISSIÈRE\n",
    "- Aluminium coulé avec revêtement en nylon modifié PA6/PA66.\n",
    "- Épaisseur de la coque : 10 mm.\n",
    "\n",
    "ASSISE\n",
    "- Mousse HD36\n",
    "\n",
    "PAYS D'ORIGINE\n",
    "- Italie\n",
    "\"\"\""
   ]
  },
  {
   "cell_type": "code",
   "execution_count": 4,
   "id": "4f656d0c",
   "metadata": {},
   "outputs": [
    {
     "name": "stdout",
     "output_type": "stream",
     "text": [
      "**Chaise de Bureau Inspirée du Milieu du Siècle**\n",
      "\n",
      "Découvrez notre chaise de bureau élégante et fonctionnelle, issue d'une collection raffinée de mobilier inspiré du milieu du siècle. Parfaite pour les environnements domestiques ou professionnels, cette chaise allie design intemporel et confort moderne.\n",
      "\n",
      "**Caractéristiques Principales :**\n",
      "- **Design Élégant :** Disponible dans une variété de couleurs de coque et de finitions de base, vous pouvez personnaliser votre chaise pour qu'elle s'intègre parfaitement à votre espace. Choisissez parmi des finitions en acier inoxydable, noir mat, blanc brillant ou chrome.\n",
      "- **Confort Sur Mesure :** Optez pour un rembourrage en plastique à l'arrière et à l'avant (SWC-100) ou un rembourrage complet (SWC-110) dans 10 options de tissu et 6 options de cuir. Deux densités de mousse pour le siège sont également disponibles : moyenne (28,8 kg/m3) ou haute (44,8 kg/m3).\n",
      "- **Polyvalence :** La chaise peut être équipée d'accoudoirs réglables à 8 positions ou être choisie sans accoudoirs, selon vos préférences. \n",
      "\n",
      "**Construction de Qualité :**\n",
      "Fabriquée en Italie, cette chaise est dotée d'une base en aluminium recouverte de plastique, montée sur 5 roues pour une mobilité fluide. Le réglage pneumatique permet un ajustement facile de la hauteur, garantissant un confort optimal tout au long de la journée.\n",
      "\n",
      "**Dimensions :**\n",
      "- Largeur : 53 cm (20.87”)\n",
      "- Profondeur : 51 cm (20.08”)\n",
      "- Hauteur : 80 cm (31.50”)\n",
      "- Hauteur d'assise : 44 cm (17.32”)\n",
      "- Profondeur d'assise : 41 cm (16.14”)\n",
      "\n",
      "**Options de Roulettes :**\n",
      "Choisissez des roulettes adaptées à votre type de sol, qu'il soit dur ou souple, pour une utilisation sans tracas.\n",
      "\n",
      "**Usage Contractuel :**\n",
      "Cette chaise est qualifiée pour un usage contractuel, ce qui en fait un choix idéal pour les bureaux, les espaces de coworking ou même votre bureau à domicile.\n",
      "\n",
      "Transformez votre espace de travail avec cette chaise de bureau alliant style, confort et fonctionnalité. Commandez dès maintenant et faites l'expérience d'un mobilier qui allie esthétique et praticité !\n"
     ]
    }
   ],
   "source": [
    "prompt = f\"\"\"\n",
    "Votre tâche est d'aider une équipe marketing à créer une description \n",
    "pour un site de vente au détail d'un produit basé sur une fiche technique.\n",
    "\n",
    "Rédigez une description de produit basée sur les informations fournies \n",
    "dans les spécifications techniques délimitées par des triples accents graves.\n",
    "\n",
    "Spécifications techniques : ```{fact_sheet_chair}```\n",
    "\"\"\"\n",
    "response = get_completion(prompt)\n",
    "print(response)\n"
   ]
  },
  {
   "cell_type": "markdown",
   "id": "e1361d6f-6022-4b7a-8107-b2e2ff5efd32",
   "metadata": {},
   "source": [
    "## Problème 1 : Le texte est trop long\n",
    "\n",
    "- Limitez le nombre de mots, de phrases ou de caractères."
   ]
  },
  {
   "cell_type": "code",
   "execution_count": 5,
   "id": "f6129532",
   "metadata": {},
   "outputs": [
    {
     "name": "stdout",
     "output_type": "stream",
     "text": [
      "Découvrez notre chaise de bureau inspirée du milieu du siècle, alliant élégance et confort. Disponible en plusieurs couleurs et finitions, avec options de rembourrage et accoudoirs. Sa base en aluminium et son réglage pneumatique garantissent une utilisation facile, idéale pour les environnements professionnels ou domestiques.\n"
     ]
    }
   ],
   "source": [
    "prompt = f\"\"\"\n",
    "Votre tâche est d'aider une équipe marketing à créer une description \n",
    "pour un site de vente au détail d'un produit basé sur une fiche technique.\n",
    "\n",
    "Rédigez une description de produit basée sur les informations fournies \n",
    "dans les spécifications techniques délimitées par des triples accents graves.\n",
    "\n",
    "Utilisez au maximum 50 mots.\n",
    "\n",
    "Spécifications techniques : ```{fact_sheet_chair}```\n",
    "\"\"\"\n",
    "response = get_completion(prompt)\n",
    "print(response)\n"
   ]
  },
  {
   "cell_type": "code",
   "execution_count": 7,
   "id": "17f658d0",
   "metadata": {},
   "outputs": [
    {
     "data": {
      "text/plain": [
       "45"
      ]
     },
     "execution_count": 7,
     "metadata": {},
     "output_type": "execute_result"
    }
   ],
   "source": [
    "len(response.split())"
   ]
  },
  {
   "cell_type": "markdown",
   "id": "a6de9c92-857c-4d1c-8fd1-192cf47c4763",
   "metadata": {},
   "source": [
    "## Problème 2 : Le texte se concentre sur des détails erronés\n",
    "\n",
    "- Demandez-lui de se concentrer sur les aspects pertinents pour le public visé."
   ]
  },
  {
   "cell_type": "code",
   "execution_count": 8,
   "id": "954a8a06",
   "metadata": {},
   "outputs": [
    {
     "name": "stdout",
     "output_type": "stream",
     "text": [
      "Découvrez notre chaise de bureau inspirée du milieu du siècle, alliant élégance et fonctionnalité. Sa base en aluminium et nylon modifié assure robustesse, tandis que l'assise en mousse HD36 offre un confort optimal. Disponible en plusieurs finitions et rembourrages, elle s'adapte parfaitement à tout environnement professionnel ou domestique.\n"
     ]
    }
   ],
   "source": [
    "prompt = f\"\"\"\n",
    "Votre tâche est d'aider une équipe marketing à \n",
    "créer une description pour un site de vente au \n",
    "détail d'un produit basé sur une fiche technique.\n",
    "\n",
    "Rédigez une description de produit basée sur les \n",
    "informations fournies dans les spécifications techniques \n",
    "délimitées par des triples accents graves.\n",
    "\n",
    "La description est destinée aux détaillants de meubles, \n",
    "elle doit donc être technique par nature et se concentrer \n",
    "sur les matériaux dont le produit est constitué.\n",
    "\n",
    "Utilisez au maximum 50 mots.\n",
    "\n",
    "Spécifications techniques : ```{fact_sheet_chair}```\n",
    "\"\"\"\n",
    "response = get_completion(prompt)\n",
    "print(response)"
   ]
  },
  {
   "cell_type": "markdown",
   "id": "ccc67e98",
   "metadata": {},
   "source": [
    "* Inclure les identifiants des produits"
   ]
  },
  {
   "cell_type": "code",
   "execution_count": 9,
   "id": "e9455d58",
   "metadata": {},
   "outputs": [
    {
     "name": "stdout",
     "output_type": "stream",
     "text": [
      "Découvrez notre chaise de bureau inspirée du milieu du siècle, alliant élégance et fonctionnalité. Sa base en aluminium et sa coque en nylon modifié garantissent durabilité et confort. Choisissez parmi diverses finitions et rembourrages pour un style personnalisé. Idéale pour les environnements professionnels et domestiques. \n",
      "\n",
      "Produits ID : SWC-100, SWC-110.\n"
     ]
    }
   ],
   "source": [
    "prompt = f\"\"\"\n",
    "Votre tâche est d'aider une équipe marketing à \n",
    "créer une description pour un site de vente au \n",
    "détail d'un produit basé sur une fiche technique.\n",
    "\n",
    "Rédigez une description de produit basée sur les \n",
    "informations fournies dans les spécifications \n",
    "techniques délimitées par des triples accents graves.\n",
    "\n",
    "La description est destinée aux détaillants de meubles, \n",
    "elle doit donc être technique par nature et se concentrer \n",
    "sur les matériaux dont le produit est constitué.\n",
    "\n",
    "À la fin de la description, incluez chaque ID de produit \n",
    "de 7 caractères dans les spécifications techniques.\n",
    "\n",
    "Utilisez au maximum 50 mots.\n",
    "\n",
    "Spécifications techniques :```{fact_sheet_chair}```\n",
    "\"\"\"\n",
    "response = get_completion(prompt)\n",
    "print(response)"
   ]
  },
  {
   "cell_type": "markdown",
   "id": "5be496d5-54c9-443b-8116-0b3d3d9dc560",
   "metadata": {},
   "source": [
    "## Problème 3. La description nécessite un tableau des dimensions\n",
    "\n",
    "- Exercice : Demandez-lui d'extraire les informations et de les organiser dans un tableau au format HTML."
   ]
  },
  {
   "cell_type": "code",
   "execution_count": 10,
   "id": "0384f1e4",
   "metadata": {},
   "outputs": [
    {
     "name": "stdout",
     "output_type": "stream",
     "text": [
      "```html\n",
      "<div>\n",
      "    <h2>Chaise de Bureau Inspirée du Milieu du Siècle</h2>\n",
      "    <p>Découvrez notre chaise de bureau élégante, conçue pour allier confort et style. Faisant partie d'une collection raffinée de mobilier de bureau inspiré du milieu du siècle, cette chaise est idéale pour les environnements domestiques ou professionnels. Elle est disponible dans plusieurs options de couleur de coque et de finitions de base, vous permettant de personnaliser votre espace de travail selon vos préférences.</p>\n",
      "    \n",
      "    <p>La chaise est dotée d'une base en aluminium recouverte de plastique, équipée de 5 roues pour une mobilité optimale. Son réglage pneumatique permet une action de montée et de descente facile, garantissant un ajustement parfait à votre bureau. Vous pouvez choisir entre un rembourrage en plastique à l'arrière et à l'avant (SWC-100) ou un rembourrage complet (SWC-110), avec une sélection de 10 options de tissu et 6 options de cuir pour un confort inégalé.</p>\n",
      "    \n",
      "    <p>La coque de la chaise est fabriquée en aluminium coulé avec un revêtement en nylon modifié PA6/PA66, offrant une épaisseur de 10 mm pour une durabilité accrue. La mousse HD36 utilisée pour l'assise assure un confort optimal, tandis que les options de roulettes pour sols durs ou souples et les accoudoirs réglables à 8 positions ajoutent à la fonctionnalité de ce produit. Qualifiée pour un usage contractuel, cette chaise est un choix parfait pour les bureaux modernes.</p>\n",
      "    \n",
      "    <p>Identifiants de produit : SWC-100, SWC-110</p>\n",
      "</div>\n",
      "\n",
      "<h3>Dimensions du produit</h3>\n",
      "<table>\n",
      "    <tr>\n",
      "        <th>Dimension</th>\n",
      "        <th>Mesures (pouces)</th>\n",
      "    </tr>\n",
      "    <tr>\n",
      "        <td>Largeur</td>\n",
      "        <td>20.87”</td>\n",
      "    </tr>\n",
      "    <tr>\n",
      "        <td>Profondeur</td>\n",
      "        <td>20.08”</td>\n",
      "    </tr>\n",
      "    <tr>\n",
      "        <td>Hauteur</td>\n",
      "        <td>31.50”</td>\n",
      "    </tr>\n",
      "    <tr>\n",
      "        <td>Hauteur d'assise</td>\n",
      "        <td>17.32”</td>\n",
      "    </tr>\n",
      "    <tr>\n",
      "        <td>Profondeur d'assise</td>\n",
      "        <td>16.14”</td>\n",
      "    </tr>\n",
      "</table>\n",
      "```\n"
     ]
    }
   ],
   "source": [
    "prompt = f\"\"\"\n",
    "Votre tâche est d'aider une équipe marketing à créer \n",
    "une description pour un site de vente au détail d'un \n",
    "produit basé sur une fiche technique.\n",
    "\n",
    "Rédigez une description de produit basée sur les informations \n",
    "fournies dans les spécifications techniques délimitées par \n",
    "des triples accents graves.\n",
    "\n",
    "La description est destinée aux détaillants de meubles, elle \n",
    "doit donc être technique par nature et se concentrer sur les \n",
    "matériaux dont le produit est constitué.\n",
    "\n",
    "À la fin de la description, incluez chaque ID de produit de 7 \n",
    "caractères dans les spécifications techniques.\n",
    "\n",
    "Après la description, incluez un tableau qui donne les dimensions \n",
    "du produit. Le tableau doit comporter deux colonnes.\n",
    "Dans la première colonne, incluez le nom de la dimension.\n",
    "Dans la deuxième colonne, incluez les mesures en pouces uniquement.\n",
    "\n",
    "Donnez au tableau le titre 'Dimensions du produit'.\n",
    "\n",
    "Formatez tout en HTML pouvant être utilisé sur un site web. Placez \n",
    "la description dans un élément <div>.\n",
    "\n",
    "Spécifications techniques : ```{fact_sheet_chair}```\n",
    "\"\"\"\n",
    "\n",
    "response = get_completion(prompt)\n",
    "print(response)"
   ]
  },
  {
   "cell_type": "markdown",
   "id": "d681db67-6d59-40c1-a36b-4d76729a690d",
   "metadata": {},
   "source": [
    "## Charger les bibliothèques Python pour la visualisation"
   ]
  },
  {
   "cell_type": "code",
   "execution_count": 11,
   "id": "73ff0052",
   "metadata": {},
   "outputs": [],
   "source": [
    "from IPython.display import display, HTML"
   ]
  },
  {
   "cell_type": "code",
   "execution_count": 12,
   "id": "3465ffce",
   "metadata": {},
   "outputs": [
    {
     "data": {
      "text/html": [
       "```html\n",
       "<div>\n",
       "    <h2>Chaise de Bureau Inspirée du Milieu du Siècle</h2>\n",
       "    <p>Découvrez notre chaise de bureau élégante, conçue pour allier confort et style. Faisant partie d'une collection raffinée de mobilier de bureau inspiré du milieu du siècle, cette chaise est idéale pour les environnements domestiques ou professionnels. Elle est disponible dans plusieurs options de couleur de coque et de finitions de base, vous permettant de personnaliser votre espace de travail selon vos préférences.</p>\n",
       "    \n",
       "    <p>La chaise est dotée d'une base en aluminium recouverte de plastique, équipée de 5 roues pour une mobilité optimale. Son réglage pneumatique permet une action de montée et de descente facile, garantissant un ajustement parfait à votre bureau. Vous pouvez choisir entre un rembourrage en plastique à l'arrière et à l'avant (SWC-100) ou un rembourrage complet (SWC-110), avec une sélection de 10 options de tissu et 6 options de cuir pour un confort inégalé.</p>\n",
       "    \n",
       "    <p>La coque de la chaise est fabriquée en aluminium coulé avec un revêtement en nylon modifié PA6/PA66, offrant une épaisseur de 10 mm pour une durabilité accrue. La mousse HD36 utilisée pour l'assise assure un confort optimal, tandis que les options de roulettes pour sols durs ou souples et les accoudoirs réglables à 8 positions ajoutent à la fonctionnalité de ce produit. Qualifiée pour un usage contractuel, cette chaise est un choix parfait pour les bureaux modernes.</p>\n",
       "    \n",
       "    <p>Identifiants de produit : SWC-100, SWC-110</p>\n",
       "</div>\n",
       "\n",
       "<h3>Dimensions du produit</h3>\n",
       "<table>\n",
       "    <tr>\n",
       "        <th>Dimension</th>\n",
       "        <th>Mesures (pouces)</th>\n",
       "    </tr>\n",
       "    <tr>\n",
       "        <td>Largeur</td>\n",
       "        <td>20.87”</td>\n",
       "    </tr>\n",
       "    <tr>\n",
       "        <td>Profondeur</td>\n",
       "        <td>20.08”</td>\n",
       "    </tr>\n",
       "    <tr>\n",
       "        <td>Hauteur</td>\n",
       "        <td>31.50”</td>\n",
       "    </tr>\n",
       "    <tr>\n",
       "        <td>Hauteur d'assise</td>\n",
       "        <td>17.32”</td>\n",
       "    </tr>\n",
       "    <tr>\n",
       "        <td>Profondeur d'assise</td>\n",
       "        <td>16.14”</td>\n",
       "    </tr>\n",
       "</table>\n",
       "```"
      ],
      "text/plain": [
       "<IPython.core.display.HTML object>"
      ]
     },
     "metadata": {},
     "output_type": "display_data"
    }
   ],
   "source": [
    "display(HTML(response))"
   ]
  },
  {
   "cell_type": "markdown",
   "id": "8ed02a02-9e12-4f63-97bd-f52064b18666",
   "metadata": {},
   "source": [
    "## A vous de jouer"
   ]
  },
  {
   "cell_type": "code",
   "execution_count": null,
   "id": "dbe1f850",
   "metadata": {},
   "outputs": [],
   "source": []
  }
 ],
 "metadata": {
  "kernelspec": {
   "display_name": ".venv",
   "language": "python",
   "name": "python3"
  },
  "language_info": {
   "codemirror_mode": {
    "name": "ipython",
    "version": 3
   },
   "file_extension": ".py",
   "mimetype": "text/x-python",
   "name": "python",
   "nbconvert_exporter": "python",
   "pygments_lexer": "ipython3",
   "version": "3.12.0"
  }
 },
 "nbformat": 4,
 "nbformat_minor": 5
}
