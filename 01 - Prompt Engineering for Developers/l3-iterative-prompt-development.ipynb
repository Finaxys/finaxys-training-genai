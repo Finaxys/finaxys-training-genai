{
 "cells": [
  {
   "cell_type": "markdown",
   "id": "b97ddf3b-d921-4169-9d82-b0ee95e9eccd",
   "metadata": {},
   "source": [
    "# Développement itératif des prompts\n",
    "\n",
    "Dans cette leçon, vous analyserez et affinerez vos prompts de manière itérative pour générer du contenu marketing à partir d'une fiche produit.\n"
   ]
  },
  {
   "cell_type": "markdown",
   "id": "f9ce3df6",
   "metadata": {},
   "source": [
    "![Iterative prompt 01](slides/iterative_prompt_01.jpg)"
   ]
  },
  {
   "cell_type": "markdown",
   "id": "630e2777",
   "metadata": {},
   "source": [
    "![Iterative prompt 02](slides/iterative_prompt_02.jpg)"
   ]
  },
  {
   "cell_type": "markdown",
   "id": "b67df1c7",
   "metadata": {},
   "source": [
    "\n",
    "## Configuration"
   ]
  },
  {
   "cell_type": "code",
   "execution_count": null,
   "id": "2800e646",
   "metadata": {},
   "outputs": [],
   "source": [
    "from openai import OpenAI\n",
    "import os\n",
    "\n",
    "from dotenv import load_dotenv, find_dotenv\n",
    "_ = load_dotenv(find_dotenv())\n",
    "\n",
    "client = OpenAI(\n",
    "    # This is the default and can be omitted\n",
    "    api_key=os.getenv('OPENAI_API_KEY')\n",
    ")\n"
   ]
  },
  {
   "cell_type": "code",
   "execution_count": null,
   "id": "9fb6f2de",
   "metadata": {},
   "outputs": [],
   "source": [
    "def get_completion(prompt, model=\"gpt-4o-mini\"):\n",
    "    messages = [{\"role\": \"user\", \"content\": prompt}]\n",
    "    response = client.chat.completions.create(\n",
    "        messages=messages,\n",
    "        model=model,\n",
    "        temperature=0,\n",
    "    )\n",
    "    return response.choices[0].message.content"
   ]
  },
  {
   "cell_type": "markdown",
   "id": "71d1a1df-03c3-4f38-af6d-3962362f3dcd",
   "metadata": {},
   "source": [
    "## Générez une description marketing du produit à partir d'une fiche produit."
   ]
  },
  {
   "cell_type": "code",
   "execution_count": null,
   "id": "5be90e47",
   "metadata": {},
   "outputs": [],
   "source": [
    "fact_sheet_chair = \"\"\"\n",
    "APERÇU\n",
    "- Faisant partie d'une belle collection de mobilier de bureau inspiré du \n",
    "milieu du siècle, y compris des classeurs, des bureaux, des bibliothèques, \n",
    "des tables de réunion, et plus encore.\n",
    "- Plusieurs options de couleur de coque et de finitions de base.\n",
    "- Disponible avec un rembourrage en plastique à l'arrière et à l'avant \n",
    "(SWC-100) ou un rembourrage complet (SWC-110) dans 10 options de tissu et \n",
    "6 options de cuir.\n",
    "- Les options de finition de la base sont : acier inoxydable, noir mat,\n",
    "blanc brillant ou chrome.\n",
    "- La chaise est disponible avec ou sans accoudoirs.\n",
    "- Convient aux environnements domestiques ou professionnels.\n",
    "- Qualifiée pour un usage contractuel.\n",
    "\n",
    "CONSTRUCTION\n",
    "- Base en aluminium recouverte de plastique à 5 roues.\n",
    "- Réglage pneumatique de la chaise pour une action de montée/descente facile.\n",
    "\n",
    "DIMENSIONS\n",
    "- LARGEUR 53 CM | 20.87”\n",
    "- PROFONDEUR 51 CM | 20.08”\n",
    "- HAUTEUR 80 CM | 31.50”\n",
    "- HAUTEUR D'ASSISE 44 CM | 17.32”\n",
    "- PROFONDEUR D'ASSISE 41 CM | 16.14”\n",
    "\n",
    "OPTIONS\n",
    "- Options de roulettes pour sols durs ou souples.\n",
    "- Deux choix de densité de mousse pour le siège : moyenne \n",
    "(28,8 kg/m3) ou haute (44,8 kg/m3)\n",
    "- Sans accoudoirs ou avec accoudoirs à 8 positions.\n",
    "\n",
    "MATÉRIAUX\n",
    "BASE DE COQUE GLISSIÈRE\n",
    "- Aluminium coulé avec revêtement en nylon modifié PA6/PA66.\n",
    "- Épaisseur de la coque : 10 mm.\n",
    "\n",
    "ASSISE\n",
    "- Mousse HD36\n",
    "\n",
    "PAYS D'ORIGINE\n",
    "- Italie\n",
    "\"\"\""
   ]
  },
  {
   "cell_type": "code",
   "execution_count": null,
   "id": "4f656d0c",
   "metadata": {},
   "outputs": [],
   "source": [
    "prompt = f\"\"\"\n",
    "Votre tâche est d'aider une équipe marketing à créer une description \n",
    "pour un site de vente au détail d'un produit basé sur une fiche technique.\n",
    "\n",
    "Rédigez une description de produit basée sur les informations fournies \n",
    "dans les spécifications techniques délimitées par des triples accents graves.\n",
    "\n",
    "Spécifications techniques : ```{fact_sheet_chair}```\n",
    "\"\"\"\n",
    "response = get_completion(prompt)\n",
    "print(response)\n"
   ]
  },
  {
   "cell_type": "markdown",
   "id": "e1361d6f-6022-4b7a-8107-b2e2ff5efd32",
   "metadata": {},
   "source": [
    "## Problème 1 : Le texte est trop long\n",
    "\n",
    "- Limitez le nombre de mots, de phrases ou de caractères."
   ]
  },
  {
   "cell_type": "code",
   "execution_count": null,
   "id": "f6129532",
   "metadata": {},
   "outputs": [],
   "source": [
    "prompt = f\"\"\"\n",
    "Votre tâche est d'aider une équipe marketing à créer une description \n",
    "pour un site de vente au détail d'un produit basé sur une fiche technique.\n",
    "\n",
    "Rédigez une description de produit basée sur les informations fournies \n",
    "dans les spécifications techniques délimitées par des triples accents graves.\n",
    "\n",
    "Utilisez au maximum 50 mots.\n",
    "\n",
    "Spécifications techniques : ```{fact_sheet_chair}```\n",
    "\"\"\"\n",
    "response = get_completion(prompt)\n",
    "print(response)\n"
   ]
  },
  {
   "cell_type": "code",
   "execution_count": null,
   "id": "17f658d0",
   "metadata": {},
   "outputs": [],
   "source": [
    "len(response.split())"
   ]
  },
  {
   "cell_type": "markdown",
   "id": "a6de9c92-857c-4d1c-8fd1-192cf47c4763",
   "metadata": {},
   "source": [
    "## Problème 2 : Le texte se concentre sur des détails erronés\n",
    "\n",
    "- Demandez-lui de se concentrer sur les aspects pertinents pour le public visé."
   ]
  },
  {
   "cell_type": "code",
   "execution_count": null,
   "id": "954a8a06",
   "metadata": {},
   "outputs": [],
   "source": [
    "prompt = f\"\"\"\n",
    "Votre tâche est d'aider une équipe marketing à \n",
    "créer une description pour un site de vente au \n",
    "détail d'un produit basé sur une fiche technique.\n",
    "\n",
    "Rédigez une description de produit basée sur les \n",
    "informations fournies dans les spécifications techniques \n",
    "délimitées par des triples accents graves.\n",
    "\n",
    "La description est destinée aux détaillants de meubles, \n",
    "elle doit donc être technique par nature et se concentrer \n",
    "sur les matériaux dont le produit est constitué.\n",
    "\n",
    "Utilisez au maximum 50 mots.\n",
    "\n",
    "Spécifications techniques : ```{fact_sheet_chair}```\n",
    "\"\"\"\n",
    "response = get_completion(prompt)\n",
    "print(response)"
   ]
  },
  {
   "cell_type": "markdown",
   "id": "ccc67e98",
   "metadata": {},
   "source": [
    "* Inclure les identifiants des produits"
   ]
  },
  {
   "cell_type": "code",
   "execution_count": null,
   "id": "e9455d58",
   "metadata": {},
   "outputs": [],
   "source": [
    "prompt = f\"\"\"\n",
    "Votre tâche est d'aider une équipe marketing à \n",
    "créer une description pour un site de vente au \n",
    "détail d'un produit basé sur une fiche technique.\n",
    "\n",
    "Rédigez une description de produit basée sur les \n",
    "informations fournies dans les spécifications \n",
    "techniques délimitées par des triples accents graves.\n",
    "\n",
    "La description est destinée aux détaillants de meubles, \n",
    "elle doit donc être technique par nature et se concentrer \n",
    "sur les matériaux dont le produit est constitué.\n",
    "\n",
    "À la fin de la description, incluez chaque ID de produit \n",
    "de 7 caractères dans les spécifications techniques.\n",
    "\n",
    "Utilisez au maximum 50 mots.\n",
    "\n",
    "Spécifications techniques :```{fact_sheet_chair}```\n",
    "\"\"\"\n",
    "response = get_completion(prompt)\n",
    "print(response)"
   ]
  },
  {
   "cell_type": "markdown",
   "id": "5be496d5-54c9-443b-8116-0b3d3d9dc560",
   "metadata": {},
   "source": [
    "## Problème 3. La description nécessite un tableau des dimensions\n",
    "\n",
    "- **Exercice : Demandez-lui d'extraire les informations et de les organiser dans un tableau au format HTML.**"
   ]
  },
  {
   "cell_type": "code",
   "execution_count": null,
   "id": "0384f1e4",
   "metadata": {},
   "outputs": [],
   "source": [
    "prompt = f\"\"\"\n",
    "Votre tâche est d'aider une équipe marketing à \n",
    "créer une description pour un site de vente au \n",
    "détail d'un produit basé sur une fiche technique.\n",
    "\n",
    "Rédigez une description de produit basée sur les \n",
    "informations fournies dans les spécifications \n",
    "techniques délimitées par des triples accents graves.\n",
    "\n",
    "La description est destinée aux détaillants de meubles, \n",
    "elle doit donc être technique par nature et se concentrer \n",
    "sur les matériaux dont le produit est constitué.\n",
    "\n",
    "À la fin de la description, incluez chaque ID de produit \n",
    "de 7 caractères dans les spécifications techniques.\n",
    "\n",
    "Utilisez au maximum 50 mots.\n",
    "\n",
    "Spécifications techniques :```{fact_sheet_chair}```\n",
    "\"\"\"\n",
    "\n",
    "response = get_completion(prompt)\n",
    "print(response)"
   ]
  },
  {
   "cell_type": "markdown",
   "id": "d681db67-6d59-40c1-a36b-4d76729a690d",
   "metadata": {},
   "source": [
    "## Charger les bibliothèques Python pour la visualisation"
   ]
  },
  {
   "cell_type": "code",
   "execution_count": null,
   "id": "73ff0052",
   "metadata": {},
   "outputs": [],
   "source": [
    "from IPython.display import display, HTML"
   ]
  },
  {
   "cell_type": "code",
   "execution_count": null,
   "id": "3465ffce",
   "metadata": {},
   "outputs": [],
   "source": [
    "display(HTML(response))"
   ]
  },
  {
   "cell_type": "markdown",
   "id": "8ed02a02-9e12-4f63-97bd-f52064b18666",
   "metadata": {},
   "source": [
    "## A vous de jouer"
   ]
  },
  {
   "cell_type": "code",
   "execution_count": null,
   "id": "dbe1f850",
   "metadata": {},
   "outputs": [],
   "source": []
  }
 ],
 "metadata": {
  "kernelspec": {
   "display_name": ".venv",
   "language": "python",
   "name": "python3"
  },
  "language_info": {
   "codemirror_mode": {
    "name": "ipython",
    "version": 3
   },
   "file_extension": ".py",
   "mimetype": "text/x-python",
   "name": "python",
   "nbconvert_exporter": "python",
   "pygments_lexer": "ipython3",
   "version": "3.12.0"
  }
 },
 "nbformat": 4,
 "nbformat_minor": 5
}
