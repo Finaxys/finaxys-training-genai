{
 "cells": [
  {
   "cell_type": "markdown",
   "id": "8de529e8-3891-4f47-8585-65b92b80bbf7",
   "metadata": {},
   "source": [
    "# Expansion\n",
    "Dans cette leçon, vous générerez des e-mails de service client qui sont adaptés à l'avis de chaque client.\n",
    "\n",
    "## Configuration"
   ]
  },
  {
   "cell_type": "code",
   "execution_count": null,
   "id": "e23399a9",
   "metadata": {},
   "outputs": [],
   "source": [
    "from openai import OpenAI\n",
    "import os\n",
    "\n",
    "from dotenv import load_dotenv, find_dotenv\n",
    "_ = load_dotenv(find_dotenv())\n",
    "\n",
    "client = OpenAI(\n",
    "    # This is the default and can be omitted\n",
    "    api_key=os.getenv('OPENAI_API_KEY')\n",
    ")\n"
   ]
  },
  {
   "cell_type": "markdown",
   "id": "a28e3b60",
   "metadata": {},
   "source": [
    "![Expanding 01](../slides/expanding_01.jpg)"
   ]
  },
  {
   "cell_type": "code",
   "execution_count": null,
   "id": "4c943900-98db-40b3-b639-7822ee2c5fd8",
   "metadata": {},
   "outputs": [],
   "source": [
    "def get_completion(prompt, model=\"gpt-4o-mini\", temperature=0):\n",
    "    messages = [{\"role\": \"user\", \"content\": prompt}]\n",
    "    response = client.chat.completions.create(\n",
    "        messages=messages,\n",
    "        model=model,\n",
    "        temperature=temperature,\n",
    "    )\n",
    "    return response.choices[0].message.content"
   ]
  },
  {
   "cell_type": "markdown",
   "id": "f8ceea77-990a-4c64-bb49-3ba65eb155d2",
   "metadata": {},
   "source": [
    "## Personnalisez la réponse automatique à un e-mail client"
   ]
  },
  {
   "cell_type": "code",
   "execution_count": null,
   "id": "c30c4239",
   "metadata": {},
   "outputs": [],
   "source": [
    "# A partir du sentiment de l'utilisateur et du message client original, personnalisez l'e-mail envoyé\n",
    "sentiment = \"negative\"\n",
    "\n",
    "# Commentaires sur un blender\n",
    "review = f\"\"\"\n",
    "Donc, ils avaient toujours le système de 17 pièces en promotion \n",
    "saisonnière pour environ 49 $ au mois de novembre, soit environ \n",
    "la moitié du prix, mais pour une raison quelconque (appelons cela \n",
    "de l'augmentation abusive des prix), autour de la deuxième semaine \n",
    "de décembre, les prix sont tous montés entre 70 et 89 € pour le \n",
    "même système. Et le système de 11 pièces a également augmenté \n",
    "d'environ 10 € par rapport au prix de vente précédent de 29 €.\n",
    "\n",
    "Cela a l'air correct, mais si vous regardez la base, la partie où \n",
    "la lame se fixe en place ne semble pas aussi bonne que dans les \n",
    "éditions précédentes d'il y a quelques années. Mais je prévois d'être \n",
    "très doux avec elle (par exemple, je broie des éléments très durs comme \n",
    "des haricots, de la glace, du riz, etc. dans le mixeur d'abord, puis \n",
    "je les pulvérise dans la taille de portion que je veux dans le mixeur, \n",
    "puis je passe à la lame à fouetter pour obtenir une farine plus fine, \n",
    "et j'utilise d'abord la lame à découper en croix lorsque je fais des \n",
    "smoothies, puis j'utilise la lame plate si j'en ai besoin plus fine/moins \n",
    "pulpeuse).\n",
    "\n",
    "Conseil spécial lors de la préparation de smoothies : coupez finement et \n",
    "congelez les fruits et légumes (si vous utilisez des épinards, faites-les \n",
    "légèrement mijoter pour les ramollir, puis congelez jusqu'à utilisation), \n",
    "cela vous permettra d'éviter d'ajouter trop de glace, si tant est que ce \n",
    "soit le cas, lors de la préparation de votre smoothie.\n",
    "\n",
    "Après environ un an, le moteur faisait un bruit étrange. J'ai appelé le \n",
    "service client, mais la garantie avait déjà expiré, donc j'ai dû en acheter \n",
    "un autre. Pour info : la qualité générale de ces types de produits a diminué, \n",
    "donc ils comptent un peu sur la reconnaissance de la marque et la fidélité des \n",
    "consommateurs pour maintenir les ventes. Je l'ai reçu en environ deux jours.\n",
    "\"\"\""
   ]
  },
  {
   "cell_type": "code",
   "execution_count": null,
   "id": "d5403f73",
   "metadata": {},
   "outputs": [],
   "source": [
    "prompt = f\"\"\"\n",
    "Vous êtes un assistant AI de service client.\n",
    "Votre tâche consiste à envoyer une réponse par e-mail à un client important.\n",
    "Étant donné l'e-mail du client délimité par des triples accents graves,\n",
    "générez une réponse pour remercier le client pour son avis.\n",
    "Si le sentiment est positif ou neutre, remerciez-les pour leur avis.\n",
    "Si le sentiment est négatif, excusez-vous et suggérez-leur de contacter le service client.\n",
    "Écrivez de manière concise et professionnelle.\n",
    "Signez l'e-mail en tant qu''agent client AI'.\n",
    "Avis du client :  ```{review}```\n",
    "Critique du sentiment : {sentiment}\n",
    "\"\"\"\n",
    "response = get_completion(prompt)\n",
    "print(response)"
   ]
  },
  {
   "cell_type": "markdown",
   "id": "55605ee0-118c-4c46-a917-4981a43fcad3",
   "metadata": {},
   "source": [
    "## Exercice : Rappeler au modèle d'utiliser des détails de l'e-mail du client."
   ]
  },
  {
   "cell_type": "code",
   "execution_count": null,
   "id": "1d5ea7c8",
   "metadata": {},
   "outputs": [],
   "source": []
  },
  {
   "cell_type": "markdown",
   "id": "31e317ad-9e51-4e7a-90c3-d88e7bf8a98c",
   "metadata": {},
   "source": [
    "## A vous de jouer"
   ]
  },
  {
   "cell_type": "code",
   "execution_count": null,
   "id": "ffa65c7e",
   "metadata": {},
   "outputs": [],
   "source": []
  }
 ],
 "metadata": {
  "kernelspec": {
   "display_name": "Python 3 (ipykernel)",
   "language": "python",
   "name": "python3"
  },
  "language_info": {
   "codemirror_mode": {
    "name": "ipython",
    "version": 3
   },
   "file_extension": ".py",
   "mimetype": "text/x-python",
   "name": "python",
   "nbconvert_exporter": "python",
   "pygments_lexer": "ipython3",
   "version": "3.10.14"
  }
 },
 "nbformat": 4,
 "nbformat_minor": 5
}
