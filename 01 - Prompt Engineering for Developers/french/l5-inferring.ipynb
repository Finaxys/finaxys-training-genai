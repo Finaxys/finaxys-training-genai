{
 "cells": [
  {
   "cell_type": "markdown",
   "id": "3630c235-f891-4874-bd0a-5277d4d6aa82",
   "metadata": {},
   "source": [
    "# Inférence\n",
    "Dans cette leçon, vous allez inférer des sentiments et des sujets à partir d'avis sur des produits et d'articles d'actualité.\n",
    "\n",
    "## Configuration"
   ]
  },
  {
   "cell_type": "code",
   "execution_count": null,
   "id": "39689e67",
   "metadata": {},
   "outputs": [],
   "source": [
    "from openai import OpenAI\n",
    "import os\n",
    "\n",
    "from dotenv import load_dotenv, find_dotenv\n",
    "_ = load_dotenv(find_dotenv())\n",
    "\n",
    "client = OpenAI(\n",
    "    # This is the default and can be omitted\n",
    "    api_key=os.getenv('OPENAI_API_KEY')\n",
    ")\n"
   ]
  },
  {
   "cell_type": "code",
   "execution_count": null,
   "id": "e82f5577",
   "metadata": {},
   "outputs": [],
   "source": [
    "def get_completion(prompt, model=\"gpt-4o-mini\"):\n",
    "    messages = [{\"role\": \"user\", \"content\": prompt}]\n",
    "    response = client.chat.completions.create(\n",
    "        messages=messages,\n",
    "        model=model,\n",
    "        temperature=0,\n",
    "    )\n",
    "    return response.choices[0].message.content"
   ]
  },
  {
   "cell_type": "markdown",
   "id": "51d2fdfa-c99f-4750-8574-dba7712cd7f0",
   "metadata": {},
   "source": [
    "## Texte de revue de produit"
   ]
  },
  {
   "cell_type": "code",
   "execution_count": null,
   "id": "b0f3b49b",
   "metadata": {},
   "outputs": [],
   "source": [
    "lamp_review = \"\"\"\n",
    "J'avais besoin d'une belle lampe pour ma chambre, \n",
    "et celle-ci offrait un espace de rangement supplémentaire \n",
    "à un prix raisonnable. Elle est arrivée rapidement.\n",
    "Le cordon de la lampe s'est cassé pendant le transport et \n",
    "l'entreprise a rapidement envoyé un nouveau cordon, qui \n",
    "est également arrivé en quelques jours. C'était facile à \n",
    "assembler. J'avais une pièce manquante, alors j'ai contacté \n",
    "leur support et ils m'ont très rapidement envoyé la pièce \n",
    "manquante ! Lumina me semble être une excellente entreprise \n",
    "qui se soucie de ses clients et de ses produits !\n",
    "\"\"\""
   ]
  },
  {
   "cell_type": "markdown",
   "id": "30d6e4bd-3337-45a3-8c99-a734cdd06743",
   "metadata": {},
   "source": [
    "## Sentiment (positif/negatif)"
   ]
  },
  {
   "cell_type": "code",
   "execution_count": null,
   "id": "e3157601",
   "metadata": {},
   "outputs": [],
   "source": [
    "prompt = f\"\"\"\n",
    "Quel est le sentiment de l'avis sur le produit suivant, \n",
    "délimité par des triples accents graves ?\n",
    "\n",
    "Texte de l'avis : '''{lamp_review}'''\n",
    "\"\"\"\n",
    "response = get_completion(prompt)\n",
    "print(response)"
   ]
  },
  {
   "cell_type": "code",
   "execution_count": null,
   "id": "acf9ca16",
   "metadata": {},
   "outputs": [],
   "source": [
    "prompt = f\"\"\"\n",
    "Quel est le sentiment de l'avis sur le produit suivant,\n",
    "délimité par des triples accents graves ?\n",
    "\n",
    "Donnez votre réponse en un seul mot, soit \"positif\"\n",
    "soit \"négatif\".\n",
    "\n",
    "Texte de l'avis : '''{lamp_review}'''\n",
    "\"\"\"\n",
    "response = get_completion(prompt)\n",
    "print(response)"
   ]
  },
  {
   "cell_type": "markdown",
   "id": "81d2a973-1fa4-4a35-ae35-a2e746c0e91b",
   "metadata": {},
   "source": [
    "## Identifier le type d'émotions"
   ]
  },
  {
   "cell_type": "code",
   "execution_count": null,
   "id": "8aa7934b",
   "metadata": {},
   "outputs": [],
   "source": [
    "prompt = f\"\"\"\n",
    "Identifiez une liste d'émotions que l'auteur de l'avis \n",
    "suivant exprime. Incluez au maximum cinq éléments dans la \n",
    "liste. Formatez votre réponse sous forme de liste de mots \n",
    "en minuscules séparés par des virgules.\n",
    "\n",
    "Texte de l'avis : '''{lamp_review}'''\n",
    "\"\"\"\n",
    "response = get_completion(prompt)\n",
    "print(response)"
   ]
  },
  {
   "cell_type": "markdown",
   "id": "a428d093-51c9-461c-b41e-114e80876409",
   "metadata": {},
   "source": [
    "## Identifier la colère"
   ]
  },
  {
   "cell_type": "code",
   "execution_count": null,
   "id": "dba1a538",
   "metadata": {},
   "outputs": [],
   "source": [
    "prompt = f\"\"\"\n",
    "L'auteur de l'avis suivant exprime-t-il de la colère ? \n",
    "L'avis est délimité par des triples accents graves.\n",
    "Donnez votre réponse par \"oui\" ou \"non\".\n",
    "\n",
    "Texte de l'avis : '''{lamp_review}'''\n",
    "\"\"\"\n",
    "response = get_completion(prompt)\n",
    "print(response)"
   ]
  },
  {
   "cell_type": "markdown",
   "id": "936a771e-ca78-4e55-8088-2da6f3820ddc",
   "metadata": {},
   "source": [
    "## Extraire le nom du produit et le nom de l'entreprise à partir des avis des clients."
   ]
  },
  {
   "cell_type": "code",
   "execution_count": null,
   "id": "a13bea1b",
   "metadata": {},
   "outputs": [],
   "source": [
    "prompt = f\"\"\"\n",
    "Identifiez les éléments suivants à partir du texte de l'avis :\n",
    "- Article acheté par l'évaluateur\n",
    "- Entreprise qui a fabriqué l'article\n",
    "\n",
    "L'avis est délimité par des triples accents graves.\n",
    "Formattez votre réponse en tant qu'objet JSON avec \"Item\" et \"Brand\" comme clés.\n",
    "Si l'information n'est pas disponible, utilisez \"unknown\" comme valeur.\n",
    "Rendez votre réponse aussi courte que possible.\n",
    "\n",
    "Texte de l'avis : '''{lamp_review}'''\n",
    "\"\"\"\n",
    "response = get_completion(prompt)\n",
    "print(response)"
   ]
  },
  {
   "cell_type": "markdown",
   "id": "a38880a5-088f-4609-9913-f8fa41fb7ba0",
   "metadata": {},
   "source": [
    "## Faire plusieurs tâche à la fois"
   ]
  },
  {
   "cell_type": "code",
   "execution_count": null,
   "id": "e7dda9e5",
   "metadata": {},
   "outputs": [],
   "source": [
    "prompt = f\"\"\"\n",
    "Identifiez les éléments suivants à partir du texte de l'avis :\n",
    "- Sentiment (positif ou négatif)\n",
    "- L'évaluateur exprime-t-il de la colère ? (vrai ou faux)\n",
    "- Article acheté par l'évaluateur\n",
    "- Entreprise qui a fabriqué l'article\n",
    "\n",
    "L'avis est délimité par des triples accents graves.\n",
    "Formattez votre réponse en tant qu'objet JSON avec \"Sentiment\", \"Anger\", \"Item\" et \"Brand\" comme clés.\n",
    "Si l'information n'est pas disponible, utilisez \"unknown\" comme valeur.\n",
    "Rendez votre réponse aussi courte que possible.\n",
    "Formatez la valeur Anger en tant que booléen.\n",
    "\n",
    "Texte de l'avis : '''{lamp_review}'''\n",
    "\"\"\"\n",
    "response = get_completion(prompt)\n",
    "print(response)"
   ]
  },
  {
   "cell_type": "markdown",
   "id": "235fc223-2c89-49ec-ac2d-78a8e74a43ac",
   "metadata": {},
   "source": [
    "## Déduire les thèmes abordés dans un article"
   ]
  },
  {
   "cell_type": "code",
   "execution_count": null,
   "id": "8a74cc3e",
   "metadata": {},
   "outputs": [],
   "source": [
    "story = \"\"\"\n",
    "Dans une récente enquête menée par le gouvernement, les employés du \n",
    "secteur public ont été invités à évaluer leur niveau de satisfaction \n",
    "vis-à-vis du département dans lequel ils travaillent. Les résultats \n",
    "ont révélé que la NASA était le département le plus populaire avec un \n",
    "taux de satisfaction de 95 %.\n",
    "\n",
    "Un employé de la NASA, John Smith, a commenté les résultats, déclarant : \n",
    "« Je ne suis pas surpris que la NASA soit arrivée en tête. C'est un excellent \n",
    "endroit pour travailler avec des personnes incroyables et des opportunités \n",
    "formidables. Je suis fier de faire partie d'une organisation aussi innovante. »\n",
    "\n",
    "Les résultats ont également été bien accueillis par l'équipe de direction de \n",
    "la NASA, le directeur Tom Johnson déclarant : « Nous sommes ravis d'apprendre \n",
    "que nos employés sont satisfaits de leur travail à la NASA. Nous avons une équipe \n",
    "talentueuse et dévouée qui travaille sans relâche pour atteindre nos objectifs, \n",
    "et c'est fantastique de voir que leur dur travail porte ses fruits. »\n",
    "\n",
    "L'enquête a également révélé que l'Administration de la sécurité sociale avait \n",
    "le taux de satisfaction le plus bas, avec seulement 45 % des employés indiquant \n",
    "qu'ils étaient satisfaits de leur travail. Le gouvernement s'est engagé à répondre \n",
    "aux préoccupations soulevées par les employés dans l'enquête et à œuvrer pour améliorer \n",
    "la satisfaction au travail dans tous les départements.\n",
    "\"\"\""
   ]
  },
  {
   "cell_type": "markdown",
   "id": "a8ea91d6-e841-4ee2-bed9-ca4a36df177f",
   "metadata": {},
   "source": [
    "## Déduire 5 thèmes"
   ]
  },
  {
   "cell_type": "code",
   "execution_count": null,
   "id": "5c267cbe",
   "metadata": {},
   "outputs": [],
   "source": [
    "prompt = f\"\"\"\n",
    "Déterminez cinq sujets qui sont discutés dans le texte suivant, \n",
    "qui est délimité par des triples accents graves.\n",
    "\n",
    "Faites en sorte que chaque élément ait une ou deux mots de long.\n",
    "\n",
    "Formatez votre réponse sous forme d'une liste d'éléments séparés \n",
    "par des virgules.\n",
    "\n",
    "Exemple de texte :'''{story}'''\n",
    "\"\"\"\n",
    "response = get_completion(prompt)\n",
    "print(response)"
   ]
  },
  {
   "cell_type": "code",
   "execution_count": null,
   "id": "f92f90fe",
   "metadata": {},
   "outputs": [],
   "source": [
    "response.split(sep=',')"
   ]
  },
  {
   "cell_type": "code",
   "execution_count": null,
   "id": "94b8fa65",
   "metadata": {},
   "outputs": [],
   "source": [
    "topic_list = [\n",
    "    \"nasa\", \"local government\", \"engineering\", \n",
    "    \"employee satisfaction\", \"federal government\"\n",
    "]"
   ]
  },
  {
   "cell_type": "markdown",
   "id": "34be1d2a-1309-4512-841a-b6f67338938b",
   "metadata": {},
   "source": [
    "## Création d'alertes pour certains sujets"
   ]
  },
  {
   "cell_type": "code",
   "execution_count": null,
   "id": "626c5b8e",
   "metadata": {},
   "outputs": [],
   "source": [
    "prompt = f\"\"\"\n",
    "Déterminez si chaque élément de la liste suivante de sujets est un sujet \n",
    "du texte ci-dessous, qui est délimité par des triples backticks.\n",
    "Ne pas introduire la liste par une phrase d'introduction.\n",
    "\n",
    "Donnez votre réponse sous forme de liste avec 0 ou 1 pour chaque sujet.\n",
    "Répondre sous la forme : <sujet> : <0 ou 1>\n",
    "\n",
    "Liste de sujets : {\", \".join(topic_list)}\n",
    "\n",
    "Exemple de texte : '''{story}'''\n",
    "\"\"\"\n",
    "response = get_completion(prompt)\n",
    "print(response)"
   ]
  },
  {
   "cell_type": "code",
   "execution_count": null,
   "id": "e9df4dc7",
   "metadata": {},
   "outputs": [],
   "source": [
    "response.split(sep='\\n')"
   ]
  },
  {
   "cell_type": "code",
   "execution_count": null,
   "id": "902a7c74",
   "metadata": {},
   "outputs": [],
   "source": [
    "topic_dict = {i.split(' : ')[0]: int(i.split(' : ')[1]) for i in response.split(sep='\\n')}\n",
    "if topic_dict['nasa'] == 1:\n",
    "    print(\"ALERTE: Nouveau sujet sur la NASA!\")"
   ]
  },
  {
   "cell_type": "markdown",
   "id": "f88408ae-469a-4b02-a043-f6b4f0b14bf9",
   "metadata": {},
   "source": [
    "## A vous de jouer !"
   ]
  },
  {
   "cell_type": "code",
   "execution_count": null,
   "id": "1bd3553f",
   "metadata": {},
   "outputs": [],
   "source": []
  }
 ],
 "metadata": {
  "kernelspec": {
   "display_name": "Python 3 (ipykernel)",
   "language": "python",
   "name": "python3"
  },
  "language_info": {
   "codemirror_mode": {
    "name": "ipython",
    "version": 3
   },
   "file_extension": ".py",
   "mimetype": "text/x-python",
   "name": "python",
   "nbconvert_exporter": "python",
   "pygments_lexer": "ipython3",
   "version": "3.10.14"
  }
 },
 "nbformat": 4,
 "nbformat_minor": 5
}
