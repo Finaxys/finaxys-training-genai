{
 "cells": [
  {
   "cell_type": "markdown",
   "id": "ff36c035-80da-40b4-b7b4-04f25d3c5f3f",
   "metadata": {},
   "source": [
    "# L5 Process Inputs: Chaining Prompts\n"
   ]
  },
  {
   "cell_type": "markdown",
   "id": "fa247fb7-48bd-445e-82cc-e1b93893ab8b",
   "metadata": {},
   "source": [
    "## Configuration\n",
    "#### Chargement de la clé OpenAI et des librairies Python"
   ]
  },
  {
   "cell_type": "code",
   "execution_count": null,
   "id": "230146b2",
   "metadata": {},
   "outputs": [],
   "source": [
    "from openai import OpenAI\n",
    "import os\n",
    "\n",
    "from dotenv import load_dotenv, find_dotenv\n",
    "_ = load_dotenv(find_dotenv())\n",
    "\n",
    "client = OpenAI(\n",
    "    # This is the default and can be omitted\n",
    "    api_key=os.getenv('OPENAI_API_KEY')\n",
    ")\n"
   ]
  },
  {
   "cell_type": "code",
   "execution_count": null,
   "id": "032b3add",
   "metadata": {},
   "outputs": [],
   "source": [
    "def get_completion_from_messages(messages, \n",
    "                                 model=\"gpt-4o-mini\", \n",
    "                                 temperature=0, \n",
    "                                 max_tokens=500):\n",
    "    response = client.chat.completions.create(\n",
    "        model=model,\n",
    "        messages=messages,\n",
    "        temperature=temperature, \n",
    "        max_tokens=max_tokens,\n",
    "    )\n",
    "    return response.choices[0].message.content"
   ]
  },
  {
   "cell_type": "markdown",
   "id": "fede0ffa",
   "metadata": {},
   "source": [
    "![Chaining of prompt 01](../slides/chaining_prompts_01.jpg)\n",
    "\n",
    "![Chaining of prompt 02](../slides/chaining_prompts_02.jpg)\n",
    "\n",
    "![Chaining of prompt 03](../slides/chaining_prompts_03.jpg)\n",
    "\n",
    "![Chaining of prompt 04](../slides/chaining_prompts_04.jpg)\n",
    "\n",
    "![Chaining of prompt 05](../slides/chaining_prompts_05.jpg)\n",
    "\n",
    "![Chaining of prompt 06](../slides/chaining_prompts_06.jpg)\n",
    "\n",
    "![Chaining of prompt 07](../slides/chaining_prompts_07.jpg)"
   ]
  },
  {
   "cell_type": "markdown",
   "id": "893e03f3-beaf-407d-be10-120d0f5760af",
   "metadata": {},
   "source": [
    "## Mettre en œuvre une tâche complexe avec plusieurs prompts\n",
    "\n",
    "### Extraire les noms de produits et de catégories pertinents"
   ]
  },
  {
   "cell_type": "code",
   "execution_count": null,
   "id": "cb6059af",
   "metadata": {},
   "outputs": [],
   "source": [
    "delimiter = \"####\"\n",
    "system_message = f\"\"\"\n",
    "Vous recevrez des demandes de service client.\n",
    "La demande de service client sera délimitée par les caractères {delimiter}.\n",
    "Affichez une liste d'objets Python, où chaque objet a le format suivant :\n",
    "    'catégorie': <l'une des catégories suivantes : Computers and Laptops, Smartphones and Accessories, Televisions and Home Theater Systems, Gaming Consoles and Accessories, Audio Equipment, Cameras and Camcorders>,\n",
    "OU\n",
    "    'produits': <une liste de produits qui doivent se trouver dans les produits autorisés ci-dessous.>\n",
    "\n",
    "Où les catégories et les produits doivent être trouvés dans la demande de service client.\n",
    "Si un produit est mentionné, il doit être associé à la bonne catégorie dans la liste de \n",
    "produits autorisés ci-dessous. Si aucun produit ou catégorie n'est trouvé, \n",
    "affichez une liste vide.\n",
    "\n",
    "Produits autorisés :\n",
    "\n",
    "Computers and Laptops category:\n",
    "TechPro Ultrabook\n",
    "BlueWave Gaming Laptop\n",
    "PowerLite Convertible\n",
    "TechPro Desktop\n",
    "BlueWave Chromebook\n",
    "\n",
    "Smartphones and Accessories category:\n",
    "SmartX ProPhone\n",
    "MobiTech PowerCase\n",
    "SmartX MiniPhone\n",
    "MobiTech Wireless Charger\n",
    "SmartX EarBuds\n",
    "\n",
    "Televisions and Home Theater Systems category:\n",
    "CineView 4K TV\n",
    "SoundMax Home Theater\n",
    "CineView 8K TV\n",
    "SoundMax Soundbar\n",
    "CineView OLED TV\n",
    "\n",
    "Gaming Consoles and Accessories category:\n",
    "GameSphere X\n",
    "ProGamer Controller\n",
    "GameSphere Y\n",
    "ProGamer Racing Wheel\n",
    "GameSphere VR Headset\n",
    "\n",
    "Audio Equipment category:\n",
    "AudioPhonic Noise-Canceling Headphones\n",
    "WaveSound Bluetooth Speaker\n",
    "AudioPhonic True Wireless Earbuds\n",
    "WaveSound Soundbar\n",
    "AudioPhonic Turntable\n",
    "\n",
    "Cameras and Camcorders category:\n",
    "FotoSnap DSLR Camera\n",
    "ActionCam 4K\n",
    "FotoSnap Mirrorless Camera\n",
    "ZoomMaster Camcorder\n",
    "FotoSnap Instant Camera\n",
    "\n",
    "Affichez uniquement la liste d'objets, sans rien d'autre.\n",
    "\"\"\"\n",
    "user_message_1 = f\"\"\"\n",
    "Parlez-moi du SmartX ProPhone et de l'appareil photo FotoSnap,\n",
    "le reflex numérique. Parlez-moi aussi de vos téléviseurs.\"\"\"\n",
    "messages =  [  \n",
    "{'role':'system', \n",
    " 'content': system_message},    \n",
    "{'role':'user', \n",
    " 'content': f\"{delimiter}{user_message_1}{delimiter}\"},  \n",
    "] \n",
    "category_and_product_response_1 = get_completion_from_messages(messages)\n",
    "print(category_and_product_response_1)"
   ]
  },
  {
   "cell_type": "code",
   "execution_count": null,
   "id": "1aa1367c",
   "metadata": {},
   "outputs": [],
   "source": [
    "user_message_2 = f\"\"\"\n",
    "Mon routeur ne fonctionne pas.\"\"\"\n",
    "messages =  [  \n",
    "{'role':'system',\n",
    " 'content': system_message},    \n",
    "{'role':'user',\n",
    " 'content': f\"{delimiter}{user_message_2}{delimiter}\"},  \n",
    "] \n",
    "response = get_completion_from_messages(messages)\n",
    "print(response)"
   ]
  },
  {
   "cell_type": "markdown",
   "id": "adb67e58-78e3-49e3-830e-5983131723ab",
   "metadata": {},
   "source": [
    "### Récupérer des informations détaillées sur les produits pour les produits et catégories extraits"
   ]
  },
  {
   "cell_type": "code",
   "execution_count": null,
   "id": "59a8ceb9",
   "metadata": {},
   "outputs": [],
   "source": [
    "import json\n",
    "\n",
    "with open('../products.json', 'r') as file:\n",
    "    products = json.load(file)"
   ]
  },
  {
   "cell_type": "code",
   "execution_count": null,
   "id": "64d0e64e",
   "metadata": {},
   "outputs": [],
   "source": [
    "def get_product_by_name(name):\n",
    "    return products.get(name, None)\n",
    "\n",
    "def get_products_by_category(category):\n",
    "    return [product for product in products.values() if product[\"category\"] == category]"
   ]
  },
  {
   "cell_type": "code",
   "execution_count": null,
   "id": "11b08b69",
   "metadata": {},
   "outputs": [],
   "source": [
    "print(get_product_by_name(\"TechPro Ultrabook\"))"
   ]
  },
  {
   "cell_type": "code",
   "execution_count": null,
   "id": "0f40b043",
   "metadata": {},
   "outputs": [],
   "source": [
    "print(get_products_by_category(\"Computers and Laptops\"))"
   ]
  },
  {
   "cell_type": "code",
   "execution_count": null,
   "id": "04aa364d",
   "metadata": {},
   "outputs": [],
   "source": [
    "print(user_message_1)"
   ]
  },
  {
   "cell_type": "code",
   "execution_count": null,
   "id": "5d09ff6b",
   "metadata": {},
   "outputs": [],
   "source": [
    "print(category_and_product_response_1)"
   ]
  },
  {
   "cell_type": "markdown",
   "id": "62e73370-597a-4195-94b2-e9d188113d7c",
   "metadata": {},
   "source": [
    "### Lire une chaîne Python dans une liste de dictionnaires Python"
   ]
  },
  {
   "cell_type": "code",
   "execution_count": null,
   "id": "ea0a3506",
   "metadata": {},
   "outputs": [],
   "source": [
    "import json \n",
    "\n",
    "def read_string_to_list(input_string):\n",
    "    if input_string is None:\n",
    "        return None\n",
    "\n",
    "    try:\n",
    "        input_string = input_string.replace(\"'\", \"\\\"\")  # Replace single quotes with double quotes for valid JSON\n",
    "        data = json.loads(input_string)\n",
    "        return data\n",
    "    except json.JSONDecodeError:\n",
    "        print(\"Error: Invalid JSON string\")\n",
    "        return None   \n",
    "    "
   ]
  },
  {
   "cell_type": "code",
   "execution_count": null,
   "id": "488a2024",
   "metadata": {},
   "outputs": [],
   "source": [
    "category_and_product_list = read_string_to_list(category_and_product_response_1)\n",
    "print(category_and_product_list)"
   ]
  },
  {
   "cell_type": "markdown",
   "id": "97915cdf-137a-41a0-84e0-edcf269a37cd",
   "metadata": {},
   "source": [
    "#### Récupérer des informations détaillées sur les produits et catégories pertinents"
   ]
  },
  {
   "cell_type": "code",
   "execution_count": null,
   "id": "8d571c2c",
   "metadata": {},
   "outputs": [],
   "source": [
    "def generate_output_string(data_list):\n",
    "    output_string = \"\"\n",
    "\n",
    "    if data_list is None:\n",
    "        return output_string\n",
    "\n",
    "    for data in data_list:\n",
    "        try:\n",
    "            if \"produits\" in data:\n",
    "                products_list = data[\"produits\"]\n",
    "                for product_name in products_list:\n",
    "                    product = get_product_by_name(product_name)\n",
    "                    if product:\n",
    "                        output_string += json.dumps(product, indent=4) + \"\\n\"\n",
    "                    else:\n",
    "                        print(f\"Error: Product '{product_name}' not found\")\n",
    "            elif \"catégorie\" in data:\n",
    "                category_name = data[\"catégorie\"]\n",
    "                category_products = get_products_by_category(category_name)\n",
    "                for product in category_products:\n",
    "                    output_string += json.dumps(product, indent=4) + \"\\n\"\n",
    "            else:\n",
    "                print(\"Error: Invalid object format\")\n",
    "        except Exception as e:\n",
    "            print(f\"Error: {e}\")\n",
    "\n",
    "    return output_string "
   ]
  },
  {
   "cell_type": "code",
   "execution_count": null,
   "id": "a5e18759",
   "metadata": {},
   "outputs": [],
   "source": [
    "product_information_for_user_message_1 = generate_output_string(category_and_product_list)\n",
    "print(product_information_for_user_message_1)"
   ]
  },
  {
   "cell_type": "markdown",
   "id": "5464be6a-d24d-43fa-b9ef-59ded464b087",
   "metadata": {},
   "source": [
    "### Générer une réponse à la demande de l'utilisateur basée sur les informations détaillées sur les produits"
   ]
  },
  {
   "cell_type": "code",
   "execution_count": null,
   "id": "6d3ad31e",
   "metadata": {},
   "outputs": [],
   "source": [
    "system_message = f\"\"\"\n",
    "Vous êtes un assistant du service client pour un grand magasin d'électronique.\n",
    "Répondez avec un ton amical et serviable, en donnant des réponses très concises.\n",
    "Assurez-vous de poser à l'utilisateur des questions de suivi pertinentes. \n",
    "\"\"\"\n",
    "user_message_1 = f\"\"\"\n",
    "Parlez-moi du SmartX ProPhone et de l'appareil photo FotoSnap, le reflex numérique.\n",
    "Parlez-moi également de vos téléviseurs.\"\"\"\n",
    "messages =  [  \n",
    "{'role':'system',\n",
    " 'content': system_message},   \n",
    "{'role':'user',\n",
    " 'content': user_message_1},  \n",
    "{'role':'assistant',\n",
    " 'content': f\"\"\"Relevant product information:\\n\\\n",
    " {product_information_for_user_message_1}\"\"\"},   \n",
    "]\n",
    "final_response = get_completion_from_messages(messages)\n",
    "print(final_response)"
   ]
  },
  {
   "cell_type": "code",
   "execution_count": null,
   "id": "bdfb0f79-c2c5-4851-9aea-4528e09a54e3",
   "metadata": {},
   "outputs": [],
   "source": []
  }
 ],
 "metadata": {
  "kernelspec": {
   "display_name": ".venv",
   "language": "python",
   "name": "python3"
  },
  "language_info": {
   "codemirror_mode": {
    "name": "ipython",
    "version": 3
   },
   "file_extension": ".py",
   "mimetype": "text/x-python",
   "name": "python",
   "nbconvert_exporter": "python",
   "pygments_lexer": "ipython3",
   "version": "3.12.0"
  }
 },
 "nbformat": 4,
 "nbformat_minor": 5
}
