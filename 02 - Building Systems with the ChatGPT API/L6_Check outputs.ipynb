{
 "cells": [
  {
   "cell_type": "markdown",
   "id": "d0670f1d-a612-4c45-b8e8-9be339e552d1",
   "metadata": {},
   "source": [
    "# L6: Check outputs"
   ]
  },
  {
   "cell_type": "markdown",
   "id": "d8adb9f4-f9ed-4c9f-8495-049c16548003",
   "metadata": {},
   "source": [
    "## Configuration\n",
    "#### Chargement de la clé OpenAI et des librairies Python"
   ]
  },
  {
   "cell_type": "code",
   "execution_count": 10,
   "id": "6af3568d",
   "metadata": {},
   "outputs": [],
   "source": [
    "from openai import OpenAI\n",
    "import os\n",
    "\n",
    "from dotenv import load_dotenv, find_dotenv\n",
    "_ = load_dotenv(find_dotenv())\n",
    "\n",
    "client = OpenAI(\n",
    "    # This is the default and can be omitted\n",
    "    api_key=os.getenv('OPENAI_API_KEY')\n",
    ")\n"
   ]
  },
  {
   "cell_type": "code",
   "execution_count": 11,
   "id": "1a858d53",
   "metadata": {},
   "outputs": [],
   "source": [
    "def get_completion_from_messages(messages, \n",
    "                                 model=\"gpt-4o-mini\", \n",
    "                                 temperature=0, \n",
    "                                 max_tokens=500):\n",
    "    response = client.chat.completions.create(\n",
    "        model=model,\n",
    "        messages=messages,\n",
    "        temperature=temperature, \n",
    "        max_tokens=max_tokens,\n",
    "    )\n",
    "    return response.choices[0].message.content"
   ]
  },
  {
   "cell_type": "markdown",
   "id": "9f7d3db3-2258-48c9-819e-cfd8780416e3",
   "metadata": {},
   "source": [
    "### Vérifiez la sortie pour détecter tout contenu potentiellement nuisible"
   ]
  },
  {
   "cell_type": "code",
   "execution_count": 16,
   "id": "6164c53b",
   "metadata": {},
   "outputs": [
    {
     "name": "stdout",
     "output_type": "stream",
     "text": [
      "Moderation(categories=Categories(harassment=False, harassment_threatening=False, hate=False, hate_threatening=False, illicit=None, illicit_violent=None, self_harm=False, self_harm_instructions=False, self_harm_intent=False, sexual=False, sexual_minors=False, violence=False, violence_graphic=False, self-harm=False, sexual/minors=False, hate/threatening=False, violence/graphic=False, self-harm/intent=False, self-harm/instructions=False, harassment/threatening=False), category_applied_input_types=None, category_scores=CategoryScores(harassment=8.775878814049065e-05, harassment_threatening=5.927726306254044e-06, hate=6.237114575924352e-05, hate_threatening=5.0794125854736194e-05, illicit=None, illicit_violent=None, self_harm=5.266005973680876e-05, self_harm_instructions=8.987857427200652e-07, self_harm_intent=5.816901193611557e-06, sexual=0.002583579160273075, sexual_minors=0.0005325612146407366, violence=0.0010029146214947104, violence_graphic=7.938853377709165e-05, self-harm=5.266005973680876e-05, sexual/minors=0.0005325612146407366, hate/threatening=5.0794125854736194e-05, violence/graphic=7.938853377709165e-05, self-harm/intent=5.816901193611557e-06, self-harm/instructions=8.987857427200652e-07, harassment/threatening=5.927726306254044e-06), flagged=False)\n"
     ]
    }
   ],
   "source": [
    "final_response_to_customer = f\"\"\"\n",
    "Le SmartX ProPhone a un écran de 6,1 pouces, 128 Go de stockage, \n",
    "un double appareil photo de 12 MP et 5G. L'appareil photo reflex \n",
    "numérique FotoSnap a un capteur de 24,2 MP, une vidéo en 1080p, \n",
    "un écran LCD de 3 pouces et des objectifs interchangeables.\n",
    "Nous avons une variété de téléviseurs, y compris le CineView 4K TV \n",
    "avec un écran de 55 pouces, une résolution 4K, du HDR et des fonctionnalités \n",
    "de smart TV. Nous avons également le système de cinéma maison SoundMax avec \n",
    "5,1 canaux, une puissance de 1000 W, un caisson de basses sans fil et Bluetooth.\n",
    "Avez-vous des questions spécifiques sur ces produits ou sur d'autres produits que nous proposons ?\n",
    "\"\"\"\n",
    "response = client.moderations.create(\n",
    "    input=final_response_to_customer\n",
    ")\n",
    "moderation_output = response.results[0]\n",
    "print(moderation_output)"
   ]
  },
  {
   "cell_type": "markdown",
   "id": "3dde612c-383e-444a-96d6-51c4f42dfb51",
   "metadata": {},
   "source": [
    "### Vérifiez si la sortie est factuellement basée sur les informations produit fournies. "
   ]
  },
  {
   "cell_type": "code",
   "execution_count": 17,
   "id": "ef6e394f",
   "metadata": {},
   "outputs": [
    {
     "name": "stdout",
     "output_type": "stream",
     "text": [
      "Y\n"
     ]
    }
   ],
   "source": [
    "system_message = f\"\"\"\n",
    "Vous êtes un assistant qui évalue si les réponses des agents de \n",
    "service client répondent suffisamment aux questions des clients, \n",
    "et qui valide également que tous les faits que l'assistant cite \n",
    "des informations produit sont corrects.\n",
    "Les informations produit et les messages des utilisateurs et des \n",
    "agents de service client seront délimités par 3 accents graves, \n",
    "c'est-à-dire ```.\n",
    "Répondez par un caractère Y ou N, sans ponctuation :\n",
    "Y - si la sortie répond suffisamment à la question ET que la réponse \n",
    "utilise correctement les informations produit\n",
    "N - sinon\n",
    "\n",
    "Affichez une seule lettre.\n",
    "\"\"\"\n",
    "customer_message = f\"\"\"Parlez-moi du SmartX ProPhone et de l'appareil \n",
    "photo FotoSnap, le reflex numérique. Parlez-moi aussi de vos téléviseurs.\"\"\"\n",
    "product_information = \"\"\"{ \"name\": \"SmartX ProPhone\", \"category\": \"Smartphones and Accessories\", \"brand\": \"SmartX\", \"model_number\": \"SX-PP10\", \"warranty\": \"1 year\", \"rating\": 4.6, \"features\": [ \"6.1-inch display\", \"128GB storage\", \"12MP dual camera\", \"5G\" ], \"description\": \"A powerful smartphone with advanced camera features.\", \"price\": 899.99 } { \"name\": \"FotoSnap DSLR Camera\", \"category\": \"Cameras and Camcorders\", \"brand\": \"FotoSnap\", \"model_number\": \"FS-DSLR200\", \"warranty\": \"1 year\", \"rating\": 4.7, \"features\": [ \"24.2MP sensor\", \"1080p video\", \"3-inch LCD\", \"Interchangeable lenses\" ], \"description\": \"Capture stunning photos and videos with this versatile DSLR camera.\", \"price\": 599.99 } { \"name\": \"CineView 4K TV\", \"category\": \"Televisions and Home Theater Systems\", \"brand\": \"CineView\", \"model_number\": \"CV-4K55\", \"warranty\": \"2 years\", \"rating\": 4.8, \"features\": [ \"55-inch display\", \"4K resolution\", \"HDR\", \"Smart TV\" ], \"description\": \"A stunning 4K TV with vibrant colors and smart features.\", \"price\": 599.99 } { \"name\": \"SoundMax Home Theater\", \"category\": \"Televisions and Home Theater Systems\", \"brand\": \"SoundMax\", \"model_number\": \"SM-HT100\", \"warranty\": \"1 year\", \"rating\": 4.4, \"features\": [ \"5.1 channel\", \"1000W output\", \"Wireless subwoofer\", \"Bluetooth\" ], \"description\": \"A powerful home theater system for an immersive audio experience.\", \"price\": 399.99 } { \"name\": \"CineView 8K TV\", \"category\": \"Televisions and Home Theater Systems\", \"brand\": \"CineView\", \"model_number\": \"CV-8K65\", \"warranty\": \"2 years\", \"rating\": 4.9, \"features\": [ \"65-inch display\", \"8K resolution\", \"HDR\", \"Smart TV\" ], \"description\": \"Experience the future of television with this stunning 8K TV.\", \"price\": 2999.99 } { \"name\": \"SoundMax Soundbar\", \"category\": \"Televisions and Home Theater Systems\", \"brand\": \"SoundMax\", \"model_number\": \"SM-SB50\", \"warranty\": \"1 year\", \"rating\": 4.3, \"features\": [ \"2.1 channel\", \"300W output\", \"Wireless subwoofer\", \"Bluetooth\" ], \"description\": \"Upgrade your TV's audio with this sleek and powerful soundbar.\", \"price\": 199.99 } { \"name\": \"CineView OLED TV\", \"category\": \"Televisions and Home Theater Systems\", \"brand\": \"CineView\", \"model_number\": \"CV-OLED55\", \"warranty\": \"2 years\", \"rating\": 4.7, \"features\": [ \"55-inch display\", \"4K resolution\", \"HDR\", \"Smart TV\" ], \"description\": \"Experience true blacks and vibrant colors with this OLED TV.\", \"price\": 1499.99 }\"\"\"\n",
    "q_a_pair = f\"\"\"\n",
    "Customer message: ```{customer_message}```\n",
    "Product information: ```{product_information}```\n",
    "Agent response: ```{final_response_to_customer}```\n",
    "\n",
    "La réponse utilise-t-elle correctement les informations récupérées ?\n",
    "La réponse répond-elle suffisamment à la question ?\n",
    "\n",
    "Affichez Y ou N.\n",
    "\"\"\"\n",
    "messages = [\n",
    "    {'role': 'system', 'content': system_message},\n",
    "    {'role': 'user', 'content': q_a_pair}\n",
    "]\n",
    "\n",
    "response = get_completion_from_messages(messages, max_tokens=1)\n",
    "print(response)"
   ]
  },
  {
   "cell_type": "code",
   "execution_count": 18,
   "id": "6c33911c",
   "metadata": {},
   "outputs": [
    {
     "name": "stdout",
     "output_type": "stream",
     "text": [
      "N\n"
     ]
    }
   ],
   "source": [
    "another_response = \"La vie est comme une boite de chocolats\"\n",
    "q_a_pair = f\"\"\"\n",
    "Message de l'utilisateur : ```{customer_message}```\n",
    "Informations sur le produit : ```{product_information}```\n",
    "Réponse de l'agent : ```{another_response}```\n",
    "\n",
    "La réponse utilise-t-elle correctement les informations récupérées ?\n",
    "La réponse répond-elle suffisamment à la question ?\n",
    "\n",
    "Affichez Y ou N.\n",
    "\"\"\"\n",
    "messages = [\n",
    "    {'role': 'system', 'content': system_message},\n",
    "    {'role': 'user', 'content': q_a_pair}\n",
    "]\n",
    "\n",
    "response = get_completion_from_messages(messages)\n",
    "print(response)"
   ]
  },
  {
   "cell_type": "code",
   "execution_count": null,
   "id": "e34e28b5-0e91-4cf6-b843-0e429be99058",
   "metadata": {},
   "outputs": [],
   "source": []
  }
 ],
 "metadata": {
  "kernelspec": {
   "display_name": ".venv",
   "language": "python",
   "name": "python3"
  },
  "language_info": {
   "codemirror_mode": {
    "name": "ipython",
    "version": 3
   },
   "file_extension": ".py",
   "mimetype": "text/x-python",
   "name": "python",
   "nbconvert_exporter": "python",
   "pygments_lexer": "ipython3",
   "version": "3.12.0"
  }
 },
 "nbformat": 4,
 "nbformat_minor": 5
}
