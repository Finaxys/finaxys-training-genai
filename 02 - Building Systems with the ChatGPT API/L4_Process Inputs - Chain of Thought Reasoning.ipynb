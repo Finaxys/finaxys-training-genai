{
 "cells": [
  {
   "cell_type": "markdown",
   "id": "0e7531d5-0c22-49ad-9d37-8b08eec7d4e0",
   "metadata": {},
   "source": [
    "# L4: Process Inputs: Chain of Thought Reasoning"
   ]
  },
  {
   "cell_type": "markdown",
   "id": "e613f6af-ce1c-49ea-ae99-0d2e3fa3fae1",
   "metadata": {},
   "source": [
    "## Configuration\n",
    "#### Chargement de la clé OpenAI et des librairies Python"
   ]
  },
  {
   "cell_type": "code",
   "execution_count": 1,
   "id": "0df1c9e8",
   "metadata": {},
   "outputs": [],
   "source": [
    "from openai import OpenAI\n",
    "import os\n",
    "\n",
    "from dotenv import load_dotenv, find_dotenv\n",
    "_ = load_dotenv(find_dotenv())\n",
    "\n",
    "client = OpenAI(\n",
    "    # This is the default and can be omitted\n",
    "    api_key=os.getenv('OPENAI_API_KEY')\n",
    ")\n"
   ]
  },
  {
   "cell_type": "code",
   "execution_count": 2,
   "id": "b98a05b6",
   "metadata": {},
   "outputs": [],
   "source": [
    "def get_completion_from_messages(messages, \n",
    "                                 model=\"gpt-4o-mini\", \n",
    "                                 temperature=0, \n",
    "                                 max_tokens=500):\n",
    "    response = client.chat.completions.create(\n",
    "        model=model,\n",
    "        messages=messages,\n",
    "        temperature=temperature, \n",
    "        max_tokens=max_tokens,\n",
    "    )\n",
    "    return response.choices[0].message.content"
   ]
  },
  {
   "cell_type": "markdown",
   "id": "119d273f-df72-47e2-a9a6-a8994d742aec",
   "metadata": {},
   "source": [
    "## Chain-of-Thought Prompting"
   ]
  },
  {
   "cell_type": "code",
   "execution_count": 3,
   "id": "e0e66beb-8fb5-4c7b-afa7-13d20ded1d49",
   "metadata": {},
   "outputs": [],
   "source": [
    "delimiter = \"####\"\n",
    "system_message = f\"\"\"\n",
    "Suivez ces étapes pour répondre aux demandes des clients.\n",
    "La demande du client sera délimitée par quatre hashtags, c'est-à-dire {delimiter}.\n",
    "\n",
    "Étape 1:{delimiter} Décidez d'abord si l'utilisateur\n",
    "pose une question sur un produit spécifique ou sur des produits.\n",
    "La catégorie de produits ne compte pas.\n",
    "\n",
    "Étape 2:{delimiter} Si l'utilisateur pose des questions sur des \n",
    "produits spécifiques, identifiez si les produits figurent dans \n",
    "la liste suivante. Tous les produits disponibles : \n",
    "1. Produit : TechPro Ultrabook\n",
    "   Catégorie : Computers and Laptops\n",
    "   Marque : TechPro\n",
    "   Numéro du modèle : TP-UB100\n",
    "   Garantie : 1 year\n",
    "   Note : 4,5\n",
    "   Caractéristiques : écran de 13\"3, 8GB RAM, 256GB SSD, Intel Core i5 processor\n",
    "   Description : Un ultrabook élégant et léger pour une utilisation quotidienne.\n",
    "   Prix : 799,99€\n",
    "\n",
    "2. Produit : BlueWave Gaming Laptop\n",
    "   Catégorie : Computers and Laptops\n",
    "   Marque : BlueWave\n",
    "   Numéro du modèle : BW-GL200\n",
    "   Garantie : 2 years\n",
    "   Notes : 4,7\n",
    "   Caractéristiques : écran de 15\"6, 16GB RAM, 512GB SSD, NVIDIA GeForce RTX 3060\n",
    "   Description : Un ordinateur portable de jeu haute performance pour une expérience immersive.\n",
    "   Prix : 1199,99€\n",
    "\n",
    "3. Produit : PowerLite Convertible\n",
    "   Catégorie : Computers and Laptops\n",
    "   Marque : PowerLite\n",
    "   Numéro du modèle : PL-CV300\n",
    "   Garantie : 1 year\n",
    "   Note : 4,3\n",
    "   Caractéristiques : écran de 14\", 8GB RAM, 256GB SSD, 360-degree hinge\n",
    "   Description : Un ordinateur portable convertible polyvalent avec un écran tactile réactif.\n",
    "   Prix : 699,99€\n",
    "\n",
    "4. Produit : TechPro Desktop\n",
    "   Catégorie : Computers and Laptops\n",
    "   Marque : TechPro\n",
    "   Numéro du modèle : TP-DT500\n",
    "   Garantie : 1 year\n",
    "   Note : 4,4\n",
    "   Caractéristiques : Intel Core i7 processor, 16GB RAM, 1TB HDD, NVIDIA GeForce GTX 1660\n",
    "   Description: Un ordinateur de bureau puissant pour le travail et les loisirs.\n",
    "   Prix : 999,99€\n",
    "\n",
    "5. Produit : BlueWave Chromebook\n",
    "   Catégorie : Computers and Laptops\n",
    "   Marque : BlueWave\n",
    "   Numéro du modèle : BW-CB100\n",
    "   Garantie : 1 year\n",
    "   Note : 4,1\n",
    "   Caractéristiques : écran de 11\"6, 4GB RAM, 32GB eMMC, Chrome OS\n",
    "   Description : Un Chromebook compact et abordable pour les tâches quotidiennes.\n",
    "   Prix : 249,99€\n",
    "\n",
    "Étape 3:{delimiter} Si le message contient des produits dans la liste ci-dessus,\n",
    "énumérez toutes les hypothèses que l'utilisateur fait dans son message,\n",
    "par exemple que l'ordinateur portable X est plus grand que l'ordinateur portable Y,\n",
    "ou que l'ordinateur portable Z a une garantie de 2 ans.\n",
    "\n",
    "Étape 4:{delimiter} : Si l'utilisateur a fait des hypothèses, déterminez si \n",
    "l'hypothèse est vraie en vous basant sur vos informations sur les produits.\n",
    "\n",
    "Étape 5:{delimiter} : D'abord, corrigez poliment les hypothèses incorrectes \n",
    "du client si applicable. Mentionnez ou faites référence uniquement aux produits \n",
    "dans la liste des 5 produits disponibles, car ce sont les seuls 5 produits que \n",
    "le magasin vend. Répondez au client avec un ton amical. \n",
    "\n",
    "Utilisez le format suivant :\n",
    "Étape 1 :{delimiter} <step 1 reasoning>\n",
    "Étape 2 :{delimiter} <step 2 reasoning>\n",
    "Étape 3 :{delimiter} <step 3 reasoning>\n",
    "Étape 4 :{delimiter} <step 4 reasoning>\n",
    "Réponse pour l'utilisateur : {delimiter} <response to customer>\n",
    "\n",
    "Assurez-vous d'inclure {delimiter} pour séparer chaque étape. \n",
    "\"\"\""
   ]
  },
  {
   "cell_type": "code",
   "execution_count": 4,
   "id": "6be1ea0a-a816-4694-8a79-77d985f2e274",
   "metadata": {},
   "outputs": [
    {
     "name": "stdout",
     "output_type": "stream",
     "text": [
      "Étape 1 :#### L'utilisateur pose une question sur des produits spécifiques, en l'occurrence le Chromebook BlueWave et le TechPro Desktop.\n",
      "\n",
      "Étape 2 :#### Les deux produits mentionnés, le BlueWave Chromebook et le TechPro Desktop, figurent dans la liste des produits disponibles.\n",
      "\n",
      "Étape 3 :#### L'utilisateur suppose que le Chromebook BlueWave est plus cher que le TechPro Desktop.\n",
      "\n",
      "Étape 4 :#### En vérifiant les prix, le BlueWave Chromebook coûte 249,99€, tandis que le TechPro Desktop coûte 999,99€. Donc, l'hypothèse de l'utilisateur est incorrecte.\n",
      "\n",
      "Réponse pour l'utilisateur : #### En fait, le Chromebook BlueWave est moins cher que le TechPro Desktop. Le Chromebook coûte 249,99€, tandis que le TechPro Desktop est à 999,99€. Si vous avez d'autres questions sur ces produits ou si vous avez besoin d'aide pour choisir, n'hésitez pas à demander !\n"
     ]
    }
   ],
   "source": [
    "user_message = f\"\"\"De combien le Chromebook BlueWave \n",
    "est-il plus cher que le TechPro Desktop ?\"\"\"\n",
    "\n",
    "messages =  [  \n",
    "{'role':'system', \n",
    " 'content': system_message},    \n",
    "{'role':'user', \n",
    " 'content': f\"{delimiter}{user_message}{delimiter}\"},  \n",
    "] \n",
    "\n",
    "response = get_completion_from_messages(messages)\n",
    "print(response)"
   ]
  },
  {
   "cell_type": "code",
   "execution_count": 5,
   "id": "f51afe6d",
   "metadata": {},
   "outputs": [
    {
     "name": "stdout",
     "output_type": "stream",
     "text": [
      "Étape 1 :#### L'utilisateur pose une question sur des produits en général, en demandant si des télés sont vendues.\n",
      "\n",
      "Étape 2 :#### La question ne concerne pas un produit spécifique de la liste fournie.\n",
      "\n",
      "Étape 3 :#### Il n'y a pas d'hypothèses à évaluer, car la question est générale.\n",
      "\n",
      "Étape 4 :#### N/A\n",
      "\n",
      "Réponse pour l'utilisateur : #### Je suis désolé, mais nous ne vendons pas de télés. Nous proposons uniquement des ordinateurs et des ordinateurs portables. Si vous avez des questions sur nos produits disponibles, n'hésitez pas à demander !\n"
     ]
    }
   ],
   "source": [
    "user_message = f\"\"\"\n",
    "Est-ce que vous vendez des télés ?\"\"\"\n",
    "messages =  [  \n",
    "{'role':'system', \n",
    " 'content': system_message},    \n",
    "{'role':'user', \n",
    " 'content': f\"{delimiter}{user_message}{delimiter}\"},  \n",
    "] \n",
    "response = get_completion_from_messages(messages)\n",
    "print(response)"
   ]
  },
  {
   "cell_type": "markdown",
   "id": "a552a4f6-5e65-4d85-9579-5263f720aa10",
   "metadata": {},
   "source": [
    "## Monologue interne\n",
    "- Comme nous avons demandé au LLM de séparer ses étapes de raisonnement par un délimiteur, nous pouvons cacher le raisonnement en chaîne de la pensée dans la sortie finale que l'utilisateur voit."
   ]
  },
  {
   "cell_type": "code",
   "execution_count": 6,
   "id": "2a825237",
   "metadata": {},
   "outputs": [
    {
     "name": "stdout",
     "output_type": "stream",
     "text": [
      "Je suis désolé, mais nous ne vendons pas de télés. Nous proposons uniquement des ordinateurs et des ordinateurs portables. Si vous avez des questions sur nos produits disponibles, n'hésitez pas à demander !\n"
     ]
    }
   ],
   "source": [
    "try:\n",
    "    final_response = response.split(delimiter)[-1].strip()\n",
    "except Exception as e:\n",
    "    final_response = \"Désolé, nous rencontrons certains problèmes techniques, veuillez essayer de poser une autre question.\"\n",
    "    \n",
    "print(final_response)"
   ]
  },
  {
   "cell_type": "code",
   "execution_count": null,
   "id": "0ece6812-461e-4d72-9cd4-c44309547ba2",
   "metadata": {},
   "outputs": [],
   "source": []
  }
 ],
 "metadata": {
  "kernelspec": {
   "display_name": ".venv",
   "language": "python",
   "name": "python3"
  },
  "language_info": {
   "codemirror_mode": {
    "name": "ipython",
    "version": 3
   },
   "file_extension": ".py",
   "mimetype": "text/x-python",
   "name": "python",
   "nbconvert_exporter": "python",
   "pygments_lexer": "ipython3",
   "version": "3.12.0"
  }
 },
 "nbformat": 4,
 "nbformat_minor": 5
}
