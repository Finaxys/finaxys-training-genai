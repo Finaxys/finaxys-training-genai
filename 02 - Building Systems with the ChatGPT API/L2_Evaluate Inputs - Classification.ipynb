{
 "cells": [
  {
   "cell_type": "markdown",
   "id": "f14c4442-3fc5-4070-9ef2-bb33d30e6b38",
   "metadata": {},
   "source": [
    "# L2: Evaluate Inputs: Classification"
   ]
  },
  {
   "cell_type": "markdown",
   "id": "26fd0696-18e6-4029-8738-fecba92851db",
   "metadata": {},
   "source": [
    "## Configuration\n",
    "#### Chargement de la clé OpenAI et des librairies Python"
   ]
  },
  {
   "cell_type": "code",
   "execution_count": 3,
   "id": "87f647e2",
   "metadata": {
    "height": 115
   },
   "outputs": [],
   "source": [
    "from openai import OpenAI\n",
    "import os\n",
    "\n",
    "from dotenv import load_dotenv, find_dotenv\n",
    "_ = load_dotenv(find_dotenv())\n",
    "\n",
    "client = OpenAI(\n",
    "    # This is the default and can be omitted\n",
    "    api_key=os.getenv('OPENAI_API_KEY')\n",
    ")\n"
   ]
  },
  {
   "cell_type": "code",
   "execution_count": 4,
   "id": "101624a2",
   "metadata": {
    "height": 200
   },
   "outputs": [],
   "source": [
    "def get_completion_from_messages(messages, \n",
    "                                 model=\"gpt-4o-mini\", \n",
    "                                 temperature=0, \n",
    "                                 max_tokens=500):\n",
    "    response = client.chat.completions.create(\n",
    "        model=model,\n",
    "        messages=messages,\n",
    "        temperature=temperature, \n",
    "        max_tokens=max_tokens,\n",
    "    )\n",
    "    return response.choices[0].message.content"
   ]
  },
  {
   "cell_type": "markdown",
   "id": "d3db09d1-6253-4c9e-9ad1-5a6134df3e6c",
   "metadata": {},
   "source": [
    "#### Classifiez les demandes des clients pour traiter différents cas."
   ]
  },
  {
   "cell_type": "code",
   "execution_count": 5,
   "id": "8db30f42",
   "metadata": {
    "height": 812
   },
   "outputs": [
    {
     "name": "stdout",
     "output_type": "stream",
     "text": [
      "```json\n",
      "{\n",
      "  \"primaire\": \"Gestion de Compte\",\n",
      "  \"secondaire\": \"Fermer le compte\"\n",
      "}\n",
      "```\n"
     ]
    }
   ],
   "source": [
    "delimiter = \"####\"\n",
    "system_message = f\"\"\"\n",
    "Vous recevrez des demandes de service client.\n",
    "La demande de service client sera délimitée par les caractères {delimiter}.\n",
    "Classez chaque demande dans une catégorie principale et une catégorie secondaire.\n",
    "Fournissez votre sortie au format JSON avec les clés : primaire et secondaire.\n",
    "\n",
    "Catégories principales : Facturation, Support Technique,\n",
    "Gestion de Compte ou Demande Générale.\n",
    "\n",
    "Catégories secondaires de facturation :\n",
    "Se désabonner ou mettre à niveau\n",
    "Ajouter un mode de paiement\n",
    "Explication de la charge\n",
    "Contester une charge\n",
    "\n",
    "Catégories secondaires de support technique :\n",
    "Dépannage général\n",
    "Compatibilité des appareils\n",
    "Mises à jour logicielles\n",
    "\n",
    "Catégories secondaires de gestion de compte :\n",
    "Réinitialisation du mot de passe\n",
    "Mettre à jour les informations personnelles\n",
    "Fermer le compte\n",
    "Sécurité du compte\n",
    "\n",
    "Catégories secondaires de demande générale :\n",
    "Informations sur les produits\n",
    "Tarification\n",
    "Retour d'expérience\n",
    "Parler à un humain\n",
    "\n",
    "\"\"\"\n",
    "user_message = f\"\"\"\\\n",
    "Je veux que vous supprimiez mon profil et toutes mes données utilisateur.\"\"\"\n",
    "messages =  [  \n",
    "{'role':'system', \n",
    " 'content': system_message},    \n",
    "{'role':'user', \n",
    " 'content': f\"{delimiter}{user_message}{delimiter}\"},  \n",
    "] \n",
    "response = get_completion_from_messages(messages)\n",
    "print(response)"
   ]
  },
  {
   "cell_type": "code",
   "execution_count": 6,
   "id": "f9a5a790",
   "metadata": {
    "height": 183
   },
   "outputs": [
    {
     "name": "stdout",
     "output_type": "stream",
     "text": [
      "{\n",
      "  \"primaire\": \"Demande Générale\",\n",
      "  \"secondaire\": \"Informations sur les produits\"\n",
      "}\n"
     ]
    },
    {
     "ename": "",
     "evalue": "",
     "output_type": "error",
     "traceback": [
      "\u001b[1;31mThe Kernel crashed while executing code in the current cell or a previous cell. \n",
      "\u001b[1;31mPlease review the code in the cell(s) to identify a possible cause of the failure. \n",
      "\u001b[1;31mClick <a href='https://aka.ms/vscodeJupyterKernelCrash'>here</a> for more info. \n",
      "\u001b[1;31mView Jupyter <a href='command:jupyter.viewOutput'>log</a> for further details."
     ]
    }
   ],
   "source": [
    "user_message = f\"\"\"\\\n",
    "Dites-m'en plus sur vos téléviseurs à écran plat.\"\"\"\n",
    "messages =  [  \n",
    "{'role':'system', \n",
    " 'content': system_message},    \n",
    "{'role':'user', \n",
    " 'content': f\"{delimiter}{user_message}{delimiter}\"},  \n",
    "] \n",
    "response = get_completion_from_messages(messages)\n",
    "print(response)"
   ]
  },
  {
   "cell_type": "code",
   "execution_count": null,
   "id": "5cfd2fae",
   "metadata": {
    "height": 30
   },
   "outputs": [],
   "source": []
  }
 ],
 "metadata": {
  "kernelspec": {
   "display_name": ".venv",
   "language": "python",
   "name": "python3"
  },
  "language_info": {
   "codemirror_mode": {
    "name": "ipython",
    "version": 3
   },
   "file_extension": ".py",
   "mimetype": "text/x-python",
   "name": "python",
   "nbconvert_exporter": "python",
   "pygments_lexer": "ipython3",
   "version": "3.12.0"
  }
 },
 "nbformat": 4,
 "nbformat_minor": 5
}
