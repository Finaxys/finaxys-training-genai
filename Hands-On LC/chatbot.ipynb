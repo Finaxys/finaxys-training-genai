{
 "cells": [
  {
   "cell_type": "code",
   "execution_count": null,
   "id": "7d545f8a-576c-4c0a-8afb-fe36675fa95f",
   "metadata": {},
   "outputs": [],
   "source": [
    "from langchain_openai import ChatOpenAI\n",
    "from langchain_core.prompts import ChatPromptTemplate\n",
    "from langchain_core.messages import SystemMessage\n",
    "from langchain_core.prompts.chat import MessagesPlaceholder"
   ]
  },
  {
   "cell_type": "code",
   "execution_count": null,
   "id": "2e38061e-6adc-4dc7-9ffa-138051cf51b1",
   "metadata": {},
   "outputs": [],
   "source": [
    "SYSTEM_PROMPT = \"\"\"\n",
    "    Vous êtes OrderBot, un service automatisé pour prendre \n",
    "    les commandes dans une pizzeria.\n",
    "    Vous commencez par saluer le client, puis vous prenez la commande,\n",
    "    et ensuite vous demandez si c'est un retrait ou une livraison.\n",
    "    Vous attendez de recevoir la commande complète, puis vous la \n",
    "    récapitulez et vous vérifiez une dernière fois si le client \n",
    "    souhaite ajouter quelque chose d'autre.\n",
    "    Si c'est une livraison, vous demandez une adresse.\n",
    "    Enfin, vous collectez le paiement.\n",
    "    Assurez-vous de clarifier toutes les options, suppléments et \n",
    "    tailles pour identifier de manière unique l'article du menu.\n",
    "    Vous répondez de manière brève, très conviviale et amicale.\n",
    "    Le menu inclut :\n",
    "    pizza pepperoni 12.95, 10.00, 7.00 \n",
    "    pizza au fromage   10.95, 9.25, 6.50 \n",
    "    pizza aux aubergines   11.95, 9.75, 6.75 \n",
    "    frites 4.50, 3.50 \n",
    "    salade grecque 7.25 \n",
    "    Garnitures : \n",
    "    fromage supplémentaire 2.00, \n",
    "    champignons 1.50 \n",
    "    sauce 3.00 \n",
    "    bacon 3.50 \n",
    "    sauce IA 1.50 \n",
    "    poivrons 1.00 \n",
    "    Boissons : \n",
    "    coca 3.00, 2.00, 1.00 \n",
    "    sprite 3.00, 2.00, 1.00 \n",
    "    Eau en bouteille 5.00\n",
    "    \"\"\""
   ]
  },
  {
   "cell_type": "code",
   "execution_count": null,
   "id": "240a05d0-8482-424c-ad4c-176869c3900a",
   "metadata": {},
   "outputs": [],
   "source": [
    "from dotenv import load_dotenv, find_dotenv\n",
    "_ = load_dotenv(find_dotenv())"
   ]
  },
  {
   "cell_type": "markdown",
   "id": "7407d9f2-f8b7-4b31-825f-1cf46b5d2e41",
   "metadata": {},
   "source": [
    "# Première utilisation d'une chain"
   ]
  },
  {
   "cell_type": "code",
   "execution_count": null,
   "id": "91253b21-dab9-4001-8f7f-92cf70b323a2",
   "metadata": {},
   "outputs": [],
   "source": [
    "client = ChatOpenAI(model='gpt-4o-mini')\n",
    "messages = [SystemMessage(SYSTEM_PROMPT), MessagesPlaceholder(\"conversation\")]"
   ]
  },
  {
   "cell_type": "code",
   "execution_count": null,
   "id": "1ef5ab34-c8a2-4e19-8450-b1a186ef177e",
   "metadata": {},
   "outputs": [],
   "source": [
    "prompt = \"\"\"Création du prompt à partir d'un template\"\"\""
   ]
  },
  {
   "cell_type": "code",
   "execution_count": null,
   "id": "5e4fab40-48d1-4ed2-a54f-869d44805512",
   "metadata": {},
   "outputs": [],
   "source": [
    "chain = \"\"\"Mise en place d'une chaine en utilisant le prompt puis l'appel au LLM\"\"\""
   ]
  },
  {
   "cell_type": "code",
   "execution_count": null,
   "id": "51fe5d8e-a245-44fd-9968-784e9c05e467",
   "metadata": {},
   "outputs": [],
   "source": [
    "conversation = [{\"role\": \"human\", \"content\":\"Quelles sont les pizzas au menu ?\"}]"
   ]
  },
  {
   "cell_type": "code",
   "execution_count": null,
   "id": "0cef977f-221d-4dc3-bfee-dcd78a90395c",
   "metadata": {},
   "outputs": [],
   "source": [
    "chain.invoke({\"conversation\": conversation})"
   ]
  },
  {
   "cell_type": "markdown",
   "id": "c498d6b2-d717-4f3c-8ef8-185a00cb06c0",
   "metadata": {},
   "source": [
    "# Mise en place d'un ChatBot"
   ]
  },
  {
   "cell_type": "code",
   "execution_count": null,
   "id": "ffc34724-bef7-4673-90e9-9da560223bfa",
   "metadata": {
    "scrolled": true
   },
   "outputs": [],
   "source": [
    "import panel as pn  # GUI\n",
    "\n",
    "pn.extension()"
   ]
  },
  {
   "cell_type": "code",
   "execution_count": null,
   "id": "3bb815bf-5b13-44fa-98b2-ba60a44cb7e2",
   "metadata": {},
   "outputs": [],
   "source": [
    "def collect_messages(_):\n",
    "    prompt = inp.value_input\n",
    "    inp.value = ''\n",
    "    conversation.append({'role': 'human', 'content': f\"{prompt}\"})\n",
    "    response = chain.invoke({\"conversation\": conversation}).content\n",
    "    conversation.append({'role': 'ai', 'content': f\"{response}\"})\n",
    "    if prompt:\n",
    "        panels.append(\n",
    "            pn.Row('User:', pn.pane.Markdown(prompt, width=600)))\n",
    "    panels.append(\n",
    "        pn.Row('Assistant:', pn.pane.Markdown(response, width=600, styles={'background-color': '#F6F6F6'})))\n",
    "    return pn.Column(*panels)"
   ]
  },
  {
   "cell_type": "code",
   "execution_count": null,
   "id": "18751824-b5ae-4b11-8ad1-033e669a447b",
   "metadata": {},
   "outputs": [],
   "source": [
    "panels = [] # collect display \n",
    "conversation = []\n",
    "\n",
    "inp = pn.widgets.TextInput(value=\"Hi\", placeholder='Saisir votre texte ici ... ')\n",
    "button_conversation = pn.widgets.Button(name=\"Chat!\")\n",
    "\n",
    "interactive_conversation = pn.bind(collect_messages, button_conversation)\n",
    "\n",
    "dashboard = pn.Column(\n",
    "    inp,\n",
    "    pn.Row(button_conversation),\n",
    "    pn.panel(interactive_conversation, loading_indicator=True, height=300),\n",
    ")\n",
    "\n",
    "dashboard"
   ]
  },
  {
   "cell_type": "markdown",
   "id": "21aad840-8bf7-4d6d-a417-7a41540ccb8e",
   "metadata": {},
   "source": [
    "# Corrections"
   ]
  },
  {
   "cell_type": "raw",
   "id": "3b4d14a7-f022-4f2e-9786-acee3e03d133",
   "metadata": {},
   "source": [
    "prompt = ChatPromptTemplate.from_messages(messages)\n",
    "chain = prompt | client"
   ]
  },
  {
   "cell_type": "code",
   "execution_count": null,
   "id": "34faa5c9-eeb9-488f-8eeb-c4f454427fa9",
   "metadata": {},
   "outputs": [],
   "source": []
  }
 ],
 "metadata": {
  "kernelspec": {
   "display_name": "Python 3 (ipykernel)",
   "language": "python",
   "name": "python3"
  },
  "language_info": {
   "codemirror_mode": {
    "name": "ipython",
    "version": 3
   },
   "file_extension": ".py",
   "mimetype": "text/x-python",
   "name": "python",
   "nbconvert_exporter": "python",
   "pygments_lexer": "ipython3",
   "version": "3.10.14"
  }
 },
 "nbformat": 4,
 "nbformat_minor": 5
}
