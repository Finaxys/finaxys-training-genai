{
 "cells": [
  {
   "cell_type": "markdown",
   "id": "a9bff53e",
   "metadata": {},
   "source": [
    "# Lesson 1: Advanced RAG Pipeline"
   ]
  },
  {
   "cell_type": "code",
   "execution_count": 1,
   "id": "15c34fed-0096-43f1-b846-f9f70eaf984a",
   "metadata": {},
   "outputs": [],
   "source": [
    "import warnings\n",
    "warnings.filterwarnings('ignore')"
   ]
  },
  {
   "cell_type": "code",
   "execution_count": 2,
   "id": "2cdebf73-80eb-4a01-8361-cff6c0f3222e",
   "metadata": {},
   "outputs": [
    {
     "name": "stdout",
     "output_type": "stream",
     "text": [
      "Requirement already satisfied: trulens_eval in /Users/pierrebittner/miniforge3/envs/finaxys-training-genai/lib/python3.10/site-packages (0.27.2)\n",
      "Requirement already satisfied: llama-index>=0.9.26 in /Users/pierrebittner/miniforge3/envs/finaxys-training-genai/lib/python3.10/site-packages (0.10.27)\n",
      "Requirement already satisfied: llama-index-embeddings-huggingface in /Users/pierrebittner/miniforge3/envs/finaxys-training-genai/lib/python3.10/site-packages (0.2.0)\n",
      "Requirement already satisfied: docarray>=0.39.1 in /Users/pierrebittner/miniforge3/envs/finaxys-training-genai/lib/python3.10/site-packages (0.40.0)\n",
      "Requirement already satisfied: protobuf>=4.23.2 in /Users/pierrebittner/miniforge3/envs/finaxys-training-genai/lib/python3.10/site-packages (4.25.3)\n",
      "Requirement already satisfied: boto3>=1.33.6 in /Users/pierrebittner/miniforge3/envs/finaxys-training-genai/lib/python3.10/site-packages (1.34.80)\n",
      "Requirement already satisfied: numpy>=1.23.5 in /Users/pierrebittner/miniforge3/envs/finaxys-training-genai/lib/python3.10/site-packages (from trulens_eval) (1.26.4)\n",
      "Requirement already satisfied: frozendict>=2.3.8 in /Users/pierrebittner/miniforge3/envs/finaxys-training-genai/lib/python3.10/site-packages (from trulens_eval) (2.4.1)\n",
      "Requirement already satisfied: munch>=3.0.0 in /Users/pierrebittner/miniforge3/envs/finaxys-training-genai/lib/python3.10/site-packages (from trulens_eval) (4.0.0)\n",
      "Requirement already satisfied: dill>=0.3.7 in /Users/pierrebittner/miniforge3/envs/finaxys-training-genai/lib/python3.10/site-packages (from trulens_eval) (0.3.8)\n",
      "Requirement already satisfied: tqdm>=4.66.1 in /Users/pierrebittner/miniforge3/envs/finaxys-training-genai/lib/python3.10/site-packages (from trulens_eval) (4.66.2)\n",
      "Requirement already satisfied: nltk>=3.8.1 in /Users/pierrebittner/miniforge3/envs/finaxys-training-genai/lib/python3.10/site-packages (from trulens_eval) (3.8.1)\n",
      "Requirement already satisfied: requests>=2.31.0 in /Users/pierrebittner/miniforge3/envs/finaxys-training-genai/lib/python3.10/site-packages (from trulens_eval) (2.31.0)\n",
      "Requirement already satisfied: nest-asyncio>=1.5.8 in /Users/pierrebittner/miniforge3/envs/finaxys-training-genai/lib/python3.10/site-packages (from trulens_eval) (1.6.0)\n",
      "Requirement already satisfied: typing-extensions>=4.9.0 in /Users/pierrebittner/miniforge3/envs/finaxys-training-genai/lib/python3.10/site-packages (from trulens_eval) (4.11.0)\n",
      "Requirement already satisfied: psutil>=5.9.8 in /Users/pierrebittner/miniforge3/envs/finaxys-training-genai/lib/python3.10/site-packages (from trulens_eval) (5.9.8)\n",
      "Requirement already satisfied: pip>=24.0 in /Users/pierrebittner/miniforge3/envs/finaxys-training-genai/lib/python3.10/site-packages (from trulens_eval) (24.0)\n",
      "Requirement already satisfied: packaging>=23.2 in /Users/pierrebittner/miniforge3/envs/finaxys-training-genai/lib/python3.10/site-packages (from trulens_eval) (23.2)\n",
      "Requirement already satisfied: python-dotenv>=1.0.0 in /Users/pierrebittner/miniforge3/envs/finaxys-training-genai/lib/python3.10/site-packages (from trulens_eval) (1.0.1)\n",
      "Requirement already satisfied: pydantic<3,>=2 in /Users/pierrebittner/miniforge3/envs/finaxys-training-genai/lib/python3.10/site-packages (from trulens_eval) (2.6.4)\n",
      "Requirement already satisfied: merkle-json>=1.0.0 in /Users/pierrebittner/miniforge3/envs/finaxys-training-genai/lib/python3.10/site-packages (from trulens_eval) (1.0.0)\n",
      "Requirement already satisfied: langchain>=0.1.14 in /Users/pierrebittner/miniforge3/envs/finaxys-training-genai/lib/python3.10/site-packages (from trulens_eval) (0.1.14)\n",
      "Requirement already satisfied: langchain-core>=0.1.6 in /Users/pierrebittner/miniforge3/envs/finaxys-training-genai/lib/python3.10/site-packages (from trulens_eval) (0.1.40)\n",
      "Requirement already satisfied: typing-inspect>=0.8.0 in /Users/pierrebittner/miniforge3/envs/finaxys-training-genai/lib/python3.10/site-packages (from trulens_eval) (0.9.0)\n",
      "Requirement already satisfied: millify>=0.1.1 in /Users/pierrebittner/miniforge3/envs/finaxys-training-genai/lib/python3.10/site-packages (from trulens_eval) (0.1.1)\n",
      "Requirement already satisfied: humanize>=4.6.0 in /Users/pierrebittner/miniforge3/envs/finaxys-training-genai/lib/python3.10/site-packages (from trulens_eval) (4.9.0)\n",
      "Requirement already satisfied: streamlit>=1.32.2 in /Users/pierrebittner/miniforge3/envs/finaxys-training-genai/lib/python3.10/site-packages (from trulens_eval) (1.33.0)\n",
      "Requirement already satisfied: streamlit-aggrid==0.3.4 in /Users/pierrebittner/miniforge3/envs/finaxys-training-genai/lib/python3.10/site-packages (from trulens_eval) (0.3.4)\n",
      "Requirement already satisfied: streamlit-extras>=0.4.0 in /Users/pierrebittner/miniforge3/envs/finaxys-training-genai/lib/python3.10/site-packages (from trulens_eval) (0.4.2)\n",
      "Requirement already satisfied: rich>=13.6.0 in /Users/pierrebittner/miniforge3/envs/finaxys-training-genai/lib/python3.10/site-packages (from trulens_eval) (13.7.1)\n",
      "Requirement already satisfied: sqlalchemy>=2.0.19 in /Users/pierrebittner/miniforge3/envs/finaxys-training-genai/lib/python3.10/site-packages (from trulens_eval) (2.0.29)\n",
      "Requirement already satisfied: alembic>=1.11.2 in /Users/pierrebittner/miniforge3/envs/finaxys-training-genai/lib/python3.10/site-packages (from trulens_eval) (1.13.1)\n",
      "Requirement already satisfied: pandas>=1.2 in /Users/pierrebittner/miniforge3/envs/finaxys-training-genai/lib/python3.10/site-packages (from streamlit-aggrid==0.3.4->trulens_eval) (2.2.1)\n",
      "Requirement already satisfied: python-decouple<4.0,>=3.6 in /Users/pierrebittner/miniforge3/envs/finaxys-training-genai/lib/python3.10/site-packages (from streamlit-aggrid==0.3.4->trulens_eval) (3.8)\n",
      "Requirement already satisfied: llama-index-agent-openai<0.3.0,>=0.1.4 in /Users/pierrebittner/miniforge3/envs/finaxys-training-genai/lib/python3.10/site-packages (from llama-index>=0.9.26) (0.2.2)\n",
      "Requirement already satisfied: llama-index-cli<0.2.0,>=0.1.2 in /Users/pierrebittner/miniforge3/envs/finaxys-training-genai/lib/python3.10/site-packages (from llama-index>=0.9.26) (0.1.11)\n",
      "Requirement already satisfied: llama-index-core<0.11.0,>=0.10.27 in /Users/pierrebittner/miniforge3/envs/finaxys-training-genai/lib/python3.10/site-packages (from llama-index>=0.9.26) (0.10.27)\n",
      "Requirement already satisfied: llama-index-embeddings-openai<0.2.0,>=0.1.5 in /Users/pierrebittner/miniforge3/envs/finaxys-training-genai/lib/python3.10/site-packages (from llama-index>=0.9.26) (0.1.7)\n",
      "Requirement already satisfied: llama-index-indices-managed-llama-cloud<0.2.0,>=0.1.2 in /Users/pierrebittner/miniforge3/envs/finaxys-training-genai/lib/python3.10/site-packages (from llama-index>=0.9.26) (0.1.5)\n",
      "Requirement already satisfied: llama-index-legacy<0.10.0,>=0.9.48 in /Users/pierrebittner/miniforge3/envs/finaxys-training-genai/lib/python3.10/site-packages (from llama-index>=0.9.26) (0.9.48)\n",
      "Requirement already satisfied: llama-index-llms-openai<0.2.0,>=0.1.13 in /Users/pierrebittner/miniforge3/envs/finaxys-training-genai/lib/python3.10/site-packages (from llama-index>=0.9.26) (0.1.14)\n",
      "Requirement already satisfied: llama-index-multi-modal-llms-openai<0.2.0,>=0.1.3 in /Users/pierrebittner/miniforge3/envs/finaxys-training-genai/lib/python3.10/site-packages (from llama-index>=0.9.26) (0.1.4)\n",
      "Requirement already satisfied: llama-index-program-openai<0.2.0,>=0.1.3 in /Users/pierrebittner/miniforge3/envs/finaxys-training-genai/lib/python3.10/site-packages (from llama-index>=0.9.26) (0.1.5)\n",
      "Requirement already satisfied: llama-index-question-gen-openai<0.2.0,>=0.1.2 in /Users/pierrebittner/miniforge3/envs/finaxys-training-genai/lib/python3.10/site-packages (from llama-index>=0.9.26) (0.1.3)\n",
      "Requirement already satisfied: llama-index-readers-file<0.2.0,>=0.1.4 in /Users/pierrebittner/miniforge3/envs/finaxys-training-genai/lib/python3.10/site-packages (from llama-index>=0.9.26) (0.1.15)\n",
      "Requirement already satisfied: llama-index-readers-llama-parse<0.2.0,>=0.1.2 in /Users/pierrebittner/miniforge3/envs/finaxys-training-genai/lib/python3.10/site-packages (from llama-index>=0.9.26) (0.1.4)\n",
      "Requirement already satisfied: huggingface-hub>=0.19.0 in /Users/pierrebittner/miniforge3/envs/finaxys-training-genai/lib/python3.10/site-packages (from huggingface-hub[inference]>=0.19.0->llama-index-embeddings-huggingface) (0.22.2)\n",
      "Requirement already satisfied: sentence-transformers<3.0.0,>=2.6.1 in /Users/pierrebittner/miniforge3/envs/finaxys-training-genai/lib/python3.10/site-packages (from llama-index-embeddings-huggingface) (2.6.1)\n",
      "Requirement already satisfied: orjson>=3.8.2 in /Users/pierrebittner/miniforge3/envs/finaxys-training-genai/lib/python3.10/site-packages (from docarray>=0.39.1) (3.10.0)\n",
      "Requirement already satisfied: types-requests>=2.28.11.6 in /Users/pierrebittner/miniforge3/envs/finaxys-training-genai/lib/python3.10/site-packages (from docarray>=0.39.1) (2.31.0.20240406)\n",
      "Requirement already satisfied: botocore<1.35.0,>=1.34.80 in /Users/pierrebittner/miniforge3/envs/finaxys-training-genai/lib/python3.10/site-packages (from boto3>=1.33.6) (1.34.80)\n",
      "Requirement already satisfied: jmespath<2.0.0,>=0.7.1 in /Users/pierrebittner/miniforge3/envs/finaxys-training-genai/lib/python3.10/site-packages (from boto3>=1.33.6) (1.0.1)\n",
      "Requirement already satisfied: s3transfer<0.11.0,>=0.10.0 in /Users/pierrebittner/miniforge3/envs/finaxys-training-genai/lib/python3.10/site-packages (from boto3>=1.33.6) (0.10.1)\n",
      "Requirement already satisfied: Mako in /Users/pierrebittner/miniforge3/envs/finaxys-training-genai/lib/python3.10/site-packages (from alembic>=1.11.2->trulens_eval) (1.3.2)\n",
      "Requirement already satisfied: python-dateutil<3.0.0,>=2.1 in /Users/pierrebittner/miniforge3/envs/finaxys-training-genai/lib/python3.10/site-packages (from botocore<1.35.0,>=1.34.80->boto3>=1.33.6) (2.9.0.post0)\n",
      "Requirement already satisfied: urllib3!=2.2.0,<3,>=1.25.4 in /Users/pierrebittner/miniforge3/envs/finaxys-training-genai/lib/python3.10/site-packages (from botocore<1.35.0,>=1.34.80->boto3>=1.33.6) (2.2.1)\n",
      "Requirement already satisfied: filelock in /Users/pierrebittner/miniforge3/envs/finaxys-training-genai/lib/python3.10/site-packages (from huggingface-hub>=0.19.0->huggingface-hub[inference]>=0.19.0->llama-index-embeddings-huggingface) (3.13.3)\n",
      "Requirement already satisfied: fsspec>=2023.5.0 in /Users/pierrebittner/miniforge3/envs/finaxys-training-genai/lib/python3.10/site-packages (from huggingface-hub>=0.19.0->huggingface-hub[inference]>=0.19.0->llama-index-embeddings-huggingface) (2024.3.1)\n",
      "Requirement already satisfied: pyyaml>=5.1 in /Users/pierrebittner/miniforge3/envs/finaxys-training-genai/lib/python3.10/site-packages (from huggingface-hub>=0.19.0->huggingface-hub[inference]>=0.19.0->llama-index-embeddings-huggingface) (6.0.1)\n",
      "Requirement already satisfied: aiohttp in /Users/pierrebittner/miniforge3/envs/finaxys-training-genai/lib/python3.10/site-packages (from huggingface-hub[inference]>=0.19.0->llama-index-embeddings-huggingface) (3.9.3)\n",
      "Requirement already satisfied: minijinja>=1.0 in /Users/pierrebittner/miniforge3/envs/finaxys-training-genai/lib/python3.10/site-packages (from huggingface-hub[inference]>=0.19.0->llama-index-embeddings-huggingface) (1.0.16)\n",
      "Requirement already satisfied: async-timeout<5.0.0,>=4.0.0 in /Users/pierrebittner/miniforge3/envs/finaxys-training-genai/lib/python3.10/site-packages (from langchain>=0.1.14->trulens_eval) (4.0.3)\n",
      "Requirement already satisfied: dataclasses-json<0.7,>=0.5.7 in /Users/pierrebittner/miniforge3/envs/finaxys-training-genai/lib/python3.10/site-packages (from langchain>=0.1.14->trulens_eval) (0.6.4)\n",
      "Requirement already satisfied: jsonpatch<2.0,>=1.33 in /Users/pierrebittner/miniforge3/envs/finaxys-training-genai/lib/python3.10/site-packages (from langchain>=0.1.14->trulens_eval) (1.33)\n",
      "Requirement already satisfied: langchain-community<0.1,>=0.0.30 in /Users/pierrebittner/miniforge3/envs/finaxys-training-genai/lib/python3.10/site-packages (from langchain>=0.1.14->trulens_eval) (0.0.31)\n",
      "Requirement already satisfied: langchain-text-splitters<0.1,>=0.0.1 in /Users/pierrebittner/miniforge3/envs/finaxys-training-genai/lib/python3.10/site-packages (from langchain>=0.1.14->trulens_eval) (0.0.1)\n",
      "Requirement already satisfied: langsmith<0.2.0,>=0.1.17 in /Users/pierrebittner/miniforge3/envs/finaxys-training-genai/lib/python3.10/site-packages (from langchain>=0.1.14->trulens_eval) (0.1.41)\n",
      "Requirement already satisfied: tenacity<9.0.0,>=8.1.0 in /Users/pierrebittner/miniforge3/envs/finaxys-training-genai/lib/python3.10/site-packages (from langchain>=0.1.14->trulens_eval) (8.2.3)\n",
      "Requirement already satisfied: openai>=1.14.0 in /Users/pierrebittner/miniforge3/envs/finaxys-training-genai/lib/python3.10/site-packages (from llama-index-agent-openai<0.3.0,>=0.1.4->llama-index>=0.9.26) (1.16.2)\n",
      "Requirement already satisfied: deprecated>=1.2.9.3 in /Users/pierrebittner/miniforge3/envs/finaxys-training-genai/lib/python3.10/site-packages (from llama-index-core<0.11.0,>=0.10.27->llama-index>=0.9.26) (1.2.14)\n",
      "Requirement already satisfied: dirtyjson<2.0.0,>=1.0.8 in /Users/pierrebittner/miniforge3/envs/finaxys-training-genai/lib/python3.10/site-packages (from llama-index-core<0.11.0,>=0.10.27->llama-index>=0.9.26) (1.0.8)\n",
      "Requirement already satisfied: httpx in /Users/pierrebittner/miniforge3/envs/finaxys-training-genai/lib/python3.10/site-packages (from llama-index-core<0.11.0,>=0.10.27->llama-index>=0.9.26) (0.27.0)\n",
      "Requirement already satisfied: llamaindex-py-client<0.2.0,>=0.1.16 in /Users/pierrebittner/miniforge3/envs/finaxys-training-genai/lib/python3.10/site-packages (from llama-index-core<0.11.0,>=0.10.27->llama-index>=0.9.26) (0.1.16)\n",
      "Requirement already satisfied: networkx>=3.0 in /Users/pierrebittner/miniforge3/envs/finaxys-training-genai/lib/python3.10/site-packages (from llama-index-core<0.11.0,>=0.10.27->llama-index>=0.9.26) (3.3)\n",
      "Requirement already satisfied: pillow>=9.0.0 in /Users/pierrebittner/miniforge3/envs/finaxys-training-genai/lib/python3.10/site-packages (from llama-index-core<0.11.0,>=0.10.27->llama-index>=0.9.26) (10.3.0)\n",
      "Requirement already satisfied: tiktoken>=0.3.3 in /Users/pierrebittner/miniforge3/envs/finaxys-training-genai/lib/python3.10/site-packages (from llama-index-core<0.11.0,>=0.10.27->llama-index>=0.9.26) (0.6.0)\n",
      "Requirement already satisfied: wrapt in /Users/pierrebittner/miniforge3/envs/finaxys-training-genai/lib/python3.10/site-packages (from llama-index-core<0.11.0,>=0.10.27->llama-index>=0.9.26) (1.16.0)\n",
      "Requirement already satisfied: beautifulsoup4<5.0.0,>=4.12.3 in /Users/pierrebittner/miniforge3/envs/finaxys-training-genai/lib/python3.10/site-packages (from llama-index-readers-file<0.2.0,>=0.1.4->llama-index>=0.9.26) (4.12.3)\n",
      "Requirement already satisfied: pymupdf<2.0.0,>=1.23.21 in /Users/pierrebittner/miniforge3/envs/finaxys-training-genai/lib/python3.10/site-packages (from llama-index-readers-file<0.2.0,>=0.1.4->llama-index>=0.9.26) (1.24.1)\n",
      "Requirement already satisfied: pypdf<5.0.0,>=4.0.1 in /Users/pierrebittner/miniforge3/envs/finaxys-training-genai/lib/python3.10/site-packages (from llama-index-readers-file<0.2.0,>=0.1.4->llama-index>=0.9.26) (4.2.0)\n",
      "Requirement already satisfied: striprtf<0.0.27,>=0.0.26 in /Users/pierrebittner/miniforge3/envs/finaxys-training-genai/lib/python3.10/site-packages (from llama-index-readers-file<0.2.0,>=0.1.4->llama-index>=0.9.26) (0.0.26)\n",
      "Requirement already satisfied: llama-parse<0.5.0,>=0.4.0 in /Users/pierrebittner/miniforge3/envs/finaxys-training-genai/lib/python3.10/site-packages (from llama-index-readers-llama-parse<0.2.0,>=0.1.2->llama-index>=0.9.26) (0.4.0)\n",
      "Requirement already satisfied: click in /Users/pierrebittner/miniforge3/envs/finaxys-training-genai/lib/python3.10/site-packages (from nltk>=3.8.1->trulens_eval) (8.1.7)\n",
      "Requirement already satisfied: joblib in /Users/pierrebittner/miniforge3/envs/finaxys-training-genai/lib/python3.10/site-packages (from nltk>=3.8.1->trulens_eval) (1.4.0)\n",
      "Requirement already satisfied: regex>=2021.8.3 in /Users/pierrebittner/miniforge3/envs/finaxys-training-genai/lib/python3.10/site-packages (from nltk>=3.8.1->trulens_eval) (2023.12.25)\n",
      "Requirement already satisfied: annotated-types>=0.4.0 in /Users/pierrebittner/miniforge3/envs/finaxys-training-genai/lib/python3.10/site-packages (from pydantic<3,>=2->trulens_eval) (0.6.0)\n",
      "Requirement already satisfied: pydantic-core==2.16.3 in /Users/pierrebittner/miniforge3/envs/finaxys-training-genai/lib/python3.10/site-packages (from pydantic<3,>=2->trulens_eval) (2.16.3)\n",
      "Requirement already satisfied: charset-normalizer<4,>=2 in /Users/pierrebittner/miniforge3/envs/finaxys-training-genai/lib/python3.10/site-packages (from requests>=2.31.0->trulens_eval) (3.3.2)\n",
      "Requirement already satisfied: idna<4,>=2.5 in /Users/pierrebittner/miniforge3/envs/finaxys-training-genai/lib/python3.10/site-packages (from requests>=2.31.0->trulens_eval) (3.6)\n",
      "Requirement already satisfied: certifi>=2017.4.17 in /Users/pierrebittner/miniforge3/envs/finaxys-training-genai/lib/python3.10/site-packages (from requests>=2.31.0->trulens_eval) (2024.2.2)\n",
      "Requirement already satisfied: markdown-it-py>=2.2.0 in /Users/pierrebittner/miniforge3/envs/finaxys-training-genai/lib/python3.10/site-packages (from rich>=13.6.0->trulens_eval) (3.0.0)\n",
      "Requirement already satisfied: pygments<3.0.0,>=2.13.0 in /Users/pierrebittner/miniforge3/envs/finaxys-training-genai/lib/python3.10/site-packages (from rich>=13.6.0->trulens_eval) (2.17.2)\n",
      "Requirement already satisfied: transformers<5.0.0,>=4.32.0 in /Users/pierrebittner/miniforge3/envs/finaxys-training-genai/lib/python3.10/site-packages (from sentence-transformers<3.0.0,>=2.6.1->llama-index-embeddings-huggingface) (4.39.3)\n",
      "Requirement already satisfied: torch>=1.11.0 in /Users/pierrebittner/miniforge3/envs/finaxys-training-genai/lib/python3.10/site-packages (from sentence-transformers<3.0.0,>=2.6.1->llama-index-embeddings-huggingface) (2.2.2)\n",
      "Requirement already satisfied: scikit-learn in /Users/pierrebittner/miniforge3/envs/finaxys-training-genai/lib/python3.10/site-packages (from sentence-transformers<3.0.0,>=2.6.1->llama-index-embeddings-huggingface) (1.4.1.post1)\n",
      "Requirement already satisfied: scipy in /Users/pierrebittner/miniforge3/envs/finaxys-training-genai/lib/python3.10/site-packages (from sentence-transformers<3.0.0,>=2.6.1->llama-index-embeddings-huggingface) (1.13.0)\n",
      "Requirement already satisfied: altair<6,>=4.0 in /Users/pierrebittner/miniforge3/envs/finaxys-training-genai/lib/python3.10/site-packages (from streamlit>=1.32.2->trulens_eval) (5.3.0)\n",
      "Requirement already satisfied: blinker<2,>=1.0.0 in /Users/pierrebittner/miniforge3/envs/finaxys-training-genai/lib/python3.10/site-packages (from streamlit>=1.32.2->trulens_eval) (1.7.0)\n",
      "Requirement already satisfied: cachetools<6,>=4.0 in /Users/pierrebittner/miniforge3/envs/finaxys-training-genai/lib/python3.10/site-packages (from streamlit>=1.32.2->trulens_eval) (5.3.3)\n",
      "Requirement already satisfied: pyarrow>=7.0 in /Users/pierrebittner/miniforge3/envs/finaxys-training-genai/lib/python3.10/site-packages (from streamlit>=1.32.2->trulens_eval) (15.0.2)\n",
      "Requirement already satisfied: toml<2,>=0.10.1 in /Users/pierrebittner/miniforge3/envs/finaxys-training-genai/lib/python3.10/site-packages (from streamlit>=1.32.2->trulens_eval) (0.10.2)\n",
      "Requirement already satisfied: gitpython!=3.1.19,<4,>=3.0.7 in /Users/pierrebittner/miniforge3/envs/finaxys-training-genai/lib/python3.10/site-packages (from streamlit>=1.32.2->trulens_eval) (3.1.43)\n",
      "Requirement already satisfied: pydeck<1,>=0.8.0b4 in /Users/pierrebittner/miniforge3/envs/finaxys-training-genai/lib/python3.10/site-packages (from streamlit>=1.32.2->trulens_eval) (0.8.1b0)\n",
      "Requirement already satisfied: tornado<7,>=6.0.3 in /Users/pierrebittner/miniforge3/envs/finaxys-training-genai/lib/python3.10/site-packages (from streamlit>=1.32.2->trulens_eval) (6.4)\n",
      "Requirement already satisfied: entrypoints>=0.4 in /Users/pierrebittner/miniforge3/envs/finaxys-training-genai/lib/python3.10/site-packages (from streamlit-extras>=0.4.0->trulens_eval) (0.4)\n",
      "Requirement already satisfied: htbuilder>=0.6.2 in /Users/pierrebittner/miniforge3/envs/finaxys-training-genai/lib/python3.10/site-packages (from streamlit-extras>=0.4.0->trulens_eval) (0.6.2)\n",
      "Requirement already satisfied: markdownlit>=0.0.5 in /Users/pierrebittner/miniforge3/envs/finaxys-training-genai/lib/python3.10/site-packages (from streamlit-extras>=0.4.0->trulens_eval) (0.0.7)\n",
      "Requirement already satisfied: prometheus-client>=0.14.0 in /Users/pierrebittner/miniforge3/envs/finaxys-training-genai/lib/python3.10/site-packages (from streamlit-extras>=0.4.0->trulens_eval) (0.20.0)\n",
      "Requirement already satisfied: st-annotated-text>=3.0.0 in /Users/pierrebittner/miniforge3/envs/finaxys-training-genai/lib/python3.10/site-packages (from streamlit-extras>=0.4.0->trulens_eval) (4.0.1)\n",
      "Requirement already satisfied: streamlit-camera-input-live>=0.2.0 in /Users/pierrebittner/miniforge3/envs/finaxys-training-genai/lib/python3.10/site-packages (from streamlit-extras>=0.4.0->trulens_eval) (0.2.0)\n",
      "Requirement already satisfied: streamlit-card>=0.0.4 in /Users/pierrebittner/miniforge3/envs/finaxys-training-genai/lib/python3.10/site-packages (from streamlit-extras>=0.4.0->trulens_eval) (1.0.0)\n",
      "Requirement already satisfied: streamlit-embedcode>=0.1.2 in /Users/pierrebittner/miniforge3/envs/finaxys-training-genai/lib/python3.10/site-packages (from streamlit-extras>=0.4.0->trulens_eval) (0.1.2)\n",
      "Requirement already satisfied: streamlit-faker>=0.0.2 in /Users/pierrebittner/miniforge3/envs/finaxys-training-genai/lib/python3.10/site-packages (from streamlit-extras>=0.4.0->trulens_eval) (0.0.3)\n",
      "Requirement already satisfied: streamlit-image-coordinates<0.2.0,>=0.1.1 in /Users/pierrebittner/miniforge3/envs/finaxys-training-genai/lib/python3.10/site-packages (from streamlit-extras>=0.4.0->trulens_eval) (0.1.6)\n",
      "Requirement already satisfied: streamlit-keyup>=0.1.9 in /Users/pierrebittner/miniforge3/envs/finaxys-training-genai/lib/python3.10/site-packages (from streamlit-extras>=0.4.0->trulens_eval) (0.2.4)\n",
      "Requirement already satisfied: streamlit-toggle-switch>=1.0.2 in /Users/pierrebittner/miniforge3/envs/finaxys-training-genai/lib/python3.10/site-packages (from streamlit-extras>=0.4.0->trulens_eval) (1.0.2)\n",
      "Requirement already satisfied: streamlit-vertical-slider>=2.5.5 in /Users/pierrebittner/miniforge3/envs/finaxys-training-genai/lib/python3.10/site-packages (from streamlit-extras>=0.4.0->trulens_eval) (2.5.5)\n",
      "Requirement already satisfied: validators>=0.20.0 in /Users/pierrebittner/miniforge3/envs/finaxys-training-genai/lib/python3.10/site-packages (from streamlit-extras>=0.4.0->trulens_eval) (0.28.0)\n",
      "Requirement already satisfied: mypy-extensions>=0.3.0 in /Users/pierrebittner/miniforge3/envs/finaxys-training-genai/lib/python3.10/site-packages (from typing-inspect>=0.8.0->trulens_eval) (1.0.0)\n",
      "Requirement already satisfied: aiosignal>=1.1.2 in /Users/pierrebittner/miniforge3/envs/finaxys-training-genai/lib/python3.10/site-packages (from aiohttp->huggingface-hub[inference]>=0.19.0->llama-index-embeddings-huggingface) (1.3.1)\n",
      "Requirement already satisfied: attrs>=17.3.0 in /Users/pierrebittner/miniforge3/envs/finaxys-training-genai/lib/python3.10/site-packages (from aiohttp->huggingface-hub[inference]>=0.19.0->llama-index-embeddings-huggingface) (23.1.0)\n",
      "Requirement already satisfied: frozenlist>=1.1.1 in /Users/pierrebittner/miniforge3/envs/finaxys-training-genai/lib/python3.10/site-packages (from aiohttp->huggingface-hub[inference]>=0.19.0->llama-index-embeddings-huggingface) (1.4.1)\n",
      "Requirement already satisfied: multidict<7.0,>=4.5 in /Users/pierrebittner/miniforge3/envs/finaxys-training-genai/lib/python3.10/site-packages (from aiohttp->huggingface-hub[inference]>=0.19.0->llama-index-embeddings-huggingface) (6.0.5)\n",
      "Requirement already satisfied: yarl<2.0,>=1.0 in /Users/pierrebittner/miniforge3/envs/finaxys-training-genai/lib/python3.10/site-packages (from aiohttp->huggingface-hub[inference]>=0.19.0->llama-index-embeddings-huggingface) (1.9.4)\n",
      "Requirement already satisfied: jinja2 in /Users/pierrebittner/miniforge3/envs/finaxys-training-genai/lib/python3.10/site-packages (from altair<6,>=4.0->streamlit>=1.32.2->trulens_eval) (3.1.3)\n",
      "Requirement already satisfied: jsonschema>=3.0 in /Users/pierrebittner/miniforge3/envs/finaxys-training-genai/lib/python3.10/site-packages (from altair<6,>=4.0->streamlit>=1.32.2->trulens_eval) (3.1.1)\n",
      "Requirement already satisfied: toolz in /Users/pierrebittner/miniforge3/envs/finaxys-training-genai/lib/python3.10/site-packages (from altair<6,>=4.0->streamlit>=1.32.2->trulens_eval) (0.12.1)\n",
      "Requirement already satisfied: soupsieve>1.2 in /Users/pierrebittner/miniforge3/envs/finaxys-training-genai/lib/python3.10/site-packages (from beautifulsoup4<5.0.0,>=4.12.3->llama-index-readers-file<0.2.0,>=0.1.4->llama-index>=0.9.26) (2.5)\n",
      "Requirement already satisfied: marshmallow<4.0.0,>=3.18.0 in /Users/pierrebittner/miniforge3/envs/finaxys-training-genai/lib/python3.10/site-packages (from dataclasses-json<0.7,>=0.5.7->langchain>=0.1.14->trulens_eval) (3.21.1)\n",
      "Requirement already satisfied: gitdb<5,>=4.0.1 in /Users/pierrebittner/miniforge3/envs/finaxys-training-genai/lib/python3.10/site-packages (from gitpython!=3.1.19,<4,>=3.0.7->streamlit>=1.32.2->trulens_eval) (4.0.11)\n",
      "Requirement already satisfied: more-itertools in /Users/pierrebittner/miniforge3/envs/finaxys-training-genai/lib/python3.10/site-packages (from htbuilder>=0.6.2->streamlit-extras>=0.4.0->trulens_eval) (10.2.0)\n",
      "Requirement already satisfied: jsonpointer>=1.9 in /Users/pierrebittner/miniforge3/envs/finaxys-training-genai/lib/python3.10/site-packages (from jsonpatch<2.0,>=1.33->langchain>=0.1.14->trulens_eval) (2.4)\n",
      "Requirement already satisfied: anyio in /Users/pierrebittner/miniforge3/envs/finaxys-training-genai/lib/python3.10/site-packages (from httpx->llama-index-core<0.11.0,>=0.10.27->llama-index>=0.9.26) (4.3.0)\n",
      "Requirement already satisfied: httpcore==1.* in /Users/pierrebittner/miniforge3/envs/finaxys-training-genai/lib/python3.10/site-packages (from httpx->llama-index-core<0.11.0,>=0.10.27->llama-index>=0.9.26) (1.0.5)\n",
      "Requirement already satisfied: sniffio in /Users/pierrebittner/miniforge3/envs/finaxys-training-genai/lib/python3.10/site-packages (from httpx->llama-index-core<0.11.0,>=0.10.27->llama-index>=0.9.26) (1.3.1)\n",
      "Requirement already satisfied: h11<0.15,>=0.13 in /Users/pierrebittner/miniforge3/envs/finaxys-training-genai/lib/python3.10/site-packages (from httpcore==1.*->httpx->llama-index-core<0.11.0,>=0.10.27->llama-index>=0.9.26) (0.14.0)\n",
      "Requirement already satisfied: mdurl~=0.1 in /Users/pierrebittner/miniforge3/envs/finaxys-training-genai/lib/python3.10/site-packages (from markdown-it-py>=2.2.0->rich>=13.6.0->trulens_eval) (0.1.2)\n",
      "Requirement already satisfied: markdown in /Users/pierrebittner/miniforge3/envs/finaxys-training-genai/lib/python3.10/site-packages (from markdownlit>=0.0.5->streamlit-extras>=0.4.0->trulens_eval) (3.6)\n",
      "Requirement already satisfied: lxml in /Users/pierrebittner/miniforge3/envs/finaxys-training-genai/lib/python3.10/site-packages (from markdownlit>=0.0.5->streamlit-extras>=0.4.0->trulens_eval) (5.2.1)\n",
      "Requirement already satisfied: favicon in /Users/pierrebittner/miniforge3/envs/finaxys-training-genai/lib/python3.10/site-packages (from markdownlit>=0.0.5->streamlit-extras>=0.4.0->trulens_eval) (0.7.0)\n",
      "Requirement already satisfied: pymdown-extensions in /Users/pierrebittner/miniforge3/envs/finaxys-training-genai/lib/python3.10/site-packages (from markdownlit>=0.0.5->streamlit-extras>=0.4.0->trulens_eval) (10.7.1)\n",
      "Requirement already satisfied: distro<2,>=1.7.0 in /Users/pierrebittner/miniforge3/envs/finaxys-training-genai/lib/python3.10/site-packages (from openai>=1.14.0->llama-index-agent-openai<0.3.0,>=0.1.4->llama-index>=0.9.26) (1.9.0)\n",
      "Requirement already satisfied: pytz>=2020.1 in /Users/pierrebittner/miniforge3/envs/finaxys-training-genai/lib/python3.10/site-packages (from pandas>=1.2->streamlit-aggrid==0.3.4->trulens_eval) (2024.1)\n",
      "Requirement already satisfied: tzdata>=2022.7 in /Users/pierrebittner/miniforge3/envs/finaxys-training-genai/lib/python3.10/site-packages (from pandas>=1.2->streamlit-aggrid==0.3.4->trulens_eval) (2024.1)\n",
      "Requirement already satisfied: PyMuPDFb==1.24.1 in /Users/pierrebittner/miniforge3/envs/finaxys-training-genai/lib/python3.10/site-packages (from pymupdf<2.0.0,>=1.23.21->llama-index-readers-file<0.2.0,>=0.1.4->llama-index>=0.9.26) (1.24.1)\n",
      "Requirement already satisfied: six>=1.5 in /Users/pierrebittner/miniforge3/envs/finaxys-training-genai/lib/python3.10/site-packages (from python-dateutil<3.0.0,>=2.1->botocore<1.35.0,>=1.34.80->boto3>=1.33.6) (1.16.0)\n",
      "Requirement already satisfied: greenlet!=0.4.17 in /Users/pierrebittner/miniforge3/envs/finaxys-training-genai/lib/python3.10/site-packages (from SQLAlchemy[asyncio]>=1.4.49->llama-index-core<0.11.0,>=0.10.27->llama-index>=0.9.26) (3.0.3)\n",
      "Requirement already satisfied: faker in /Users/pierrebittner/miniforge3/envs/finaxys-training-genai/lib/python3.10/site-packages (from streamlit-faker>=0.0.2->streamlit-extras>=0.4.0->trulens_eval) (24.7.1)\n",
      "Requirement already satisfied: matplotlib in /Users/pierrebittner/miniforge3/envs/finaxys-training-genai/lib/python3.10/site-packages (from streamlit-faker>=0.0.2->streamlit-extras>=0.4.0->trulens_eval) (3.8.4)\n",
      "Requirement already satisfied: sympy in /Users/pierrebittner/miniforge3/envs/finaxys-training-genai/lib/python3.10/site-packages (from torch>=1.11.0->sentence-transformers<3.0.0,>=2.6.1->llama-index-embeddings-huggingface) (1.12)\n",
      "Requirement already satisfied: tokenizers<0.19,>=0.14 in /Users/pierrebittner/miniforge3/envs/finaxys-training-genai/lib/python3.10/site-packages (from transformers<5.0.0,>=4.32.0->sentence-transformers<3.0.0,>=2.6.1->llama-index-embeddings-huggingface) (0.15.2)\n",
      "Requirement already satisfied: safetensors>=0.4.1 in /Users/pierrebittner/miniforge3/envs/finaxys-training-genai/lib/python3.10/site-packages (from transformers<5.0.0,>=4.32.0->sentence-transformers<3.0.0,>=2.6.1->llama-index-embeddings-huggingface) (0.4.2)\n",
      "Requirement already satisfied: MarkupSafe>=0.9.2 in /Users/pierrebittner/miniforge3/envs/finaxys-training-genai/lib/python3.10/site-packages (from Mako->alembic>=1.11.2->trulens_eval) (2.1.5)\n",
      "Requirement already satisfied: threadpoolctl>=2.0.0 in /Users/pierrebittner/miniforge3/envs/finaxys-training-genai/lib/python3.10/site-packages (from scikit-learn->sentence-transformers<3.0.0,>=2.6.1->llama-index-embeddings-huggingface) (3.4.0)\n",
      "Requirement already satisfied: exceptiongroup>=1.0.2 in /Users/pierrebittner/miniforge3/envs/finaxys-training-genai/lib/python3.10/site-packages (from anyio->httpx->llama-index-core<0.11.0,>=0.10.27->llama-index>=0.9.26) (1.2.0)\n",
      "Requirement already satisfied: smmap<6,>=3.0.1 in /Users/pierrebittner/miniforge3/envs/finaxys-training-genai/lib/python3.10/site-packages (from gitdb<5,>=4.0.1->gitpython!=3.1.19,<4,>=3.0.7->streamlit>=1.32.2->trulens_eval) (5.0.1)\n",
      "Requirement already satisfied: importlib-metadata in /Users/pierrebittner/miniforge3/envs/finaxys-training-genai/lib/python3.10/site-packages (from jsonschema>=3.0->altair<6,>=4.0->streamlit>=1.32.2->trulens_eval) (7.0.1)\n",
      "Requirement already satisfied: pyrsistent>=0.14.0 in /Users/pierrebittner/miniforge3/envs/finaxys-training-genai/lib/python3.10/site-packages (from jsonschema>=3.0->altair<6,>=4.0->streamlit>=1.32.2->trulens_eval) (0.20.0)\n",
      "Requirement already satisfied: setuptools in /Users/pierrebittner/miniforge3/envs/finaxys-training-genai/lib/python3.10/site-packages (from jsonschema>=3.0->altair<6,>=4.0->streamlit>=1.32.2->trulens_eval) (68.2.2)\n",
      "Requirement already satisfied: contourpy>=1.0.1 in /Users/pierrebittner/miniforge3/envs/finaxys-training-genai/lib/python3.10/site-packages (from matplotlib->streamlit-faker>=0.0.2->streamlit-extras>=0.4.0->trulens_eval) (1.2.1)\n",
      "Requirement already satisfied: cycler>=0.10 in /Users/pierrebittner/miniforge3/envs/finaxys-training-genai/lib/python3.10/site-packages (from matplotlib->streamlit-faker>=0.0.2->streamlit-extras>=0.4.0->trulens_eval) (0.12.1)\n",
      "Requirement already satisfied: fonttools>=4.22.0 in /Users/pierrebittner/miniforge3/envs/finaxys-training-genai/lib/python3.10/site-packages (from matplotlib->streamlit-faker>=0.0.2->streamlit-extras>=0.4.0->trulens_eval) (4.51.0)\n",
      "Requirement already satisfied: kiwisolver>=1.3.1 in /Users/pierrebittner/miniforge3/envs/finaxys-training-genai/lib/python3.10/site-packages (from matplotlib->streamlit-faker>=0.0.2->streamlit-extras>=0.4.0->trulens_eval) (1.4.5)\n",
      "Requirement already satisfied: pyparsing>=2.3.1 in /Users/pierrebittner/miniforge3/envs/finaxys-training-genai/lib/python3.10/site-packages (from matplotlib->streamlit-faker>=0.0.2->streamlit-extras>=0.4.0->trulens_eval) (3.1.2)\n",
      "Requirement already satisfied: mpmath>=0.19 in /Users/pierrebittner/miniforge3/envs/finaxys-training-genai/lib/python3.10/site-packages (from sympy->torch>=1.11.0->sentence-transformers<3.0.0,>=2.6.1->llama-index-embeddings-huggingface) (1.3.0)\n",
      "Requirement already satisfied: zipp>=0.5 in /Users/pierrebittner/miniforge3/envs/finaxys-training-genai/lib/python3.10/site-packages (from importlib-metadata->jsonschema>=3.0->altair<6,>=4.0->streamlit>=1.32.2->trulens_eval) (3.17.0)\n"
     ]
    }
   ],
   "source": [
    "!pip install trulens_eval \"llama-index>=0.9.26\" llama-index-embeddings-huggingface 'docarray>=0.39.1' 'protobuf>=4.23.2' 'boto3>=1.33.6'"
   ]
  },
  {
   "cell_type": "code",
   "execution_count": 3,
   "id": "feb98470-c136-471d-a63e-d50d8eb09c57",
   "metadata": {
    "height": 98,
    "scrolled": true,
    "tags": []
   },
   "outputs": [
    {
     "name": "stderr",
     "output_type": "stream",
     "text": [
      "[nltk_data] Error loading stopwords: <urlopen error [SSL:\n",
      "[nltk_data]     CERTIFICATE_VERIFY_FAILED] certificate verify failed:\n",
      "[nltk_data]     unable to get local issuer certificate (_ssl.c:1129)>\n",
      "[nltk_data] Error loading punkt: <urlopen error [SSL:\n",
      "[nltk_data]     CERTIFICATE_VERIFY_FAILED] certificate verify failed:\n",
      "[nltk_data]     unable to get local issuer certificate (_ssl.c:1129)>\n"
     ]
    },
    {
     "name": "stdout",
     "output_type": "stream",
     "text": [
      "✅ In Answer Relevance, input prompt will be set to __record__.main_input or `Select.RecordInput` .\n",
      "✅ In Answer Relevance, input response will be set to __record__.main_output or `Select.RecordOutput` .\n",
      "✅ In Context Relevance, input prompt will be set to __record__.main_input or `Select.RecordInput` .\n",
      "✅ In Context Relevance, input response will be set to __record__.app.query.rets.source_nodes[:].node.text .\n",
      "✅ In Groundedness, input source will be set to __record__.app.query.rets.source_nodes[:].node.text .\n",
      "✅ In Groundedness, input statement will be set to __record__.main_output or `Select.RecordOutput` .\n"
     ]
    }
   ],
   "source": [
    "import os\n",
    "import openai\n",
    "from dotenv import load_dotenv, find_dotenv\n",
    "\n",
    "_ = load_dotenv(find_dotenv())\n",
    "\n",
    "import utils\n",
    "\n",
    "openai.api_key = utils.get_openai_api_key()\n"
   ]
  },
  {
   "cell_type": "code",
   "execution_count": 4,
   "id": "31e2859b-596e-40b3-867b-f4d6e91f74bc",
   "metadata": {
    "height": 98,
    "tags": []
   },
   "outputs": [],
   "source": [
    "from llama_index.core import SimpleDirectoryReader\n",
    "\n",
    "documents = SimpleDirectoryReader(\n",
    "    input_files=[\"./eBook-How-to-Build-a-Career-in-AI.pdf\"]\n",
    ").load_data()"
   ]
  },
  {
   "cell_type": "code",
   "execution_count": 5,
   "id": "2d7d0857-b9d1-4feb-8243-bfd2f4953acd",
   "metadata": {
    "height": 81,
    "tags": []
   },
   "outputs": [
    {
     "name": "stdout",
     "output_type": "stream",
     "text": [
      "<class 'list'> \n",
      "\n",
      "41 \n",
      "\n",
      "<class 'llama_index.core.schema.Document'>\n",
      "Doc ID: 62b20483-7c06-47d1-9456-e289fe0706e3\n",
      "Text: PAGE 1Founder, DeepLearning.AICollected Insights from Andrew Ng\n",
      "How to  Build Your Career in AIA Simple Guide\n"
     ]
    }
   ],
   "source": [
    "print(type(documents), \"\\n\")\n",
    "print(len(documents), \"\\n\")\n",
    "print(type(documents[0]))\n",
    "print(documents[0])"
   ]
  },
  {
   "cell_type": "markdown",
   "id": "f3123d3d",
   "metadata": {},
   "source": [
    "## Basic RAG pipeline"
   ]
  },
  {
   "cell_type": "code",
   "execution_count": 6,
   "id": "b4abc806-64f5-46bb-8c9f-6469ecb18d20",
   "metadata": {
    "height": 64,
    "tags": []
   },
   "outputs": [],
   "source": [
    "from llama_index.core import Document\n",
    "\n",
    "document = Document(text=\"\\n\\n\".join([doc.text for doc in documents]))"
   ]
  },
  {
   "cell_type": "code",
   "execution_count": 7,
   "id": "afc2baff-5e8b-4733-9899-16f248777b23",
   "metadata": {
    "height": 183,
    "tags": []
   },
   "outputs": [],
   "source": [
    "from llama_index.core import VectorStoreIndex\n",
    "from llama_index.core import ServiceContext\n",
    "from llama_index.llms.openai import OpenAI\n",
    "\n",
    "llm = OpenAI(model=\"gpt-3.5-turbo\", temperature=0.1)\n",
    "service_context = ServiceContext.from_defaults(\n",
    "    llm=llm, embed_model=\"local:BAAI/bge-small-en-v1.5\"\n",
    ")\n",
    "index = VectorStoreIndex.from_documents([document],\n",
    "                                        service_context=service_context)"
   ]
  },
  {
   "cell_type": "code",
   "execution_count": 8,
   "id": "ae52a26c-7d0c-44df-8043-4c7f19f794b9",
   "metadata": {
    "height": 30,
    "tags": []
   },
   "outputs": [],
   "source": [
    "query_engine = index.as_query_engine()"
   ]
  },
  {
   "cell_type": "code",
   "execution_count": 9,
   "id": "6b0d5b6e-cc2e-4648-b28c-5fa25a97d175",
   "metadata": {
    "height": 81,
    "tags": []
   },
   "outputs": [
    {
     "name": "stderr",
     "output_type": "stream",
     "text": [
      "huggingface/tokenizers: The current process just got forked, after parallelism has already been used. Disabling parallelism to avoid deadlocks...\n",
      "To disable this warning, you can either:\n",
      "\t- Avoid using `tokenizers` before the fork if possible\n",
      "\t- Explicitly set the environment variable TOKENIZERS_PARALLELISM=(true | false)\n"
     ]
    },
    {
     "name": "stdout",
     "output_type": "stream",
     "text": [
      "Develop a side hustle, ensure the project will help you grow technically, collaborate with good teammates, and consider if the project can serve as a stepping stone to larger projects.\n"
     ]
    }
   ],
   "source": [
    "response = query_engine.query(\n",
    "    \"What are steps to take when finding projects to build your experience?\"\n",
    ")\n",
    "print(str(response))"
   ]
  },
  {
   "cell_type": "markdown",
   "id": "e50a1ac5",
   "metadata": {},
   "source": [
    "## Evaluation setup using TruLens"
   ]
  },
  {
   "cell_type": "code",
   "execution_count": 10,
   "id": "0ead7dc1-71b2-4001-918f-bf8d610fd3fd",
   "metadata": {
    "height": 132,
    "tags": []
   },
   "outputs": [
    {
     "name": "stdout",
     "output_type": "stream",
     "text": [
      "What are the keys to building a career in AI?\n",
      "How can teamwork contribute to success in AI?\n",
      "What is the importance of networking in AI?\n",
      "What are some good habits to develop for a successful career?\n",
      "How can altruism be beneficial in building a career?\n",
      "What is imposter syndrome and how does it relate to AI?\n",
      "Who are some accomplished individuals who have experienced imposter syndrome?\n",
      "What is the first step to becoming good at AI?\n",
      "What are some common challenges in AI?\n",
      "Is it normal to find parts of AI challenging?\n"
     ]
    }
   ],
   "source": [
    "eval_questions = []\n",
    "with open('eval_questions.txt', 'r') as file:\n",
    "    for line in file:\n",
    "        # Remove newline character and convert to integer\n",
    "        item = line.strip()\n",
    "        print(item)\n",
    "        eval_questions.append(item)"
   ]
  },
  {
   "cell_type": "code",
   "execution_count": 11,
   "id": "87a278f8",
   "metadata": {
    "height": 64
   },
   "outputs": [],
   "source": [
    "# You can try your own question:\n",
    "new_question = \"What is the right AI job for me?\"\n",
    "eval_questions.append(new_question)"
   ]
  },
  {
   "cell_type": "code",
   "execution_count": 12,
   "id": "8d5204e8",
   "metadata": {
    "height": 30
   },
   "outputs": [
    {
     "name": "stdout",
     "output_type": "stream",
     "text": [
      "['What are the keys to building a career in AI?', 'How can teamwork contribute to success in AI?', 'What is the importance of networking in AI?', 'What are some good habits to develop for a successful career?', 'How can altruism be beneficial in building a career?', 'What is imposter syndrome and how does it relate to AI?', 'Who are some accomplished individuals who have experienced imposter syndrome?', 'What is the first step to becoming good at AI?', 'What are some common challenges in AI?', 'Is it normal to find parts of AI challenging?', 'What is the right AI job for me?']\n"
     ]
    }
   ],
   "source": [
    "print(eval_questions)"
   ]
  },
  {
   "cell_type": "code",
   "execution_count": 13,
   "id": "c063c9c7-bf1e-4b24-9a22-d4281c0f954e",
   "metadata": {
    "height": 81,
    "tags": []
   },
   "outputs": [
    {
     "name": "stdout",
     "output_type": "stream",
     "text": [
      "🦑 Tru initialized with db url sqlite:///default.sqlite .\n",
      "🛑 Secret keys may be written to the database. See the `database_redact_keys` option of Tru` to prevent this.\n"
     ]
    }
   ],
   "source": [
    "from trulens_eval import Tru\n",
    "tru = Tru()\n",
    "\n",
    "tru.reset_database()"
   ]
  },
  {
   "cell_type": "markdown",
   "id": "03802825-6ce4-4563-aeec-d8d57e095ad1",
   "metadata": {},
   "source": [
    "For the classroom, we've written some of the code in helper functions inside a utils.py file.  \n",
    "- You can view the utils.py file in the file directory by clicking on the \"Jupyter\" logo at the top of the notebook.\n",
    "- In later lessons, you'll get to work directly with the code that's currently wrapped inside these helper functions, to give you more options to customize your RAG pipeline."
   ]
  },
  {
   "cell_type": "code",
   "execution_count": 14,
   "id": "4f754bed-d16f-4c8d-a1a1-b36096272570",
   "metadata": {
    "height": 81,
    "tags": []
   },
   "outputs": [],
   "source": [
    "from utils import get_prebuilt_trulens_recorder\n",
    "\n",
    "tru_recorder = get_prebuilt_trulens_recorder(query_engine,\n",
    "                                             app_id=\"Direct Query Engine\")"
   ]
  },
  {
   "cell_type": "code",
   "execution_count": 15,
   "id": "4dbdfbcc-aac7-4805-9894-4fc016c66bf6",
   "metadata": {
    "height": 64,
    "tags": []
   },
   "outputs": [
    {
     "data": {
      "application/vnd.jupyter.widget-view+json": {
       "model_id": "a83ebaba32d7424c966ccf7d06f8090c",
       "version_major": 2,
       "version_minor": 0
      },
      "text/plain": [
       "Groundedness per statement in source:   0%|          | 0/1 [00:00<?, ?it/s]"
      ]
     },
     "metadata": {},
     "output_type": "display_data"
    },
    {
     "data": {
      "application/vnd.jupyter.widget-view+json": {
       "model_id": "4133c7f436eb48b5b97501ec19957a75",
       "version_major": 2,
       "version_minor": 0
      },
      "text/plain": [
       "Groundedness per statement in source:   0%|          | 0/1 [00:00<?, ?it/s]"
      ]
     },
     "metadata": {},
     "output_type": "display_data"
    },
    {
     "data": {
      "application/vnd.jupyter.widget-view+json": {
       "model_id": "f5c6c6178dfe4ee1a7a10a37f2aa2610",
       "version_major": 2,
       "version_minor": 0
      },
      "text/plain": [
       "Groundedness per statement in source:   0%|          | 0/3 [00:00<?, ?it/s]"
      ]
     },
     "metadata": {},
     "output_type": "display_data"
    },
    {
     "data": {
      "application/vnd.jupyter.widget-view+json": {
       "model_id": "e0e4c7224eb54815af831ea6e427c7ba",
       "version_major": 2,
       "version_minor": 0
      },
      "text/plain": [
       "Groundedness per statement in source:   0%|          | 0/3 [00:00<?, ?it/s]"
      ]
     },
     "metadata": {},
     "output_type": "display_data"
    },
    {
     "data": {
      "application/vnd.jupyter.widget-view+json": {
       "model_id": "f697ab3fd5124434bdc4959404a18a22",
       "version_major": 2,
       "version_minor": 0
      },
      "text/plain": [
       "Groundedness per statement in source:   0%|          | 0/1 [00:00<?, ?it/s]"
      ]
     },
     "metadata": {},
     "output_type": "display_data"
    },
    {
     "data": {
      "application/vnd.jupyter.widget-view+json": {
       "model_id": "d6b5f1127b0743be9fb402d8ba5fca90",
       "version_major": 2,
       "version_minor": 0
      },
      "text/plain": [
       "Groundedness per statement in source:   0%|          | 0/3 [00:00<?, ?it/s]"
      ]
     },
     "metadata": {},
     "output_type": "display_data"
    },
    {
     "data": {
      "application/vnd.jupyter.widget-view+json": {
       "model_id": "796207db72a7483a928ca484652444e1",
       "version_major": 2,
       "version_minor": 0
      },
      "text/plain": [
       "Groundedness per statement in source:   0%|          | 0/1 [00:00<?, ?it/s]"
      ]
     },
     "metadata": {},
     "output_type": "display_data"
    },
    {
     "data": {
      "application/vnd.jupyter.widget-view+json": {
       "model_id": "60fcc0b39e024fa2bc4a6c27b8388aa1",
       "version_major": 2,
       "version_minor": 0
      },
      "text/plain": [
       "Groundedness per statement in source:   0%|          | 0/3 [00:00<?, ?it/s]"
      ]
     },
     "metadata": {},
     "output_type": "display_data"
    },
    {
     "data": {
      "application/vnd.jupyter.widget-view+json": {
       "model_id": "3157c7052dce44be991b8494bcde1cb5",
       "version_major": 2,
       "version_minor": 0
      },
      "text/plain": [
       "Groundedness per statement in source:   0%|          | 0/1 [00:00<?, ?it/s]"
      ]
     },
     "metadata": {},
     "output_type": "display_data"
    },
    {
     "data": {
      "application/vnd.jupyter.widget-view+json": {
       "model_id": "a05795c966c14524988d4ac1d0ef204f",
       "version_major": 2,
       "version_minor": 0
      },
      "text/plain": [
       "Groundedness per statement in source:   0%|          | 0/1 [00:00<?, ?it/s]"
      ]
     },
     "metadata": {},
     "output_type": "display_data"
    },
    {
     "data": {
      "application/vnd.jupyter.widget-view+json": {
       "model_id": "51f10edd6cdf431ea074f257245274e4",
       "version_major": 2,
       "version_minor": 0
      },
      "text/plain": [
       "Groundedness per statement in source:   0%|          | 0/4 [00:00<?, ?it/s]"
      ]
     },
     "metadata": {},
     "output_type": "display_data"
    },
    {
     "data": {
      "application/vnd.jupyter.widget-view+json": {
       "model_id": "68775125d04745ffbb74c2c062b19c52",
       "version_major": 2,
       "version_minor": 0
      },
      "text/plain": [
       "Groundedness per statement in source:   0%|          | 0/1 [00:00<?, ?it/s]"
      ]
     },
     "metadata": {},
     "output_type": "display_data"
    },
    {
     "data": {
      "application/vnd.jupyter.widget-view+json": {
       "model_id": "a3dc9e25cfb34557af0514a3cca77c50",
       "version_major": 2,
       "version_minor": 0
      },
      "text/plain": [
       "Groundedness per statement in source:   0%|          | 0/1 [00:00<?, ?it/s]"
      ]
     },
     "metadata": {},
     "output_type": "display_data"
    },
    {
     "data": {
      "application/vnd.jupyter.widget-view+json": {
       "model_id": "9ce55a4cc2aa4ecda7a057db0390a882",
       "version_major": 2,
       "version_minor": 0
      },
      "text/plain": [
       "Groundedness per statement in source:   0%|          | 0/1 [00:00<?, ?it/s]"
      ]
     },
     "metadata": {},
     "output_type": "display_data"
    },
    {
     "data": {
      "application/vnd.jupyter.widget-view+json": {
       "model_id": "e1e13a6383e14ce1aa9d757e3868e8de",
       "version_major": 2,
       "version_minor": 0
      },
      "text/plain": [
       "Groundedness per statement in source:   0%|          | 0/1 [00:00<?, ?it/s]"
      ]
     },
     "metadata": {},
     "output_type": "display_data"
    },
    {
     "data": {
      "application/vnd.jupyter.widget-view+json": {
       "model_id": "e5783489133745df8858ed00740d4a92",
       "version_major": 2,
       "version_minor": 0
      },
      "text/plain": [
       "Groundedness per statement in source:   0%|          | 0/2 [00:00<?, ?it/s]"
      ]
     },
     "metadata": {},
     "output_type": "display_data"
    },
    {
     "data": {
      "application/vnd.jupyter.widget-view+json": {
       "model_id": "fb43f2d297804481881548e27dbc201a",
       "version_major": 2,
       "version_minor": 0
      },
      "text/plain": [
       "Groundedness per statement in source:   0%|          | 0/1 [00:00<?, ?it/s]"
      ]
     },
     "metadata": {},
     "output_type": "display_data"
    },
    {
     "data": {
      "application/vnd.jupyter.widget-view+json": {
       "model_id": "53bc8899db714da59701558fdf9fe616",
       "version_major": 2,
       "version_minor": 0
      },
      "text/plain": [
       "Groundedness per statement in source:   0%|          | 0/4 [00:00<?, ?it/s]"
      ]
     },
     "metadata": {},
     "output_type": "display_data"
    },
    {
     "data": {
      "application/vnd.jupyter.widget-view+json": {
       "model_id": "58683c88fe6c41ac8efb7377e6cbb6a8",
       "version_major": 2,
       "version_minor": 0
      },
      "text/plain": [
       "Groundedness per statement in source:   0%|          | 0/1 [00:00<?, ?it/s]"
      ]
     },
     "metadata": {},
     "output_type": "display_data"
    },
    {
     "data": {
      "application/vnd.jupyter.widget-view+json": {
       "model_id": "281be7a20abc48b2861dc1509f13c00a",
       "version_major": 2,
       "version_minor": 0
      },
      "text/plain": [
       "Groundedness per statement in source:   0%|          | 0/2 [00:00<?, ?it/s]"
      ]
     },
     "metadata": {},
     "output_type": "display_data"
    },
    {
     "name": "stderr",
     "output_type": "stream",
     "text": [
      "\n",
      "Pace has a long delay of 39.853593 seconds. There might have been a burst of\n",
      "requests which may become a problem for the receiver of whatever is being paced.\n",
      "Consider reducing the `seconds_per_period` (currently 60.0 [seconds]) over which to\n",
      "maintain pace to reduce burstiness. \" Alternatively reduce `marks_per_second`\n",
      "(currently 1.0 [1/second]) to reduce the number of marks\n",
      "per second in that period. \n",
      "\n"
     ]
    },
    {
     "data": {
      "application/vnd.jupyter.widget-view+json": {
       "model_id": "3cc46ef4f9d84c9c8ef973e30171e666",
       "version_major": 2,
       "version_minor": 0
      },
      "text/plain": [
       "Groundedness per statement in source:   0%|          | 0/3 [00:00<?, ?it/s]"
      ]
     },
     "metadata": {},
     "output_type": "display_data"
    },
    {
     "data": {
      "application/vnd.jupyter.widget-view+json": {
       "model_id": "6f20fc566d07464b9b9a12b410035fc6",
       "version_major": 2,
       "version_minor": 0
      },
      "text/plain": [
       "Groundedness per statement in source:   0%|          | 0/3 [00:00<?, ?it/s]"
      ]
     },
     "metadata": {},
     "output_type": "display_data"
    },
    {
     "name": "stderr",
     "output_type": "stream",
     "text": [
      "\n",
      "Pace has a long delay of 36.542648 seconds. There might have been a burst of\n",
      "requests which may become a problem for the receiver of whatever is being paced.\n",
      "Consider reducing the `seconds_per_period` (currently 60.0 [seconds]) over which to\n",
      "maintain pace to reduce burstiness. \" Alternatively reduce `marks_per_second`\n",
      "(currently 1.0 [1/second]) to reduce the number of marks\n",
      "per second in that period. \n",
      "\n"
     ]
    }
   ],
   "source": [
    "with tru_recorder as recording:\n",
    "    for question in eval_questions:\n",
    "        response = query_engine.query(question)"
   ]
  },
  {
   "cell_type": "code",
   "execution_count": 16,
   "id": "e14f512b-601c-42d0-bfac-bf41d9c577e7",
   "metadata": {
    "height": 30,
    "tags": []
   },
   "outputs": [],
   "source": [
    "records, feedback = tru.get_records_and_feedback(app_ids=[])"
   ]
  },
  {
   "cell_type": "code",
   "execution_count": 17,
   "id": "2da4a602-0d56-4bf8-9fa6-03ef0b7e254b",
   "metadata": {
    "height": 30,
    "tags": []
   },
   "outputs": [
    {
     "data": {
      "text/html": [
       "<div>\n",
       "<style scoped>\n",
       "    .dataframe tbody tr th:only-of-type {\n",
       "        vertical-align: middle;\n",
       "    }\n",
       "\n",
       "    .dataframe tbody tr th {\n",
       "        vertical-align: top;\n",
       "    }\n",
       "\n",
       "    .dataframe thead th {\n",
       "        text-align: right;\n",
       "    }\n",
       "</style>\n",
       "<table border=\"1\" class=\"dataframe\">\n",
       "  <thead>\n",
       "    <tr style=\"text-align: right;\">\n",
       "      <th></th>\n",
       "      <th>app_id</th>\n",
       "      <th>app_json</th>\n",
       "      <th>type</th>\n",
       "      <th>record_id</th>\n",
       "      <th>input</th>\n",
       "      <th>output</th>\n",
       "      <th>tags</th>\n",
       "      <th>record_json</th>\n",
       "      <th>cost_json</th>\n",
       "      <th>perf_json</th>\n",
       "      <th>ts</th>\n",
       "      <th>Answer Relevance</th>\n",
       "      <th>Groundedness</th>\n",
       "      <th>Context Relevance</th>\n",
       "      <th>Answer Relevance_calls</th>\n",
       "      <th>Groundedness_calls</th>\n",
       "      <th>Context Relevance_calls</th>\n",
       "      <th>latency</th>\n",
       "      <th>total_tokens</th>\n",
       "      <th>total_cost</th>\n",
       "    </tr>\n",
       "  </thead>\n",
       "  <tbody>\n",
       "    <tr>\n",
       "      <th>0</th>\n",
       "      <td>Direct Query Engine</td>\n",
       "      <td>{\"tru_class_info\": {\"name\": \"TruLlama\", \"modul...</td>\n",
       "      <td>RetrieverQueryEngine(llama_index.core.query_en...</td>\n",
       "      <td>record_hash_8f31897d2cbf3e6a440f4105d5f75473</td>\n",
       "      <td>\"What are the keys to building a career in AI?\"</td>\n",
       "      <td>\"Learning foundational technical skills, worki...</td>\n",
       "      <td>-</td>\n",
       "      <td>{\"record_id\": \"record_hash_8f31897d2cbf3e6a440...</td>\n",
       "      <td>{\"n_requests\": 1, \"n_successful_requests\": 1, ...</td>\n",
       "      <td>{\"start_time\": \"2024-04-12T10:15:12.492610\", \"...</td>\n",
       "      <td>2024-04-12T10:15:14.466357</td>\n",
       "      <td>0.8</td>\n",
       "      <td>0.000000</td>\n",
       "      <td>0.9</td>\n",
       "      <td>[{'args': {'prompt': 'What are the keys to bui...</td>\n",
       "      <td>[{'args': {'source': 'PAGE 1Founder, DeepLearn...</td>\n",
       "      <td>[{'args': {'prompt': 'What are the keys to bui...</td>\n",
       "      <td>1</td>\n",
       "      <td>2057</td>\n",
       "      <td>0.003106</td>\n",
       "    </tr>\n",
       "    <tr>\n",
       "      <th>1</th>\n",
       "      <td>Direct Query Engine</td>\n",
       "      <td>{\"tru_class_info\": {\"name\": \"TruLlama\", \"modul...</td>\n",
       "      <td>RetrieverQueryEngine(llama_index.core.query_en...</td>\n",
       "      <td>record_hash_a18e2e08d208f8c2431feabede0c3785</td>\n",
       "      <td>\"How can teamwork contribute to success in AI?\"</td>\n",
       "      <td>\"Teamwork can contribute to success in AI by e...</td>\n",
       "      <td>-</td>\n",
       "      <td>{\"record_id\": \"record_hash_a18e2e08d208f8c2431...</td>\n",
       "      <td>{\"n_requests\": 1, \"n_successful_requests\": 1, ...</td>\n",
       "      <td>{\"start_time\": \"2024-04-12T10:15:14.658746\", \"...</td>\n",
       "      <td>2024-04-12T10:15:16.749545</td>\n",
       "      <td>0.9</td>\n",
       "      <td>0.866667</td>\n",
       "      <td>0.1</td>\n",
       "      <td>[{'args': {'prompt': 'How can teamwork contrib...</td>\n",
       "      <td>[{'args': {'source': 'Hopefully the previous c...</td>\n",
       "      <td>[{'args': {'prompt': 'How can teamwork contrib...</td>\n",
       "      <td>2</td>\n",
       "      <td>1701</td>\n",
       "      <td>0.002589</td>\n",
       "    </tr>\n",
       "    <tr>\n",
       "      <th>2</th>\n",
       "      <td>Direct Query Engine</td>\n",
       "      <td>{\"tru_class_info\": {\"name\": \"TruLlama\", \"modul...</td>\n",
       "      <td>RetrieverQueryEngine(llama_index.core.query_en...</td>\n",
       "      <td>record_hash_46dade840d19cec40e20d553d1b67aef</td>\n",
       "      <td>\"What is the importance of networking in AI?\"</td>\n",
       "      <td>\"Networking in AI is crucial as it helps indiv...</td>\n",
       "      <td>-</td>\n",
       "      <td>{\"record_id\": \"record_hash_46dade840d19cec40e2...</td>\n",
       "      <td>{\"n_requests\": 1, \"n_successful_requests\": 1, ...</td>\n",
       "      <td>{\"start_time\": \"2024-04-12T10:15:16.942488\", \"...</td>\n",
       "      <td>2024-04-12T10:15:18.800462</td>\n",
       "      <td>0.9</td>\n",
       "      <td>0.000000</td>\n",
       "      <td>0.1</td>\n",
       "      <td>[{'args': {'prompt': 'What is the importance o...</td>\n",
       "      <td>[{'args': {'source': 'Hopefully the previous c...</td>\n",
       "      <td>[{'args': {'prompt': 'What is the importance o...</td>\n",
       "      <td>1</td>\n",
       "      <td>1700</td>\n",
       "      <td>0.002587</td>\n",
       "    </tr>\n",
       "    <tr>\n",
       "      <th>3</th>\n",
       "      <td>Direct Query Engine</td>\n",
       "      <td>{\"tru_class_info\": {\"name\": \"TruLlama\", \"modul...</td>\n",
       "      <td>RetrieverQueryEngine(llama_index.core.query_en...</td>\n",
       "      <td>record_hash_309a4835241b8f8b820160040a4db11c</td>\n",
       "      <td>\"What are some good habits to develop for a su...</td>\n",
       "      <td>\"Developing good habits in areas such as eatin...</td>\n",
       "      <td>-</td>\n",
       "      <td>{\"record_id\": \"record_hash_309a4835241b8f8b820...</td>\n",
       "      <td>{\"n_requests\": 1, \"n_successful_requests\": 1, ...</td>\n",
       "      <td>{\"start_time\": \"2024-04-12T10:15:18.986831\", \"...</td>\n",
       "      <td>2024-04-12T10:15:20.725988</td>\n",
       "      <td>0.9</td>\n",
       "      <td>1.000000</td>\n",
       "      <td>0.8</td>\n",
       "      <td>[{'args': {'prompt': 'What are some good habit...</td>\n",
       "      <td>[{'args': {'source': 'Hopefully the previous c...</td>\n",
       "      <td>[{'args': {'prompt': 'What are some good habit...</td>\n",
       "      <td>1</td>\n",
       "      <td>1631</td>\n",
       "      <td>0.002465</td>\n",
       "    </tr>\n",
       "    <tr>\n",
       "      <th>4</th>\n",
       "      <td>Direct Query Engine</td>\n",
       "      <td>{\"tru_class_info\": {\"name\": \"TruLlama\", \"modul...</td>\n",
       "      <td>RetrieverQueryEngine(llama_index.core.query_en...</td>\n",
       "      <td>record_hash_060ac508f2fd19ff56c0fdce25373bbd</td>\n",
       "      <td>\"How can altruism be beneficial in building a ...</td>\n",
       "      <td>\"Helping others during one's career journey ca...</td>\n",
       "      <td>-</td>\n",
       "      <td>{\"record_id\": \"record_hash_060ac508f2fd19ff56c...</td>\n",
       "      <td>{\"n_requests\": 1, \"n_successful_requests\": 1, ...</td>\n",
       "      <td>{\"start_time\": \"2024-04-12T10:15:20.916956\", \"...</td>\n",
       "      <td>2024-04-12T10:15:22.172934</td>\n",
       "      <td>0.8</td>\n",
       "      <td>1.000000</td>\n",
       "      <td>0.5</td>\n",
       "      <td>[{'args': {'prompt': 'How can altruism be bene...</td>\n",
       "      <td>[{'args': {'source': 'Hopefully the previous c...</td>\n",
       "      <td>[{'args': {'prompt': 'How can altruism be bene...</td>\n",
       "      <td>1</td>\n",
       "      <td>1610</td>\n",
       "      <td>0.002423</td>\n",
       "    </tr>\n",
       "  </tbody>\n",
       "</table>\n",
       "</div>"
      ],
      "text/plain": [
       "                app_id                                           app_json  \\\n",
       "0  Direct Query Engine  {\"tru_class_info\": {\"name\": \"TruLlama\", \"modul...   \n",
       "1  Direct Query Engine  {\"tru_class_info\": {\"name\": \"TruLlama\", \"modul...   \n",
       "2  Direct Query Engine  {\"tru_class_info\": {\"name\": \"TruLlama\", \"modul...   \n",
       "3  Direct Query Engine  {\"tru_class_info\": {\"name\": \"TruLlama\", \"modul...   \n",
       "4  Direct Query Engine  {\"tru_class_info\": {\"name\": \"TruLlama\", \"modul...   \n",
       "\n",
       "                                                type  \\\n",
       "0  RetrieverQueryEngine(llama_index.core.query_en...   \n",
       "1  RetrieverQueryEngine(llama_index.core.query_en...   \n",
       "2  RetrieverQueryEngine(llama_index.core.query_en...   \n",
       "3  RetrieverQueryEngine(llama_index.core.query_en...   \n",
       "4  RetrieverQueryEngine(llama_index.core.query_en...   \n",
       "\n",
       "                                      record_id  \\\n",
       "0  record_hash_8f31897d2cbf3e6a440f4105d5f75473   \n",
       "1  record_hash_a18e2e08d208f8c2431feabede0c3785   \n",
       "2  record_hash_46dade840d19cec40e20d553d1b67aef   \n",
       "3  record_hash_309a4835241b8f8b820160040a4db11c   \n",
       "4  record_hash_060ac508f2fd19ff56c0fdce25373bbd   \n",
       "\n",
       "                                               input  \\\n",
       "0    \"What are the keys to building a career in AI?\"   \n",
       "1    \"How can teamwork contribute to success in AI?\"   \n",
       "2      \"What is the importance of networking in AI?\"   \n",
       "3  \"What are some good habits to develop for a su...   \n",
       "4  \"How can altruism be beneficial in building a ...   \n",
       "\n",
       "                                              output tags  \\\n",
       "0  \"Learning foundational technical skills, worki...    -   \n",
       "1  \"Teamwork can contribute to success in AI by e...    -   \n",
       "2  \"Networking in AI is crucial as it helps indiv...    -   \n",
       "3  \"Developing good habits in areas such as eatin...    -   \n",
       "4  \"Helping others during one's career journey ca...    -   \n",
       "\n",
       "                                         record_json  \\\n",
       "0  {\"record_id\": \"record_hash_8f31897d2cbf3e6a440...   \n",
       "1  {\"record_id\": \"record_hash_a18e2e08d208f8c2431...   \n",
       "2  {\"record_id\": \"record_hash_46dade840d19cec40e2...   \n",
       "3  {\"record_id\": \"record_hash_309a4835241b8f8b820...   \n",
       "4  {\"record_id\": \"record_hash_060ac508f2fd19ff56c...   \n",
       "\n",
       "                                           cost_json  \\\n",
       "0  {\"n_requests\": 1, \"n_successful_requests\": 1, ...   \n",
       "1  {\"n_requests\": 1, \"n_successful_requests\": 1, ...   \n",
       "2  {\"n_requests\": 1, \"n_successful_requests\": 1, ...   \n",
       "3  {\"n_requests\": 1, \"n_successful_requests\": 1, ...   \n",
       "4  {\"n_requests\": 1, \"n_successful_requests\": 1, ...   \n",
       "\n",
       "                                           perf_json  \\\n",
       "0  {\"start_time\": \"2024-04-12T10:15:12.492610\", \"...   \n",
       "1  {\"start_time\": \"2024-04-12T10:15:14.658746\", \"...   \n",
       "2  {\"start_time\": \"2024-04-12T10:15:16.942488\", \"...   \n",
       "3  {\"start_time\": \"2024-04-12T10:15:18.986831\", \"...   \n",
       "4  {\"start_time\": \"2024-04-12T10:15:20.916956\", \"...   \n",
       "\n",
       "                           ts  Answer Relevance  Groundedness  \\\n",
       "0  2024-04-12T10:15:14.466357               0.8      0.000000   \n",
       "1  2024-04-12T10:15:16.749545               0.9      0.866667   \n",
       "2  2024-04-12T10:15:18.800462               0.9      0.000000   \n",
       "3  2024-04-12T10:15:20.725988               0.9      1.000000   \n",
       "4  2024-04-12T10:15:22.172934               0.8      1.000000   \n",
       "\n",
       "   Context Relevance                             Answer Relevance_calls  \\\n",
       "0                0.9  [{'args': {'prompt': 'What are the keys to bui...   \n",
       "1                0.1  [{'args': {'prompt': 'How can teamwork contrib...   \n",
       "2                0.1  [{'args': {'prompt': 'What is the importance o...   \n",
       "3                0.8  [{'args': {'prompt': 'What are some good habit...   \n",
       "4                0.5  [{'args': {'prompt': 'How can altruism be bene...   \n",
       "\n",
       "                                  Groundedness_calls  \\\n",
       "0  [{'args': {'source': 'PAGE 1Founder, DeepLearn...   \n",
       "1  [{'args': {'source': 'Hopefully the previous c...   \n",
       "2  [{'args': {'source': 'Hopefully the previous c...   \n",
       "3  [{'args': {'source': 'Hopefully the previous c...   \n",
       "4  [{'args': {'source': 'Hopefully the previous c...   \n",
       "\n",
       "                             Context Relevance_calls  latency  total_tokens  \\\n",
       "0  [{'args': {'prompt': 'What are the keys to bui...        1          2057   \n",
       "1  [{'args': {'prompt': 'How can teamwork contrib...        2          1701   \n",
       "2  [{'args': {'prompt': 'What is the importance o...        1          1700   \n",
       "3  [{'args': {'prompt': 'What are some good habit...        1          1631   \n",
       "4  [{'args': {'prompt': 'How can altruism be bene...        1          1610   \n",
       "\n",
       "   total_cost  \n",
       "0    0.003106  \n",
       "1    0.002589  \n",
       "2    0.002587  \n",
       "3    0.002465  \n",
       "4    0.002423  "
      ]
     },
     "execution_count": 17,
     "metadata": {},
     "output_type": "execute_result"
    }
   ],
   "source": [
    "records.head()"
   ]
  },
  {
   "cell_type": "code",
   "execution_count": 18,
   "id": "64310897-179b-4081-aab8-f08a3392a078",
   "metadata": {
    "height": 47,
    "tags": []
   },
   "outputs": [
    {
     "name": "stdout",
     "output_type": "stream",
     "text": [
      "Starting dashboard ...\n",
      "Config file already exists. Skipping writing process.\n",
      "Credentials file already exists. Skipping writing process.\n"
     ]
    },
    {
     "name": "stderr",
     "output_type": "stream",
     "text": [
      "huggingface/tokenizers: The current process just got forked, after parallelism has already been used. Disabling parallelism to avoid deadlocks...\n",
      "To disable this warning, you can either:\n",
      "\t- Avoid using `tokenizers` before the fork if possible\n",
      "\t- Explicitly set the environment variable TOKENIZERS_PARALLELISM=(true | false)\n"
     ]
    },
    {
     "data": {
      "application/vnd.jupyter.widget-view+json": {
       "model_id": "6b17461ffca6411ab26fe3b480da469f",
       "version_major": 2,
       "version_minor": 0
      },
      "text/plain": [
       "Accordion(children=(VBox(children=(VBox(children=(Label(value='STDOUT'), Output())), VBox(children=(Label(valu…"
      ]
     },
     "metadata": {},
     "output_type": "display_data"
    },
    {
     "name": "stdout",
     "output_type": "stream",
     "text": [
      "Dashboard started at http://192.168.1.35:8501 .\n"
     ]
    },
    {
     "data": {
      "text/plain": [
       "<Popen: returncode: None args: ['streamlit', 'run', '--server.headless=True'...>"
      ]
     },
     "execution_count": 18,
     "metadata": {},
     "output_type": "execute_result"
    }
   ],
   "source": [
    "# launches on http://localhost:8501/\n",
    "# in sagemaker go to https://<aws.public.url>/jupyterlab/default/proxy/8501/\n",
    "tru.run_dashboard()"
   ]
  },
  {
   "cell_type": "code",
   "execution_count": null,
   "id": "8a9cad52-975b-4e77-8f4a-a58ee9a646f5",
   "metadata": {},
   "outputs": [],
   "source": [
    "# stop dashboard to save memory\n",
    "tru.stop_dashboard()"
   ]
  },
  {
   "cell_type": "markdown",
   "id": "a4eedcef",
   "metadata": {},
   "source": [
    "## Advanced RAG pipeline"
   ]
  },
  {
   "cell_type": "markdown",
   "id": "9a17ea2b",
   "metadata": {},
   "source": [
    "### 1. Sentence Window retrieval"
   ]
  },
  {
   "cell_type": "code",
   "execution_count": 19,
   "id": "dae4a668-3699-4750-82f7-e53ae1bca3a7",
   "metadata": {
    "height": 64,
    "tags": []
   },
   "outputs": [],
   "source": [
    "from llama_index.llms.openai import OpenAI\n",
    "\n",
    "llm = OpenAI(model=\"gpt-3.5-turbo\", temperature=0.1)"
   ]
  },
  {
   "cell_type": "code",
   "execution_count": 20,
   "id": "78f7678f-358d-448d-b153-11ac8e96a7fc",
   "metadata": {
    "height": 149,
    "tags": []
   },
   "outputs": [],
   "source": [
    "from utils import build_sentence_window_index\n",
    "\n",
    "sentence_index = build_sentence_window_index(\n",
    "    document,\n",
    "    llm,\n",
    "    embed_model=\"local:BAAI/bge-small-en-v1.5\",\n",
    "    save_dir=\"sentence_index\"\n",
    ")"
   ]
  },
  {
   "cell_type": "code",
   "execution_count": 21,
   "id": "72f904c3-9845-4df5-9d2e-e5115160f987",
   "metadata": {
    "height": 64,
    "tags": []
   },
   "outputs": [],
   "source": [
    "from utils import get_sentence_window_query_engine\n",
    "\n",
    "sentence_window_engine = get_sentence_window_query_engine(sentence_index)"
   ]
  },
  {
   "cell_type": "code",
   "execution_count": 22,
   "id": "f59e2314-7cac-42f4-a552-9a8e4db641eb",
   "metadata": {
    "height": 81,
    "tags": []
   },
   "outputs": [
    {
     "name": "stdout",
     "output_type": "stream",
     "text": [
      "Start by identifying AI projects that align with your career goals and are responsible, ethical, and beneficial to people. Consider starting small and gradually increasing the scope, complexity, and impact of your projects over time. Use the steps outlined in the chapters provided to guide you in selecting and scoping AI projects that will contribute to your career development.\n"
     ]
    }
   ],
   "source": [
    "window_response = sentence_window_engine.query(\n",
    "    \"how do I get started on a personal project in AI?\"\n",
    ")\n",
    "print(str(window_response))"
   ]
  },
  {
   "cell_type": "code",
   "execution_count": 23,
   "id": "b5c10917-8846-4e73-838d-6232c906a7db",
   "metadata": {
    "height": 115,
    "tags": []
   },
   "outputs": [],
   "source": [
    "tru.reset_database()\n",
    "\n",
    "tru_recorder_sentence_window = get_prebuilt_trulens_recorder(\n",
    "    sentence_window_engine,\n",
    "    app_id = \"Sentence Window Query Engine\"\n",
    ")"
   ]
  },
  {
   "cell_type": "code",
   "execution_count": 24,
   "id": "11710e67-aba8-479e-8585-c4c611e2c1d2",
   "metadata": {
    "height": 98,
    "tags": []
   },
   "outputs": [
    {
     "name": "stdout",
     "output_type": "stream",
     "text": [
      "What are the keys to building a career in AI?\n",
      "Learning foundational technical skills, working on projects, finding a job, and being part of a supportive community are the keys to building a career in AI.\n"
     ]
    },
    {
     "data": {
      "application/vnd.jupyter.widget-view+json": {
       "model_id": "2d96b6c2580d47b692794649fca8c65e",
       "version_major": 2,
       "version_minor": 0
      },
      "text/plain": [
       "Groundedness per statement in source:   0%|          | 0/1 [00:00<?, ?it/s]"
      ]
     },
     "metadata": {},
     "output_type": "display_data"
    },
    {
     "data": {
      "application/vnd.jupyter.widget-view+json": {
       "model_id": "c6b8b4fb413942b882817be3cf027427",
       "version_major": 2,
       "version_minor": 0
      },
      "text/plain": [
       "Groundedness per statement in source:   0%|          | 0/1 [00:00<?, ?it/s]"
      ]
     },
     "metadata": {},
     "output_type": "display_data"
    },
    {
     "name": "stdout",
     "output_type": "stream",
     "text": [
      "How can teamwork contribute to success in AI?\n",
      "Teammates play a crucial role in the success of AI projects. Working collaboratively with colleagues who are dedicated, continuously learning, and focused on using AI to benefit all people can significantly impact the outcome of a project. The influence of teammates can shape individual behavior and work ethic, leading to a more productive and successful team dynamic.\n"
     ]
    },
    {
     "data": {
      "application/vnd.jupyter.widget-view+json": {
       "model_id": "bf301b75aa7f4977b6d1c5708dbf1a1f",
       "version_major": 2,
       "version_minor": 0
      },
      "text/plain": [
       "Groundedness per statement in source:   0%|          | 0/3 [00:00<?, ?it/s]"
      ]
     },
     "metadata": {},
     "output_type": "display_data"
    },
    {
     "name": "stdout",
     "output_type": "stream",
     "text": [
      "What is the importance of networking in AI?\n",
      "Networking in AI is crucial as it can provide valuable opportunities for informational interviews, which can help individuals gain insights into different job roles within the field. By connecting with professionals who have experience in AI, individuals can gather valuable information, build relationships, and potentially uncover hidden job opportunities. Additionally, networking allows individuals to stay updated on industry trends, expand their knowledge, and establish a supportive community that can offer guidance and mentorship.\n"
     ]
    },
    {
     "data": {
      "application/vnd.jupyter.widget-view+json": {
       "model_id": "d5b66f68453d4e8aaab9c64d01811072",
       "version_major": 2,
       "version_minor": 0
      },
      "text/plain": [
       "Groundedness per statement in source:   0%|          | 0/3 [00:00<?, ?it/s]"
      ]
     },
     "metadata": {},
     "output_type": "display_data"
    },
    {
     "data": {
      "application/vnd.jupyter.widget-view+json": {
       "model_id": "250e9bbaf53d49139c315aba48e761ef",
       "version_major": 2,
       "version_minor": 0
      },
      "text/plain": [
       "Groundedness per statement in source:   0%|          | 0/3 [00:00<?, ?it/s]"
      ]
     },
     "metadata": {},
     "output_type": "display_data"
    },
    {
     "name": "stdout",
     "output_type": "stream",
     "text": [
      "What are some good habits to develop for a successful career?\n",
      "Developing good habits in areas such as eating, exercise, sleep, personal relationships, work, learning, and self-care can help individuals move forward in their careers while maintaining their health.\n"
     ]
    },
    {
     "data": {
      "application/vnd.jupyter.widget-view+json": {
       "model_id": "2a4371ef3c7a4d678916ef760953fea0",
       "version_major": 2,
       "version_minor": 0
      },
      "text/plain": [
       "Groundedness per statement in source:   0%|          | 0/1 [00:00<?, ?it/s]"
      ]
     },
     "metadata": {},
     "output_type": "display_data"
    },
    {
     "name": "stdout",
     "output_type": "stream",
     "text": [
      "How can altruism be beneficial in building a career?\n",
      "Helping others and lifting them up during one's own career journey can lead to better outcomes for oneself.\n"
     ]
    },
    {
     "data": {
      "application/vnd.jupyter.widget-view+json": {
       "model_id": "166f079ac4e44cb7b2fbd2d12c9c5ce6",
       "version_major": 2,
       "version_minor": 0
      },
      "text/plain": [
       "Groundedness per statement in source:   0%|          | 0/1 [00:00<?, ?it/s]"
      ]
     },
     "metadata": {},
     "output_type": "display_data"
    },
    {
     "data": {
      "application/vnd.jupyter.widget-view+json": {
       "model_id": "c6ba878450014a0c8b6b98b62892e923",
       "version_major": 2,
       "version_minor": 0
      },
      "text/plain": [
       "Groundedness per statement in source:   0%|          | 0/1 [00:00<?, ?it/s]"
      ]
     },
     "metadata": {},
     "output_type": "display_data"
    },
    {
     "data": {
      "application/vnd.jupyter.widget-view+json": {
       "model_id": "26569c4d2de24a7595d92e14dc1a2277",
       "version_major": 2,
       "version_minor": 0
      },
      "text/plain": [
       "Groundedness per statement in source:   0%|          | 0/3 [00:00<?, ?it/s]"
      ]
     },
     "metadata": {},
     "output_type": "display_data"
    },
    {
     "data": {
      "application/vnd.jupyter.widget-view+json": {
       "model_id": "5b718fbc01ce417398f3bda0532788f8",
       "version_major": 2,
       "version_minor": 0
      },
      "text/plain": [
       "Groundedness per statement in source:   0%|          | 0/1 [00:00<?, ?it/s]"
      ]
     },
     "metadata": {},
     "output_type": "display_data"
    },
    {
     "name": "stdout",
     "output_type": "stream",
     "text": [
      "What is imposter syndrome and how does it relate to AI?\n",
      "Imposter syndrome is a phenomenon where individuals doubt their accomplishments and have a persistent fear of being exposed as a fraud. In the context of AI, newcomers to the field may experience imposter syndrome, feeling like they do not truly belong in the AI community despite their success. This can be a common experience for many people, including accomplished individuals, and it is important to address and overcome these feelings to continue growing in the field.\n"
     ]
    },
    {
     "data": {
      "application/vnd.jupyter.widget-view+json": {
       "model_id": "35bc969f47134dd4b995e3125a589f7e",
       "version_major": 2,
       "version_minor": 0
      },
      "text/plain": [
       "Groundedness per statement in source:   0%|          | 0/3 [00:00<?, ?it/s]"
      ]
     },
     "metadata": {},
     "output_type": "display_data"
    },
    {
     "name": "stdout",
     "output_type": "stream",
     "text": [
      "Who are some accomplished individuals who have experienced imposter syndrome?\n",
      "Former Facebook COO Sheryl Sandberg, U.S. first lady Michelle Obama, actor Tom Hanks, and Atlassian co-CEO Mike Cannon-Brookes are some accomplished individuals who have experienced imposter syndrome.\n"
     ]
    },
    {
     "data": {
      "application/vnd.jupyter.widget-view+json": {
       "model_id": "25151f5f95e947539386aeee42024466",
       "version_major": 2,
       "version_minor": 0
      },
      "text/plain": [
       "Groundedness per statement in source:   0%|          | 0/1 [00:00<?, ?it/s]"
      ]
     },
     "metadata": {},
     "output_type": "display_data"
    },
    {
     "name": "stdout",
     "output_type": "stream",
     "text": [
      "What is the first step to becoming good at AI?\n",
      "Learning foundational technical skills.\n"
     ]
    },
    {
     "data": {
      "application/vnd.jupyter.widget-view+json": {
       "model_id": "7d5f93b735de41ceb30640059cac734b",
       "version_major": 2,
       "version_minor": 0
      },
      "text/plain": [
       "Groundedness per statement in source:   0%|          | 0/1 [00:00<?, ?it/s]"
      ]
     },
     "metadata": {},
     "output_type": "display_data"
    },
    {
     "data": {
      "application/vnd.jupyter.widget-view+json": {
       "model_id": "8fdd1573c1d947e8a1e10f44c36b1f97",
       "version_major": 2,
       "version_minor": 0
      },
      "text/plain": [
       "Groundedness per statement in source:   0%|          | 0/1 [00:00<?, ?it/s]"
      ]
     },
     "metadata": {},
     "output_type": "display_data"
    },
    {
     "data": {
      "application/vnd.jupyter.widget-view+json": {
       "model_id": "255c7a8a9be64284865bca4e115dcd44",
       "version_major": 2,
       "version_minor": 0
      },
      "text/plain": [
       "Groundedness per statement in source:   0%|          | 0/3 [00:00<?, ?it/s]"
      ]
     },
     "metadata": {},
     "output_type": "display_data"
    },
    {
     "data": {
      "application/vnd.jupyter.widget-view+json": {
       "model_id": "6bd7cff804244ce59fd40f6cd3fa6868",
       "version_major": 2,
       "version_minor": 0
      },
      "text/plain": [
       "Groundedness per statement in source:   0%|          | 0/1 [00:00<?, ?it/s]"
      ]
     },
     "metadata": {},
     "output_type": "display_data"
    },
    {
     "name": "stdout",
     "output_type": "stream",
     "text": [
      "What are some common challenges in AI?\n",
      "Common challenges in AI include the evolving nature of technologies, the need to continuously update skills due to rapid changes in technology, difficulties in project management due to the iterative nature of AI projects, collaborating with stakeholders who may lack expertise in AI, uncertainties in job searching within the AI sector, and inconsistent opinions on AI skills and job roles.\n"
     ]
    },
    {
     "data": {
      "application/vnd.jupyter.widget-view+json": {
       "model_id": "75e8128c029c41de97086d8c2d3297fc",
       "version_major": 2,
       "version_minor": 0
      },
      "text/plain": [
       "Groundedness per statement in source:   0%|          | 0/1 [00:00<?, ?it/s]"
      ]
     },
     "metadata": {},
     "output_type": "display_data"
    },
    {
     "name": "stdout",
     "output_type": "stream",
     "text": [
      "Is it normal to find parts of AI challenging?\n",
      "It is normal to find parts of AI challenging.\n"
     ]
    },
    {
     "data": {
      "application/vnd.jupyter.widget-view+json": {
       "model_id": "fe203ae97c5d426e9501a64bf381b0d4",
       "version_major": 2,
       "version_minor": 0
      },
      "text/plain": [
       "Groundedness per statement in source:   0%|          | 0/1 [00:00<?, ?it/s]"
      ]
     },
     "metadata": {},
     "output_type": "display_data"
    },
    {
     "data": {
      "application/vnd.jupyter.widget-view+json": {
       "model_id": "2b70d0e48ec54248a236468288e57e0a",
       "version_major": 2,
       "version_minor": 0
      },
      "text/plain": [
       "Groundedness per statement in source:   0%|          | 0/1 [00:00<?, ?it/s]"
      ]
     },
     "metadata": {},
     "output_type": "display_data"
    },
    {
     "name": "stdout",
     "output_type": "stream",
     "text": [
      "What is the right AI job for me?\n",
      "The right AI job for you would be one that supports your thriving career, enables you to keep growing, and aligns with your career goals. It is important to research roles and companies online or by talking to friends to find a position that complements your skills and aspirations in the field of artificial intelligence.\n"
     ]
    }
   ],
   "source": [
    "for question in eval_questions:\n",
    "    with tru_recorder_sentence_window as recording:\n",
    "        response = sentence_window_engine.query(question)\n",
    "        print(question)\n",
    "        print(str(response))"
   ]
  },
  {
   "cell_type": "code",
   "execution_count": 25,
   "id": "869d1e55-729b-45f2-a0f9-773c49d4616f",
   "metadata": {
    "height": 30,
    "tags": []
   },
   "outputs": [
    {
     "data": {
      "application/vnd.jupyter.widget-view+json": {
       "model_id": "4fc117b45b4b41e6b7e1f8d981ee593b",
       "version_major": 2,
       "version_minor": 0
      },
      "text/plain": [
       "Groundedness per statement in source:   0%|          | 0/2 [00:00<?, ?it/s]"
      ]
     },
     "metadata": {},
     "output_type": "display_data"
    },
    {
     "data": {
      "text/html": [
       "<div>\n",
       "<style scoped>\n",
       "    .dataframe tbody tr th:only-of-type {\n",
       "        vertical-align: middle;\n",
       "    }\n",
       "\n",
       "    .dataframe tbody tr th {\n",
       "        vertical-align: top;\n",
       "    }\n",
       "\n",
       "    .dataframe thead th {\n",
       "        text-align: right;\n",
       "    }\n",
       "</style>\n",
       "<table border=\"1\" class=\"dataframe\">\n",
       "  <thead>\n",
       "    <tr style=\"text-align: right;\">\n",
       "      <th></th>\n",
       "      <th>Groundedness</th>\n",
       "      <th>Answer Relevance</th>\n",
       "      <th>Context Relevance</th>\n",
       "      <th>latency</th>\n",
       "      <th>total_cost</th>\n",
       "    </tr>\n",
       "    <tr>\n",
       "      <th>app_id</th>\n",
       "      <th></th>\n",
       "      <th></th>\n",
       "      <th></th>\n",
       "      <th></th>\n",
       "      <th></th>\n",
       "    </tr>\n",
       "  </thead>\n",
       "  <tbody>\n",
       "    <tr>\n",
       "      <th>Sentence Window Query Engine</th>\n",
       "      <td>0.718519</td>\n",
       "      <td>0.9</td>\n",
       "      <td>0.44375</td>\n",
       "      <td>1.545455</td>\n",
       "      <td>0.000894</td>\n",
       "    </tr>\n",
       "  </tbody>\n",
       "</table>\n",
       "</div>"
      ],
      "text/plain": [
       "                              Groundedness  Answer Relevance  \\\n",
       "app_id                                                         \n",
       "Sentence Window Query Engine      0.718519               0.9   \n",
       "\n",
       "                              Context Relevance   latency  total_cost  \n",
       "app_id                                                                 \n",
       "Sentence Window Query Engine            0.44375  1.545455    0.000894  "
      ]
     },
     "execution_count": 25,
     "metadata": {},
     "output_type": "execute_result"
    }
   ],
   "source": [
    "tru.get_leaderboard(app_ids=[])"
   ]
  },
  {
   "cell_type": "code",
   "execution_count": null,
   "id": "0b92d0f2-2e80-48d5-92af-b3655eb03ea2",
   "metadata": {
    "height": 47,
    "tags": []
   },
   "outputs": [],
   "source": [
    "# launches on http://localhost:8501/\n",
    "tru.run_dashboard()"
   ]
  },
  {
   "cell_type": "code",
   "execution_count": null,
   "id": "78f9ecdd-81cc-4252-bd29-76b922f4f361",
   "metadata": {},
   "outputs": [],
   "source": [
    "# stop dashboard to save memory\n",
    "tru.stop_dashboard()"
   ]
  },
  {
   "cell_type": "markdown",
   "id": "a92e2c55",
   "metadata": {},
   "source": [
    "### 2. Auto-merging retrieval"
   ]
  },
  {
   "cell_type": "code",
   "execution_count": 26,
   "id": "558c639b-31eb-4c34-b6c4-fe6ae5717733",
   "metadata": {
    "height": 149,
    "tags": []
   },
   "outputs": [
    {
     "data": {
      "application/vnd.jupyter.widget-view+json": {
       "model_id": "0652b43c708b4e959bdcfe8539f7df02",
       "version_major": 2,
       "version_minor": 0
      },
      "text/plain": [
       "Groundedness per statement in source:   0%|          | 0/1 [00:00<?, ?it/s]"
      ]
     },
     "metadata": {},
     "output_type": "display_data"
    }
   ],
   "source": [
    "from utils import build_automerging_index\n",
    "\n",
    "automerging_index = build_automerging_index(\n",
    "    documents,\n",
    "    llm,\n",
    "    embed_model=\"local:BAAI/bge-small-en-v1.5\",\n",
    "    save_dir=\"merging_index\"\n",
    ")"
   ]
  },
  {
   "cell_type": "code",
   "execution_count": 27,
   "id": "b32265f2-0247-42df-9abe-97d52f69edcf",
   "metadata": {
    "height": 98,
    "tags": []
   },
   "outputs": [],
   "source": [
    "from utils import get_automerging_query_engine\n",
    "\n",
    "automerging_query_engine = get_automerging_query_engine(\n",
    "    automerging_index,\n",
    ")"
   ]
  },
  {
   "cell_type": "code",
   "execution_count": 28,
   "id": "918ed568-220e-4c7c-aa60-cfa58ef1fcbd",
   "metadata": {
    "height": 81,
    "tags": []
   },
   "outputs": [
    {
     "name": "stdout",
     "output_type": "stream",
     "text": [
      "Building a portfolio of projects involves progressing from simple to complex undertakings over time. Communication is essential in explaining the value of your work to others and gaining their trust and support. By effectively communicating the potential of your projects, you can engage colleagues, mentors, and managers, who can provide valuable feedback and guidance.\n"
     ]
    }
   ],
   "source": [
    "auto_merging_response = automerging_query_engine.query(\n",
    "    \"How do I build a portfolio of AI projects?\"\n",
    ")\n",
    "print(str(auto_merging_response))"
   ]
  },
  {
   "cell_type": "code",
   "execution_count": 29,
   "id": "db4f18a9-7b8a-4ae2-ab11-3a6a941a5afc",
   "metadata": {
    "height": 81,
    "tags": []
   },
   "outputs": [],
   "source": [
    "# tru.reset_database()\n",
    "\n",
    "tru_recorder_automerging = get_prebuilt_trulens_recorder(automerging_query_engine,\n",
    "                                                         app_id=\"Automerging Query Engine\")"
   ]
  },
  {
   "cell_type": "code",
   "execution_count": 30,
   "id": "99cc2cfe-7096-4fa0-aa72-094bebac35a3",
   "metadata": {
    "height": 98,
    "tags": []
   },
   "outputs": [
    {
     "name": "stdout",
     "output_type": "stream",
     "text": [
      "What are the keys to building a career in AI?\n",
      "The keys to building a career in AI include learning foundational technical skills, working on projects, finding a job, and being part of a supportive community.\n"
     ]
    },
    {
     "data": {
      "application/vnd.jupyter.widget-view+json": {
       "model_id": "121110b830c64892be1adfc8b8eab41b",
       "version_major": 2,
       "version_minor": 0
      },
      "text/plain": [
       "Groundedness per statement in source:   0%|          | 0/1 [00:00<?, ?it/s]"
      ]
     },
     "metadata": {},
     "output_type": "display_data"
    },
    {
     "name": "stdout",
     "output_type": "stream",
     "text": [
      "How can teamwork contribute to success in AI?\n",
      "Teamwork can contribute to success in AI by enabling individuals to work on larger projects that require collaboration and coordination. This allows for the pooling of diverse skills and expertise, leading to more comprehensive solutions and innovative approaches. Effective teamwork also fosters a supportive environment where team members can learn from each other, share ideas, and collectively tackle complex challenges in AI projects.\n"
     ]
    },
    {
     "data": {
      "application/vnd.jupyter.widget-view+json": {
       "model_id": "47e669e3579b47129fb3b780cd2d5c3b",
       "version_major": 2,
       "version_minor": 0
      },
      "text/plain": [
       "Groundedness per statement in source:   0%|          | 0/3 [00:00<?, ?it/s]"
      ]
     },
     "metadata": {},
     "output_type": "display_data"
    },
    {
     "name": "stdout",
     "output_type": "stream",
     "text": [
      "What is the importance of networking in AI?\n",
      "Networking in AI is crucial as it allows individuals to build relationships within the community, gain valuable information, and receive referrals to potential employers. It provides opportunities to connect with like-minded professionals, seek advice, and receive support when needed. Building a strong professional network can be instrumental in advancing one's career and accessing new opportunities in the field of AI.\n"
     ]
    },
    {
     "data": {
      "application/vnd.jupyter.widget-view+json": {
       "model_id": "12befad8a17b4f7aa5de187cf5ab120d",
       "version_major": 2,
       "version_minor": 0
      },
      "text/plain": [
       "Groundedness per statement in source:   0%|          | 0/3 [00:00<?, ?it/s]"
      ]
     },
     "metadata": {},
     "output_type": "display_data"
    },
    {
     "name": "stdout",
     "output_type": "stream",
     "text": [
      "> Merging 1 nodes into parent node.\n",
      "> Parent node id: f3f5335a-773d-4e08-bdb2-8b3da80d8fea.\n",
      "> Parent node text: Many people start by working on small projects in their spare time. With initial successes — even...\n",
      "\n",
      "What are some good habits to develop for a successful career?\n",
      "Good habits to develop for a successful career include maintaining good habits in eating, exercise, sleep, personal relationships, work, learning, and self-care. These habits can help individuals move forward in their careers while also staying healthy and balanced.\n"
     ]
    },
    {
     "data": {
      "application/vnd.jupyter.widget-view+json": {
       "model_id": "ee5bbd347d4140f993f574870571c323",
       "version_major": 2,
       "version_minor": 0
      },
      "text/plain": [
       "Groundedness per statement in source:   0%|          | 0/2 [00:00<?, ?it/s]"
      ]
     },
     "metadata": {},
     "output_type": "display_data"
    },
    {
     "name": "stdout",
     "output_type": "stream",
     "text": [
      "> Merging 1 nodes into parent node.\n",
      "> Parent node id: f3f5335a-773d-4e08-bdb2-8b3da80d8fea.\n",
      "> Parent node text: Many people start by working on small projects in their spare time. With initial successes — even...\n",
      "\n",
      "How can altruism be beneficial in building a career?\n",
      "By aiming to lift others during every step of their own journey, individuals can achieve better outcomes for themselves. This approach can help in building a career by fostering positive relationships, creating a supportive network, and gaining a reputation for being helpful and collaborative. Additionally, practicing altruism can lead to personal growth, increased job satisfaction, and a sense of fulfillment, all of which can contribute to long-term success in one's career.\n"
     ]
    },
    {
     "data": {
      "application/vnd.jupyter.widget-view+json": {
       "model_id": "7b516bae1c554b4cae6a58c5ee196e8d",
       "version_major": 2,
       "version_minor": 0
      },
      "text/plain": [
       "Groundedness per statement in source:   0%|          | 0/3 [00:00<?, ?it/s]"
      ]
     },
     "metadata": {},
     "output_type": "display_data"
    },
    {
     "name": "stdout",
     "output_type": "stream",
     "text": [
      "> Merging 5 nodes into parent node.\n",
      "> Parent node id: dec509fb-4f1e-409a-a993-c3a6989888cc.\n",
      "> Parent node text: PAGE 37Overcoming Imposter \n",
      "SyndromeCHAPTER 11\n",
      "\n",
      "PAGE 38Before we dive into the final chapter of t...\n",
      "\n",
      "> Merging 3 nodes into parent node.\n",
      "> Parent node id: effc8901-a0ab-4f93-8b0c-c9dbfca82e9a.\n",
      "> Parent node text: Doing so will help you, too, \n",
      "as others behind you will recognize your expertise and also encoura...\n",
      "\n",
      "> Merging 2 nodes into parent node.\n",
      "> Parent node id: 754ea455-d739-4fa9-9c8f-e86651602888.\n",
      "> Parent node text: PAGE 37Overcoming Imposter \n",
      "SyndromeCHAPTER 11\n",
      "\n",
      "PAGE 38Before we dive into the final chapter of t...\n",
      "\n",
      "What is imposter syndrome and how does it relate to AI?\n",
      "Imposter syndrome is when an individual doubts their accomplishments and has a persistent fear of being exposed as a fraud, despite evidence of their competence. In the context of AI, newcomers to the field may experience imposter syndrome, feeling like they do not truly belong in the AI community even if they have achieved success. This phenomenon can affect individuals regardless of their level of expertise or accomplishments in the field of artificial intelligence.\n"
     ]
    },
    {
     "data": {
      "application/vnd.jupyter.widget-view+json": {
       "model_id": "783962adcd3a4f5e955dd5468920b5c6",
       "version_major": 2,
       "version_minor": 0
      },
      "text/plain": [
       "Groundedness per statement in source:   0%|          | 0/3 [00:00<?, ?it/s]"
      ]
     },
     "metadata": {},
     "output_type": "display_data"
    },
    {
     "name": "stdout",
     "output_type": "stream",
     "text": [
      "> Merging 3 nodes into parent node.\n",
      "> Parent node id: dec509fb-4f1e-409a-a993-c3a6989888cc.\n",
      "> Parent node text: PAGE 37Overcoming Imposter \n",
      "SyndromeCHAPTER 11\n",
      "\n",
      "PAGE 38Before we dive into the final chapter of t...\n",
      "\n",
      "> Merging 3 nodes into parent node.\n",
      "> Parent node id: effc8901-a0ab-4f93-8b0c-c9dbfca82e9a.\n",
      "> Parent node text: Doing so will help you, too, \n",
      "as others behind you will recognize your expertise and also encoura...\n",
      "\n",
      "> Merging 2 nodes into parent node.\n",
      "> Parent node id: 754ea455-d739-4fa9-9c8f-e86651602888.\n",
      "> Parent node text: PAGE 37Overcoming Imposter \n",
      "SyndromeCHAPTER 11\n",
      "\n",
      "PAGE 38Before we dive into the final chapter of t...\n",
      "\n",
      "Who are some accomplished individuals who have experienced imposter syndrome?\n",
      "Former Facebook COO Sheryl Sandberg, U.S. first lady Michelle Obama, actor Tom Hanks, and Atlassian co-CEO Mike Cannon-Brookes are some accomplished individuals who have experienced imposter syndrome.\n"
     ]
    },
    {
     "data": {
      "application/vnd.jupyter.widget-view+json": {
       "model_id": "ac86fe0aa7a6459a8208782cceef929f",
       "version_major": 2,
       "version_minor": 0
      },
      "text/plain": [
       "Groundedness per statement in source:   0%|          | 0/1 [00:00<?, ?it/s]"
      ]
     },
     "metadata": {},
     "output_type": "display_data"
    },
    {
     "name": "stdout",
     "output_type": "stream",
     "text": [
      "What is the first step to becoming good at AI?\n",
      "The first step to becoming good at AI is learning foundational technical skills.\n"
     ]
    },
    {
     "data": {
      "application/vnd.jupyter.widget-view+json": {
       "model_id": "c2ff21dd0d0a482fa00742e067a73533",
       "version_major": 2,
       "version_minor": 0
      },
      "text/plain": [
       "Groundedness per statement in source:   0%|          | 0/1 [00:00<?, ?it/s]"
      ]
     },
     "metadata": {},
     "output_type": "display_data"
    },
    {
     "name": "stdout",
     "output_type": "stream",
     "text": [
      "> Filling in node. Node id: 49b66764-f56b-450a-a544-b942c2888b2b> Node text: When I was younger, I used to \n",
      "execute on the first idea I was excited about. Sometimes \n",
      "this wor...\n",
      "\n",
      "> Merging 4 nodes into parent node.\n",
      "> Parent node id: 98cffeec-6990-4429-a832-e670bf2a5a0d.\n",
      "> Parent node text: PAGE 14Scoping Successful \n",
      "AI ProjectsCHAPTER 4\n",
      "PROJECTS\n",
      "\n",
      "PAGE 15One of the most important skills...\n",
      "\n",
      "What are some common challenges in AI?\n",
      "Some common challenges in AI include the highly iterative nature of AI projects, uncertainty in estimating the time needed to achieve target accuracy, the need for further iteration even after hitting the target, collaboration with stakeholders lacking AI expertise, and the importance of working on responsible, ethical, and beneficial projects.\n"
     ]
    },
    {
     "data": {
      "application/vnd.jupyter.widget-view+json": {
       "model_id": "f556760bb89e481386efb22a307d3f63",
       "version_major": 2,
       "version_minor": 0
      },
      "text/plain": [
       "Groundedness per statement in source:   0%|          | 0/1 [00:00<?, ?it/s]"
      ]
     },
     "metadata": {},
     "output_type": "display_data"
    },
    {
     "name": "stdout",
     "output_type": "stream",
     "text": [
      "> Merging 3 nodes into parent node.\n",
      "> Parent node id: dec509fb-4f1e-409a-a993-c3a6989888cc.\n",
      "> Parent node text: PAGE 37Overcoming Imposter \n",
      "SyndromeCHAPTER 11\n",
      "\n",
      "PAGE 38Before we dive into the final chapter of t...\n",
      "\n",
      "Is it normal to find parts of AI challenging?\n",
      "It is normal to find parts of AI challenging.\n"
     ]
    },
    {
     "data": {
      "application/vnd.jupyter.widget-view+json": {
       "model_id": "a317bb18983a4439abcbe6bda7a0ff81",
       "version_major": 2,
       "version_minor": 0
      },
      "text/plain": [
       "Groundedness per statement in source:   0%|          | 0/1 [00:00<?, ?it/s]"
      ]
     },
     "metadata": {},
     "output_type": "display_data"
    },
    {
     "name": "stdout",
     "output_type": "stream",
     "text": [
      "What is the right AI job for me?\n",
      "The right AI job for you is one that aligns with your career goals and allows you to leverage your existing skills and experiences. It should provide opportunities for skill progression and growth in the field of AI. Conducting informational interviews can help you find the right job that suits your background and aspirations in the AI industry.\n"
     ]
    },
    {
     "data": {
      "application/vnd.jupyter.widget-view+json": {
       "model_id": "0bd8940117584c7182f630761662a0e4",
       "version_major": 2,
       "version_minor": 0
      },
      "text/plain": [
       "Groundedness per statement in source:   0%|          | 0/3 [00:00<?, ?it/s]"
      ]
     },
     "metadata": {},
     "output_type": "display_data"
    },
    {
     "data": {
      "application/vnd.jupyter.widget-view+json": {
       "model_id": "63f64b93729c4edb936da0f2cd66605e",
       "version_major": 2,
       "version_minor": 0
      },
      "text/plain": [
       "Groundedness per statement in source:   0%|          | 0/1 [00:00<?, ?it/s]"
      ]
     },
     "metadata": {},
     "output_type": "display_data"
    },
    {
     "data": {
      "application/vnd.jupyter.widget-view+json": {
       "model_id": "fe1781cd125f4fb0b7fe9ea0f48a7bec",
       "version_major": 2,
       "version_minor": 0
      },
      "text/plain": [
       "Groundedness per statement in source:   0%|          | 0/1 [00:00<?, ?it/s]"
      ]
     },
     "metadata": {},
     "output_type": "display_data"
    },
    {
     "data": {
      "application/vnd.jupyter.widget-view+json": {
       "model_id": "138f0174ce49479ba74135eb234ed53c",
       "version_major": 2,
       "version_minor": 0
      },
      "text/plain": [
       "Groundedness per statement in source:   0%|          | 0/1 [00:00<?, ?it/s]"
      ]
     },
     "metadata": {},
     "output_type": "display_data"
    },
    {
     "data": {
      "application/vnd.jupyter.widget-view+json": {
       "model_id": "4aee7572b497477b85633057f0c98a48",
       "version_major": 2,
       "version_minor": 0
      },
      "text/plain": [
       "Groundedness per statement in source:   0%|          | 0/1 [00:00<?, ?it/s]"
      ]
     },
     "metadata": {},
     "output_type": "display_data"
    },
    {
     "data": {
      "application/vnd.jupyter.widget-view+json": {
       "model_id": "62e30553a8c24f14b27094e642780734",
       "version_major": 2,
       "version_minor": 0
      },
      "text/plain": [
       "Groundedness per statement in source:   0%|          | 0/1 [00:00<?, ?it/s]"
      ]
     },
     "metadata": {},
     "output_type": "display_data"
    },
    {
     "data": {
      "application/vnd.jupyter.widget-view+json": {
       "model_id": "e23c446a3d374e03a7ce594a40c880e3",
       "version_major": 2,
       "version_minor": 0
      },
      "text/plain": [
       "Groundedness per statement in source:   0%|          | 0/2 [00:00<?, ?it/s]"
      ]
     },
     "metadata": {},
     "output_type": "display_data"
    },
    {
     "data": {
      "application/vnd.jupyter.widget-view+json": {
       "model_id": "4b31f98c3e0b4dec92d22570d6d578d2",
       "version_major": 2,
       "version_minor": 0
      },
      "text/plain": [
       "Groundedness per statement in source:   0%|          | 0/2 [00:00<?, ?it/s]"
      ]
     },
     "metadata": {},
     "output_type": "display_data"
    },
    {
     "name": "stderr",
     "output_type": "stream",
     "text": [
      "\n",
      "Pace has a long delay of 37.742495 seconds. There might have been a burst of\n",
      "requests which may become a problem for the receiver of whatever is being paced.\n",
      "Consider reducing the `seconds_per_period` (currently 60.0 [seconds]) over which to\n",
      "maintain pace to reduce burstiness. \" Alternatively reduce `marks_per_second`\n",
      "(currently 1.0 [1/second]) to reduce the number of marks\n",
      "per second in that period. \n",
      "\n"
     ]
    },
    {
     "data": {
      "application/vnd.jupyter.widget-view+json": {
       "model_id": "eebe3a677201400fab276674226bfc55",
       "version_major": 2,
       "version_minor": 0
      },
      "text/plain": [
       "Groundedness per statement in source:   0%|          | 0/3 [00:00<?, ?it/s]"
      ]
     },
     "metadata": {},
     "output_type": "display_data"
    },
    {
     "data": {
      "application/vnd.jupyter.widget-view+json": {
       "model_id": "960a9fea548a403f8759ca596fb05381",
       "version_major": 2,
       "version_minor": 0
      },
      "text/plain": [
       "Groundedness per statement in source:   0%|          | 0/3 [00:00<?, ?it/s]"
      ]
     },
     "metadata": {},
     "output_type": "display_data"
    },
    {
     "data": {
      "application/vnd.jupyter.widget-view+json": {
       "model_id": "268ee8731ac5402082a7cd8f0438795e",
       "version_major": 2,
       "version_minor": 0
      },
      "text/plain": [
       "Groundedness per statement in source:   0%|          | 0/3 [00:00<?, ?it/s]"
      ]
     },
     "metadata": {},
     "output_type": "display_data"
    },
    {
     "data": {
      "application/vnd.jupyter.widget-view+json": {
       "model_id": "9724c09b71c2481081c4fb8585dcc945",
       "version_major": 2,
       "version_minor": 0
      },
      "text/plain": [
       "Groundedness per statement in source:   0%|          | 0/3 [00:00<?, ?it/s]"
      ]
     },
     "metadata": {},
     "output_type": "display_data"
    },
    {
     "data": {
      "application/vnd.jupyter.widget-view+json": {
       "model_id": "ec7eb1f414d84e1cbe7ff0d967f8d77f",
       "version_major": 2,
       "version_minor": 0
      },
      "text/plain": [
       "Groundedness per statement in source:   0%|          | 0/3 [00:00<?, ?it/s]"
      ]
     },
     "metadata": {},
     "output_type": "display_data"
    }
   ],
   "source": [
    "for question in eval_questions:\n",
    "    with tru_recorder_automerging as recording:\n",
    "        response = automerging_query_engine.query(question)\n",
    "        print(question)\n",
    "        print(response)"
   ]
  },
  {
   "cell_type": "code",
   "execution_count": null,
   "id": "5404dec1-60ca-42fa-ac13-793a5423aa64",
   "metadata": {
    "height": 30,
    "tags": []
   },
   "outputs": [],
   "source": [
    "tru.get_leaderboard(app_ids=[])"
   ]
  },
  {
   "cell_type": "code",
   "execution_count": null,
   "id": "0f545d41-0d98-446f-8214-8b59bef08d6c",
   "metadata": {
    "height": 47,
    "tags": []
   },
   "outputs": [],
   "source": [
    "# launches on http://localhost:8501/\n",
    "tru.run_dashboard()"
   ]
  },
  {
   "cell_type": "code",
   "execution_count": null,
   "id": "d5b9ccc1-16f8-48ed-99f7-b0d79c715eb6",
   "metadata": {},
   "outputs": [],
   "source": [
    "# stop dashboard to save memory\n",
    "tru.stop_dashboard()"
   ]
  },
  {
   "cell_type": "code",
   "execution_count": null,
   "id": "93e34b54-64dc-48bd-baff-4659c4b842d2",
   "metadata": {},
   "outputs": [],
   "source": []
  }
 ],
 "metadata": {
  "kernelspec": {
   "display_name": "Python 3 (ipykernel)",
   "language": "python",
   "name": "python3"
  },
  "language_info": {
   "codemirror_mode": {
    "name": "ipython",
    "version": 3
   },
   "file_extension": ".py",
   "mimetype": "text/x-python",
   "name": "python",
   "nbconvert_exporter": "python",
   "pygments_lexer": "ipython3",
   "version": "3.9.13"
  }
 },
 "nbformat": 4,
 "nbformat_minor": 5
}
